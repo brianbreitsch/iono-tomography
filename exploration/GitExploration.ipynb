{
 "metadata": {
  "css": [
   ""
  ],
  "name": "",
  "signature": "sha256:0ac4718f01c2c9f3e4949f6ca93c2d6826feac35ae8d07e1c94f6f0f53eca048"
 },
 "nbformat": 3,
 "nbformat_minor": 0,
 "worksheets": [
  {
   "cells": [
    {
     "cell_type": "code",
     "collapsed": false,
     "input": [
      "%%bash\n",
      "\n",
      "git config --global user.name\n",
      "git config --global user.email\n",
      "git config --global core.editor /usr/bin/vim\n",
      "git config --global color.ui \"auto\""
     ],
     "language": "python",
     "metadata": {},
     "outputs": [
      {
       "output_type": "stream",
       "stream": "stdout",
       "text": [
        "brocktane\n",
        "breitsbw@miamioh.edu\n"
       ]
      }
     ],
     "prompt_number": 9
    },
    {
     "cell_type": "markdown",
     "metadata": {},
     "source": [
      "Set git to use the credential memory cache so we don't have to retype passwords too frequently. On Linux, you should run the following (note that this requires git version 1.7.10 or newer):"
     ]
    },
    {
     "cell_type": "code",
     "collapsed": false,
     "input": [
      "%%bash \n",
      "git config --global credential.helper cache\n",
      "# Set the cache to timeout after 2 hours (setting is in seconds)\n",
      "git config --global credential.helper 'cache --timeout=7200'"
     ],
     "language": "python",
     "metadata": {},
     "outputs": [],
     "prompt_number": 10
    },
    {
     "cell_type": "code",
     "collapsed": false,
     "input": [
      "!git"
     ],
     "language": "python",
     "metadata": {},
     "outputs": [
      {
       "output_type": "stream",
       "stream": "stdout",
       "text": [
        "usage: git [--version] [--help] [-C <path>] [-c name=value]\r\n",
        "           [--exec-path[=<path>]] [--html-path] [--man-path] [--info-path]\r\n",
        "           [-p|--paginate|--no-pager] [--no-replace-objects] [--bare]\r\n",
        "           [--git-dir=<path>] [--work-tree=<path>] [--namespace=<name>]\r\n",
        "           <command> [<args>]\r\n",
        "\r\n",
        "The most commonly used git commands are:\r\n",
        "   add        Add file contents to the index\r\n",
        "   bisect     Find by binary search the change that introduced a bug\r\n",
        "   branch     List, create, or delete branches\r\n",
        "   checkout   Checkout a branch or paths to the working tree\r\n",
        "   clone      Clone a repository into a new directory\r\n",
        "   commit     Record changes to the repository\r\n",
        "   diff       Show changes between commits, commit and working tree, etc\r\n",
        "   fetch      Download objects and refs from another repository\r\n",
        "   grep       Print lines matching a pattern\r\n",
        "   init       Create an empty Git repository or reinitialize an existing one\r\n",
        "   log        Show commit logs\r\n",
        "   merge      Join two or more development histories together\r\n",
        "   mv         Move or rename a file, a directory, or a symlink\r\n",
        "   pull       Fetch from and integrate with another repository or a local branch\r\n",
        "   push       Update remote refs along with associated objects\r\n",
        "   rebase     Forward-port local commits to the updated upstream head\r\n",
        "   reset      Reset current HEAD to the specified state\r\n",
        "   rm         Remove files from the working tree and from the index\r\n",
        "   show       Show various types of objects\r\n",
        "   status     Show the working tree status\r\n",
        "   tag        Create, list, delete or verify a tag object signed with GPG\r\n",
        "\r\n",
        "'git help -a' and 'git help -g' lists available subcommands and some\r\n",
        "concept guides. See 'git help <command>' or 'git help <concept>'\r\n",
        "to read about a specific subcommand or concept.\r\n"
       ]
      }
     ],
     "prompt_number": 11
    },
    {
     "cell_type": "code",
     "collapsed": false,
     "input": [
      "%%bash\n",
      "rm -rf gittest\n",
      "git init gittest"
     ],
     "language": "python",
     "metadata": {},
     "outputs": [
      {
       "output_type": "stream",
       "stream": "stdout",
       "text": [
        "Initialized empty Git repository in /Users/brocktane/Projects/IonosphericTomography/notebooks/gittest/.git/\n"
       ]
      }
     ],
     "prompt_number": 15
    },
    {
     "cell_type": "code",
     "collapsed": false,
     "input": [
      "%%bash\n",
      "cd gittest/\n",
      "ls -a"
     ],
     "language": "python",
     "metadata": {},
     "outputs": [
      {
       "output_type": "stream",
       "stream": "stdout",
       "text": [
        ".\n",
        "..\n",
        ".git\n"
       ]
      }
     ],
     "prompt_number": 18
    },
    {
     "cell_type": "code",
     "collapsed": false,
     "input": [
      "%%bash\n",
      "cd gittest/.git/\n",
      "ls -a"
     ],
     "language": "python",
     "metadata": {},
     "outputs": [
      {
       "output_type": "stream",
       "stream": "stdout",
       "text": [
        ".\n",
        "..\n",
        "HEAD\n",
        "branches\n",
        "config\n",
        "description\n",
        "hooks\n",
        "info\n",
        "objects\n",
        "refs\n"
       ]
      }
     ],
     "prompt_number": 19
    },
    {
     "cell_type": "code",
     "collapsed": false,
     "input": [
      "%%bash\n",
      "cd gittest/\n",
      "echo \"some text\" > text.txt\n",
      "git add text.txt\n",
      "git status"
     ],
     "language": "python",
     "metadata": {},
     "outputs": [
      {
       "output_type": "stream",
       "stream": "stdout",
       "text": [
        "On branch master\n",
        "\n",
        "Initial commit\n",
        "\n",
        "Changes to be committed:\n",
        "  (use \"git rm --cached <file>...\" to unstage)\n",
        "\n",
        "\tnew file:   text.txt\n",
        "\n"
       ]
      }
     ],
     "prompt_number": 23
    },
    {
     "cell_type": "code",
     "collapsed": false,
     "input": [
      "%%bash\n",
      "cd gittest/\n",
      "git rm --cached text.txt"
     ],
     "language": "python",
     "metadata": {},
     "outputs": [
      {
       "output_type": "stream",
       "stream": "stdout",
       "text": [
        "rm 'text.txt'\n"
       ]
      }
     ],
     "prompt_number": 21
    },
    {
     "cell_type": "code",
     "collapsed": false,
     "input": [
      "%%bash\n",
      "cd gittest/\n",
      "git status"
     ],
     "language": "python",
     "metadata": {},
     "outputs": [
      {
       "output_type": "stream",
       "stream": "stdout",
       "text": [
        "On branch master\n",
        "\n",
        "Initial commit\n",
        "\n",
        "Untracked files:\n",
        "  (use \"git add <file>...\" to include in what will be committed)\n",
        "\n",
        "\ttext.txt\n",
        "\n",
        "nothing added to commit but untracked files present (use \"git add\" to track)\n"
       ]
      }
     ],
     "prompt_number": 22
    },
    {
     "cell_type": "code",
     "collapsed": false,
     "input": [
      "%%bash\n",
      "cd gittest/\n",
      "git add text.txt\n",
      "git commit -a -m\"first commit\""
     ],
     "language": "python",
     "metadata": {},
     "outputs": [
      {
       "output_type": "stream",
       "stream": "stdout",
       "text": [
        "[master (root-commit) c1b26b0] first commit\n",
        " 1 file changed, 1 insertion(+)\n",
        " create mode 100644 text.txt\n"
       ]
      }
     ],
     "prompt_number": 24
    },
    {
     "cell_type": "code",
     "collapsed": false,
     "input": [
      "%%bash\n",
      "cd gittest/\n",
      "git log"
     ],
     "language": "python",
     "metadata": {},
     "outputs": [
      {
       "output_type": "stream",
       "stream": "stdout",
       "text": [
        "commit c1b26b0664ce217ac0e5be739ae50dcdb8fc1dea\n",
        "Author: brocktane <breitsbw@miamioh.edu>\n",
        "Date:   Sun Jun 22 12:46:54 2014 -0500\n",
        "\n",
        "    first commit\n"
       ]
      }
     ],
     "prompt_number": 25
    },
    {
     "cell_type": "code",
     "collapsed": false,
     "input": [
      "%%bash\n",
      "cd gittest/\n",
      "echo \"\\nsecond round\" >> text.txt"
     ],
     "language": "python",
     "metadata": {},
     "outputs": [],
     "prompt_number": 26
    },
    {
     "cell_type": "code",
     "collapsed": false,
     "input": [
      "%%bash\n",
      "cd gittest/\n",
      "git diff"
     ],
     "language": "python",
     "metadata": {},
     "outputs": [
      {
       "output_type": "stream",
       "stream": "stdout",
       "text": [
        "diff --git a/text.txt b/text.txt\n",
        "index 7b57bd2..c9e2074 100644\n",
        "--- a/text.txt\n",
        "+++ b/text.txt\n",
        "@@ -1 +1,2 @@\n",
        " some text\n",
        "+\\nsecond round\n"
       ]
      }
     ],
     "prompt_number": 27
    },
    {
     "cell_type": "code",
     "collapsed": false,
     "input": [
      "%%bash\n",
      "cd gittest/\n",
      "git commit -a -m\"I have made great progress on this critical matter\""
     ],
     "language": "python",
     "metadata": {},
     "outputs": [
      {
       "output_type": "stream",
       "stream": "stdout",
       "text": [
        "[master ec103b2] I have made great progress on this critical matter\n",
        " 1 file changed, 1 insertion(+)\n"
       ]
      }
     ],
     "prompt_number": 28
    },
    {
     "cell_type": "code",
     "collapsed": false,
     "input": [
      "%%bash\n",
      "cd gittest/\n",
      "git log"
     ],
     "language": "python",
     "metadata": {},
     "outputs": [
      {
       "output_type": "stream",
       "stream": "stdout",
       "text": [
        "commit ec103b2d473b351542e1265974de2d178f0a301f\n",
        "Author: brocktane <breitsbw@miamioh.edu>\n",
        "Date:   Sun Jun 22 12:50:22 2014 -0500\n",
        "\n",
        "    I have made great progress on this critical matter\n",
        "\n",
        "commit c1b26b0664ce217ac0e5be739ae50dcdb8fc1dea\n",
        "Author: brocktane <breitsbw@miamioh.edu>\n",
        "Date:   Sun Jun 22 12:46:54 2014 -0500\n",
        "\n",
        "    first commit\n"
       ]
      }
     ],
     "prompt_number": 29
    },
    {
     "cell_type": "code",
     "collapsed": false,
     "input": [
      "%%bash\n",
      "cd gittest/\n",
      "git log --oneline --topo-order --graph"
     ],
     "language": "python",
     "metadata": {},
     "outputs": [
      {
       "output_type": "stream",
       "stream": "stdout",
       "text": [
        "* ec103b2 I have made great progress on this critical matter\n",
        "* c1b26b0 first commit\n"
       ]
      }
     ],
     "prompt_number": 31
    },
    {
     "cell_type": "code",
     "collapsed": false,
     "input": [
      "%%bash\n",
      "cd gittest/\n",
      "# create an alias 'slog' for 'summarized log'\n",
      "git config --global alias.slog \"log --oneline --topo-order --graph\"\n",
      "# and now use it\n",
      "git slog"
     ],
     "language": "python",
     "metadata": {},
     "outputs": [
      {
       "output_type": "stream",
       "stream": "stdout",
       "text": [
        "* ec103b2 I have made great progress on this critical matter\n",
        "* c1b26b0 first commit\n"
       ]
      }
     ],
     "prompt_number": 32
    },
    {
     "cell_type": "code",
     "collapsed": false,
     "input": [
      "%%bash\n",
      "cd gittest/\n",
      "git mv text.txt file.txt\n",
      "git status"
     ],
     "language": "python",
     "metadata": {},
     "outputs": [
      {
       "output_type": "stream",
       "stream": "stdout",
       "text": [
        "On branch master\n",
        "Changes to be committed:\n",
        "  (use \"git reset HEAD <file>...\" to unstage)\n",
        "\n",
        "\trenamed:    text.txt -> file.txt\n",
        "\n"
       ]
      }
     ],
     "prompt_number": 33
    },
    {
     "cell_type": "code",
     "collapsed": false,
     "input": [
      "%%bash\n",
      "cd gittest/\n",
      "git commit -a -m\"new name. better game.\"\n",
      "git slog"
     ],
     "language": "python",
     "metadata": {},
     "outputs": [
      {
       "output_type": "stream",
       "stream": "stdout",
       "text": [
        "[master f564b8e] new name. better game.\n",
        " 1 file changed, 0 insertions(+), 0 deletions(-)\n",
        " rename text.txt => file.txt (100%)\n",
        "* f564b8e new name. better game.\n",
        "* ec103b2 I have made great progress on this critical matter\n",
        "* c1b26b0 first commit\n"
       ]
      }
     ],
     "prompt_number": 34
    },
    {
     "cell_type": "code",
     "collapsed": false,
     "input": [
      "%%bash\n",
      "cd gittest/\n",
      "# exercise\n",
      "echo \"hello\" > hello.txt\n",
      "git add hello.txt\n",
      "git status"
     ],
     "language": "python",
     "metadata": {},
     "outputs": [
      {
       "output_type": "stream",
       "stream": "stdout",
       "text": [
        "On branch master\n",
        "Changes to be committed:\n",
        "  (use \"git reset HEAD <file>...\" to unstage)\n",
        "\n",
        "\tnew file:   hello.txt\n",
        "\n"
       ]
      }
     ],
     "prompt_number": 37
    },
    {
     "cell_type": "code",
     "collapsed": false,
     "input": [
      "%%bash\n",
      "cd gittest/\n",
      "git commit -a -m\"added hello\"\n",
      "git slog"
     ],
     "language": "python",
     "metadata": {},
     "outputs": [
      {
       "output_type": "stream",
       "stream": "stdout",
       "text": [
        "[master 7062d05] added hello\n",
        " 1 file changed, 1 insertion(+)\n",
        " create mode 100644 hello.txt\n",
        "* 7062d05 added hello\n",
        "* f564b8e new name. better game.\n",
        "* ec103b2 I have made great progress on this critical matter\n",
        "* c1b26b0 first commit\n"
       ]
      }
     ],
     "prompt_number": 38
    },
    {
     "cell_type": "code",
     "collapsed": false,
     "input": [
      "%%bash\n",
      "cd gittest/\n",
      "echo \"\\ngoodbye\" >> hello.txt\n",
      "git diff\n",
      "echo \"\"\n",
      "git status\n",
      "echo \"\"\n",
      "echo \"\"\n",
      "git add hello.txt\n",
      "echo \"\"\n",
      "echo \"\"\n",
      "git commit -a -m\"added salutation\"\n",
      "echo \"\"\n",
      "git status"
     ],
     "language": "python",
     "metadata": {},
     "outputs": [
      {
       "output_type": "stream",
       "stream": "stdout",
       "text": [
        "diff --git a/hello.txt b/hello.txt\n",
        "index 82b0827..2a50307 100644\n",
        "--- a/hello.txt\n",
        "+++ b/hello.txt\n",
        "@@ -1,3 +1,4 @@\n",
        " hello\n",
        " \\ngoodbye\n",
        " \\ngoodbye\n",
        "+\\ngoodbye\n",
        "\n",
        "On branch master\n",
        "Changes not staged for commit:\n",
        "  (use \"git add <file>...\" to update what will be committed)\n",
        "  (use \"git checkout -- <file>...\" to discard changes in working directory)\n",
        "\n",
        "\tmodified:   hello.txt\n",
        "\n",
        "no changes added to commit (use \"git add\" and/or \"git commit -a\")\n",
        "\n",
        "\n",
        "\n",
        "\n",
        "[master 07beb57] added salutation\n",
        " 1 file changed, 1 insertion(+)\n",
        "\n",
        "On branch master\n",
        "nothing to commit, working directory clean\n"
       ]
      }
     ],
     "prompt_number": 43
    },
    {
     "cell_type": "code",
     "collapsed": false,
     "input": [
      "%%bash\n",
      "cd gittest/\n",
      "git slog"
     ],
     "language": "python",
     "metadata": {},
     "outputs": [
      {
       "output_type": "stream",
       "stream": "stdout",
       "text": [
        "* 07beb57 added salutation\n",
        "* e59780a added salutation\n",
        "* 7062d05 added hello\n",
        "* f564b8e new name. better game.\n",
        "* ec103b2 I have made great progress on this critical matter\n",
        "* c1b26b0 first commit\n"
       ]
      }
     ],
     "prompt_number": 44
    },
    {
     "cell_type": "code",
     "collapsed": false,
     "input": [
      "%%bash\n",
      "cd gittest/\n",
      "git rm hello.txt\n",
      "git commit -a -m\"removed hello\"\n",
      "echo \"\"\n",
      "echo \"\"\n",
      "git status"
     ],
     "language": "python",
     "metadata": {},
     "outputs": [
      {
       "output_type": "stream",
       "stream": "stdout",
       "text": [
        "rm 'hello.txt'\n",
        "[master 16f4277] removed hello\n",
        " 1 file changed, 4 deletions(-)\n",
        " delete mode 100644 hello.txt\n",
        "\n",
        "\n",
        "On branch master\n",
        "nothing to commit, working directory clean\n"
       ]
      }
     ],
     "prompt_number": 45
    },
    {
     "cell_type": "code",
     "collapsed": false,
     "input": [
      "%%bash\n",
      "cd gittest/\n",
      "\n",
      "git branch experiment\n",
      "git checkout experiment"
     ],
     "language": "python",
     "metadata": {},
     "outputs": [
      {
       "output_type": "stream",
       "stream": "stderr",
       "text": [
        "Switched to branch 'experiment'\n"
       ]
      }
     ],
     "prompt_number": 46
    },
    {
     "cell_type": "code",
     "collapsed": false,
     "input": [
      "%%bash\n",
      "cd gittest/\n",
      "\n",
      "echo \"something crayyy\" > exp.txt\n",
      "git add exp.txt\n",
      "git commit -a -m\"something good\"\n",
      "echo \"\"\n",
      "git status"
     ],
     "language": "python",
     "metadata": {},
     "outputs": [
      {
       "output_type": "stream",
       "stream": "stdout",
       "text": [
        "[experiment e5de361] something good\n",
        " 1 file changed, 1 insertion(+)\n",
        " create mode 100644 exp.txt\n",
        "\n",
        "On branch experiment\n",
        "nothing to commit, working directory clean\n"
       ]
      }
     ],
     "prompt_number": 47
    },
    {
     "cell_type": "code",
     "collapsed": false,
     "input": [
      "%%bash\n",
      "cd gittest/\n",
      "git slog"
     ],
     "language": "python",
     "metadata": {},
     "outputs": [
      {
       "output_type": "stream",
       "stream": "stdout",
       "text": [
        "* e5de361 something good\n",
        "* 16f4277 removed hello\n",
        "* 07beb57 added salutation\n",
        "* e59780a added salutation\n",
        "* 7062d05 added hello\n",
        "* f564b8e new name. better game.\n",
        "* ec103b2 I have made great progress on this critical matter\n",
        "* c1b26b0 first commit\n"
       ]
      }
     ],
     "prompt_number": 48
    },
    {
     "cell_type": "code",
     "collapsed": false,
     "input": [
      "%%bash\n",
      "cd gittest/\n",
      "git checkout master\n",
      "git slog"
     ],
     "language": "python",
     "metadata": {},
     "outputs": [
      {
       "output_type": "stream",
       "stream": "stdout",
       "text": [
        "* 16f4277 removed hello\n",
        "* 07beb57 added salutation\n",
        "* e59780a added salutation\n",
        "* 7062d05 added hello\n",
        "* f564b8e new name. better game.\n",
        "* ec103b2 I have made great progress on this critical matter\n",
        "* c1b26b0 first commit\n"
       ]
      },
      {
       "output_type": "stream",
       "stream": "stderr",
       "text": [
        "Switched to branch 'master'\n"
       ]
      }
     ],
     "prompt_number": 49
    },
    {
     "cell_type": "code",
     "collapsed": false,
     "input": [
      "%%bash\n",
      "cd gittest/\n",
      "echo \"more work in master\" >> file.txt\n",
      "git commit -a -m\"more masterful work\"\n",
      "git slog"
     ],
     "language": "python",
     "metadata": {},
     "outputs": [
      {
       "output_type": "stream",
       "stream": "stdout",
       "text": [
        "[master 0e4dbf5] more masterful work\n",
        " 1 file changed, 1 insertion(+)\n",
        "* 0e4dbf5 more masterful work\n",
        "* 16f4277 removed hello\n",
        "* 07beb57 added salutation\n",
        "* e59780a added salutation\n",
        "* 7062d05 added hello\n",
        "* f564b8e new name. better game.\n",
        "* ec103b2 I have made great progress on this critical matter\n",
        "* c1b26b0 first commit\n"
       ]
      }
     ],
     "prompt_number": 50
    },
    {
     "cell_type": "code",
     "collapsed": false,
     "input": [
      "%%bash\n",
      "cd gittest/\n",
      "ls"
     ],
     "language": "python",
     "metadata": {},
     "outputs": [
      {
       "output_type": "stream",
       "stream": "stdout",
       "text": [
        "file.txt\n"
       ]
      }
     ],
     "prompt_number": 51
    },
    {
     "cell_type": "code",
     "collapsed": false,
     "input": [
      "%%bash\n",
      "cd gittest/\n",
      "git merge experiment\n",
      "git slog"
     ],
     "language": "python",
     "metadata": {},
     "outputs": [
      {
       "output_type": "stream",
       "stream": "stdout",
       "text": [
        "Merge made by the 'recursive' strategy.\n",
        " exp.txt | 1 +\n",
        " 1 file changed, 1 insertion(+)\n",
        " create mode 100644 exp.txt\n",
        "*   d5b834e Merge branch 'experiment'\n",
        "|\\  \n",
        "| * e5de361 something good\n",
        "* | 0e4dbf5 more masterful work\n",
        "|/  \n",
        "* 16f4277 removed hello\n",
        "* 07beb57 added salutation\n",
        "* e59780a added salutation\n",
        "* 7062d05 added hello\n",
        "* f564b8e new name. better game.\n",
        "* ec103b2 I have made great progress on this critical matter\n",
        "* c1b26b0 first commit\n"
       ]
      }
     ],
     "prompt_number": 52
    },
    {
     "cell_type": "code",
     "collapsed": false,
     "input": [
      "%%bash\n",
      "cd gittest/\n",
      "ls"
     ],
     "language": "python",
     "metadata": {},
     "outputs": [
      {
       "output_type": "stream",
       "stream": "stdout",
       "text": [
        "exp.txt\n",
        "file.txt\n"
       ]
      }
     ],
     "prompt_number": 53
    },
    {
     "cell_type": "code",
     "collapsed": false,
     "input": [
      "%%bash\n",
      "cd gittest/\n",
      "git remote -v"
     ],
     "language": "python",
     "metadata": {},
     "outputs": [],
     "prompt_number": 54
    },
    {
     "cell_type": "code",
     "collapsed": false,
     "input": [
      "%%bash\n",
      "cd gittest/"
     ],
     "language": "python",
     "metadata": {},
     "outputs": []
    },
    {
     "cell_type": "code",
     "collapsed": false,
     "input": [
      "%%bash\n",
      "cd gittest/"
     ],
     "language": "python",
     "metadata": {},
     "outputs": []
    },
    {
     "cell_type": "code",
     "collapsed": false,
     "input": [
      "%%bash\n",
      "cd gittest/"
     ],
     "language": "python",
     "metadata": {},
     "outputs": []
    }
   ],
   "metadata": {}
  }
 ]
}