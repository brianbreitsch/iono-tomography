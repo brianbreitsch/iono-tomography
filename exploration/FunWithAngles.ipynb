{
 "metadata": {
  "css": [
   ""
  ],
  "name": "",
  "signature": "sha256:cd65bc8036c453108f3f8d3173c1d1cbe52e1d564094eeb511004f209df55973"
 },
 "nbformat": 3,
 "nbformat_minor": 0,
 "worksheets": [
  {
   "cells": [
    {
     "cell_type": "markdown",
     "metadata": {},
     "source": [
      "<img src=\"../img/jro_logo.png\"/>"
     ]
    },
    {
     "cell_type": "markdown",
     "metadata": {},
     "source": [
      "# fun with angles\n",
      "\n",
      "In this notebook, we will explore some geommetrical relations that prove useful in coordinate conversion and algorithm implementation for ionosphere tomography."
     ]
    },
    {
     "cell_type": "markdown",
     "metadata": {},
     "source": [
      "When first starting out in tomographic imaging, we use the Radon transform as a mathematical foundation for the theory and inversion techniques to follow. Let $s(x,y)$ be a 2D function in the Cartesian plane. The Radon transform is:"
     ]
    },
    {
     "cell_type": "markdown",
     "metadata": {},
     "source": [
      "$$\n",
      "\\begin{equation}\n",
      "p(t,\\theta) = \\int_{-\\infty}^\\infty s(t\\cos\\theta-r\\sin\\theta,t\\sin\\theta+r\\cos\\theta)dr\n",
      "\\end{equation}\n",
      "$$"
     ]
    },
    {
     "cell_type": "markdown",
     "metadata": {},
     "source": [
      "$p(t,\\theta)$ is just the integral of 2 dimensional function $s(x,y)$ along the line defined by $\\theta$ and $t$, where $\\theta$ is the angle to the normal of the line and $t$ is the orthogonal displacement of the line from the origin."
     ]
    },
    {
     "cell_type": "markdown",
     "metadata": {},
     "source": [
      "To illustrate, consider $p(t,\\theta)$ with $\\theta$ fixed. We view this as a projection of $s(x,y)$ onto an infinite line through the origin defined by normal angle $\\theta$. $t$ becomes the position/offset along this line, and so we can consider $p(t,\\theta)$ with $\\theta$ fixed as a 1 dimensional function in $t$. We call this the projection of $s(x,y)$ at angle $\\theta$."
     ]
    },
    {
     "cell_type": "markdown",
     "metadata": {},
     "source": [
      "<img src=\"../img/radon_geommetry.png\">"
     ]
    },
    {
     "cell_type": "markdown",
     "metadata": {},
     "source": [
      "### exercise\n",
      "\n",
      "Given the line defined by $(\\theta,t)$, find the cartesian coordinates of its closest point $u$ to the origin. This point is called the ***impact parameter***.\n",
      "\n",
      "Then, given the coordinates of points $u$ and $v$, find $(\\theta,t)$ which define the line that passes through $u$ and $v$.\n",
      "\n",
      "### answer\n",
      "\n",
      "The impact parameter of the line defined by $(\\theta,t)$ is $(t\\cos\\theta,t\\sin\\theta)$.\n",
      "\n",
      "For the second part, we find $\\theta = \\frac \\pi 2 + \\text{atan2}(\\bf v-u)$, and $t = ||\\bf u||$. In the case that $\\bf u$ is not defined to be the closest to the origin, we may first note that the closest point lies along $\\tau \\begin{bmatrix}\\cos\\theta \\\\ \\sin\\theta\\end{bmatrix}$. Then we want to find $\\tau$ and $\\alpha$ such that $\\tau \\begin{bmatrix}\\cos\\theta \\\\ \\sin\\theta\\end{bmatrix} = \\bf u + \\alpha(v-u)$. We can rewrite this as $\\bf A \\begin{bmatrix}\\tau \\\\ \\alpha \\end{bmatrix} = \\bf u$ where $\\bf A = \\begin{bmatrix}\\cos\\theta & u_x - v_x \\\\ \\sin\\theta & u_y - v_y \\end{bmatrix}$. Then $\\begin{bmatrix} \\tau \\\\ \\alpha \\end{bmatrix} = \\bf A^{-1} u$ yields $t$ (as the answer for $\\tau$)."
     ]
    },
    {
     "cell_type": "markdown",
     "metadata": {},
     "source": [
      "\n",
      "<img src=\"../img/proj_coord1.png\">\n",
      "\n",
      "### exercise\n",
      "\n",
      "Find the cartesian coordinates of a point $v$ with offset $d$ along the line defined by $(\\theta,t)$.\n",
      "\n",
      "### answer\n",
      "\n",
      "To go from point $u$ to point $v$, we need to add $(d\\sin\\theta,d\\cos\\theta)$. Thus the coordinates of $v$ are $(t\\cos\\theta+d\\sin\\theta,t\\sin\\theta+d\\cos\\theta)$"
     ]
    },
    {
     "cell_type": "markdown",
     "metadata": {},
     "source": [
      "### exercise\n",
      "\n",
      "Given lines defined by $(\\theta_1,t_1)$ and $(\\theta_2,t_2)$, find the cartesian coordinates of their intersection at $v$ (offsets $d$ and $e$ are unknown).\n",
      "\n",
      "<img src=\"../img/proj_coord2.png\">\n",
      "\n",
      "### answer\n",
      "\n",
      "Let $\\boldsymbol{u_1} = (t_1\\cos\\theta_1,t_1\\sin\\theta_1)$ and $\\boldsymbol{u_2} = (t_2\\cos\\theta_2,t_2\\sin\\theta_2)$ be the points closest to the origin for lines 1 and 2. Then the equations of the lines can be written in the form $\\begin{bmatrix} x \\\\ y \\end{bmatrix} = \\boldsymbol{u_i} + \\tau_i \\begin{bmatrix} \\sin\\theta_i \\\\ \\cos\\theta_i \\end{bmatrix}$. Setting the equations equal yields $\\boldsymbol{A} \\begin{bmatrix} \\tau_1 \\\\ \\tau_2 \\end{bmatrix} = \\bf u_2 - u_1$, where $ \\boldsymbol{A} = \\begin{bmatrix} \\sin\\theta_1 & -\\sin\\theta_2 \\\\ \\cos\\theta_1 & -\\cos\\theta_2 \\end{bmatrix}$. Finally, $\\begin{bmatrix} \\tau_1 \\\\ \\tau_2 \\end{bmatrix} = \\boldsymbol{A}^{-1}(\\bf u_2 - u_1)$, and we obtain the intersection at $v$ via either line equation $\\boldsymbol{v} = \\boldsymbol{u_i} + \\tau_i \\begin{bmatrix} \\sin\\theta_i \\\\ -\\cos\\theta_i \\end{bmatrix}$. (Note, $d$ and $e$ in the diagram will be $\\tau_1$ and $\\tau_2$ respectively.)"
     ]
    },
    {
     "cell_type": "markdown",
     "metadata": {},
     "source": [
      "We now have a foundation for working with lines represented by parameters $(\\theta,t)$. Next, we work out some naiive Python implementations of functions which compute the aforementioned intersections/conversions."
     ]
    },
    {
     "cell_type": "code",
     "collapsed": false,
     "input": [
      "import numpy as np\n",
      "import scipy as sp"
     ],
     "language": "python",
     "metadata": {},
     "outputs": [],
     "prompt_number": 21
    },
    {
     "cell_type": "code",
     "collapsed": false,
     "input": [
      "def impact_paramter(u, v):\n",
      "    '''\n",
      "    Computes the impact parameter, i.e. closest point to the origin, for a given line.\n",
      "    Creates matrix :math: `\\bf A = \\begin{bmatrix}\\cos\\theta & u_x - v_x \\\\ \\sin\\theta & \n",
      "    u_y - v_y \\end{bmatrix}`. Then `\\begin{bmatrix} \\tau \\\\ \\alpha \\end{bmatrix} = \n",
      "    \\bf A^{-1} u`.\n",
      "    ----------\n",
      "    u : 2-tuple of the first point defining the line\n",
      "    v : 2-tuple of the second point defining the line\n",
      "        \n",
      "    Returns\n",
      "    -------\n",
      "    a : the impact parameter of the line\n",
      "    '''\n",
      "    from math import atan2\n",
      "    dx, dy = v[0] - u[0], v[1] - u[1]\n",
      "    theta = np.pi / 2 + np.math.atan2(dy, dx)\n",
      "    A = np.matrix([[np.math.cos(theta), -dx],[np.math.sin(theta), -dy]])\n",
      "    t = np.asarray(A.I * np.reshape(u, (2,1))).reshape((2,))\n",
      "    return t[0] * np.math.cos(theta), t[0] * np.math.sin(theta)"
     ],
     "language": "python",
     "metadata": {},
     "outputs": [],
     "prompt_number": 71
    },
    {
     "cell_type": "markdown",
     "metadata": {},
     "source": [
      "The impact parameter between points $(-1,0)$ and $(0,1)$ should be $(-.5,.5)$. It's always a good idea to test our code. <br>\n",
      ":)"
     ]
    },
    {
     "cell_type": "code",
     "collapsed": false,
     "input": [
      "impact_paramter((-1,0),(0,1))"
     ],
     "language": "python",
     "metadata": {},
     "outputs": [
      {
       "metadata": {},
       "output_type": "pyout",
       "prompt_number": 72,
       "text": [
        "(-0.49999999999999989, 0.5)"
       ]
      }
     ],
     "prompt_number": 72
    },
    {
     "cell_type": "markdown",
     "metadata": {},
     "source": [
      "Great, it works! Also note that using this function to get impact parameter $a$, it is trivial to find the projection coordinates $(\\theta,t)$ for the line that crosses through $u$ and $v$--that is $\\theta = \\text{atan2}(a)$ and $t = ||a||$."
     ]
    },
    {
     "cell_type": "code",
     "collapsed": false,
     "input": [
      "def proj2cart(theta, t, d):\n",
      "    '''\n",
      "    Computes the cartesian coordinates of a point that lies displacement d along a line\n",
      "    described by theta and t\n",
      "    ----------\n",
      "    theta : angle of the normal vector to line\n",
      "    t : orthogonal displacement of line from origin\n",
      "    d : displacement of point along the line (positive direction is to right of normal)\n",
      "    Returns\n",
      "    -------\n",
      "    (x,y) : tuple containing cartesian coordinates of the point\n",
      "    '''\n",
      "    x = t * np.cos(theta) + d * np.sin(theta)\n",
      "    y = t * np.sin(theta) + d * np.cos(theta)\n",
      "    return (x,y)"
     ],
     "language": "python",
     "metadata": {},
     "outputs": [],
     "prompt_number": 73
    },
    {
     "cell_type": "markdown",
     "metadata": {},
     "source": [
      "To test, we should get the coordinate $(1,1)$ for input $\\theta=\\frac \\pi 4$, $t = \\frac{\\sqrt 2}{2}$, and $d = \\frac{\\sqrt 2}{2}$."
     ]
    },
    {
     "cell_type": "code",
     "collapsed": false,
     "input": [
      "theta = np.pi / 4\n",
      "t = d = np.sqrt(2) / 2\n",
      "proj2cart(theta, t, d)"
     ],
     "language": "python",
     "metadata": {},
     "outputs": [
      {
       "metadata": {},
       "output_type": "pyout",
       "prompt_number": 74,
       "text": [
        "(1.0, 1.0)"
       ]
      }
     ],
     "prompt_number": 74
    },
    {
     "cell_type": "code",
     "collapsed": false,
     "input": [
      "def get_intersect(theta1, t1, theta2, t2):\n",
      "    '''\n",
      "    Computes the cartesian coordinates of a point that lies displacement d along a line\n",
      "    described by theta and t\n",
      "    ----------\n",
      "    theta1 : angle of the normal vector that describes the first line\n",
      "    t1 : orthogonal displacement of first line from origin\n",
      "    theta2 : like theta1 but for second line\n",
      "    t2 : like t1 but for second line\n",
      "    -------\n",
      "    (x,y) : tuple containing cartesian coordinates of the intersection\n",
      "    '''\n",
      "    assert(not theta1 == theta2)\n",
      "    u1 = t1 * np.array([np.cos(theta1), np.sin(theta1)])\n",
      "    u2 = t2 * np.array([np.cos(theta2), np.sin(theta2)])\n",
      "    A = np.matrix([[np.sin(theta1), -np.sin(theta2)], [np.cos(theta1), -np.cos(theta2)]])\n",
      "    tau = np.asarray(A.I * np.reshape((u2 - u1), (2,1))).reshape((2,))\n",
      "    return u1 + tau[0] * np.array([np.sin(theta1), -np.cos(theta1)])"
     ],
     "language": "python",
     "metadata": {},
     "outputs": [],
     "prompt_number": 124
    },
    {
     "cell_type": "markdown",
     "metadata": {},
     "source": [
      "An input of $\\theta_1 = \\frac \\pi 4$, $\\tau_1 = \\sqrt{2}$ and $\\theta_2 = \\frac {3\\pi}{4}$, $\\tau_2 = \\sqrt{2}$ should return the point $(0,2)$."
     ]
    },
    {
     "cell_type": "code",
     "collapsed": false,
     "input": [
      "theta1 = np.pi / 4\n",
      "theta2 = 3 * np.pi / 4\n",
      "tau1 = tau2 = np.sqrt(2)\n",
      "get_intersect(theta1, tau1, theta2, tau2)"
     ],
     "language": "python",
     "metadata": {},
     "outputs": [
      {
       "metadata": {},
       "output_type": "pyout",
       "prompt_number": 125,
       "text": [
        "array([  5.55111512e-16,   2.00000000e+00])"
       ]
      }
     ],
     "prompt_number": 125
    },
    {
     "cell_type": "markdown",
     "metadata": {},
     "source": [
      "## reconstruction regions\n",
      "\n",
      "Now that we have explored and coded some fundamental operations for dealing with projection coordinates, we can delve deeper into using them.\n",
      "\n",
      "When performing tomographic reconstruction of the ionosphere, we work with partitions of **2D or 3D regions of space**. When the partion is 2D, we may use the familiar term **pixel** to describe an element of the partition. When the partition is in 3D, we use the term **voxel** (for *volume pixel*). Typically the partition is either a *rectangular grid* or a *quasi-rectangular grid*. By quasi-rectangular, we really mean the idea of partioning a region by **latitude** and/or **longitude** and/or **altitude**, instead of steadfast perfect rectangles. The diagram below illustrates this concept for two dimensions, where one dimension is height.\n",
      "\n",
      "<img src=\"../img/iono_tomo_geommetry.svg\"/>\n",
      "\n",
      "The latter is has advantages from a data input/interpretation perspective since we are used to working with latitude and longitude on a spherical Earth. However, from an algorithmic/computational perspective, a perfectly rectangular partition is easier to work with. As such, we will start by looking at a rectangular partition. (Additionally, when the latitudinal/longitudinal grid is small enough, it is reasonble to approximate its voxels/pixels as rectangular.)"
     ]
    },
    {
     "cell_type": "markdown",
     "metadata": {},
     "source": [
      "### exercise\n",
      "\n",
      "If $\\Delta x$ and $\\Delta y$ are the horizontal and vertical grid spacings which begin at the origin, and $\\theta$ is the angle to a line that passes through the origin, find the distance the line travels through the first grid cell (i.e. the one closest to the origin, or cell 'a' in the diagram)."
     ]
    },
    {
     "cell_type": "markdown",
     "metadata": {},
     "source": [
      "<img src=\"../img/proj_line1.png\"/>"
     ]
    },
    {
     "cell_type": "markdown",
     "metadata": {},
     "source": [
      "### answer\n",
      "\n",
      "The solution is algorithmic. We must determine which partition--vertical or horizontal--the line will reach first.\n",
      "\n",
      "There is a threshold angle that we obtain via $\\text{atan}(\\Delta y / \\Delta x)$. If $\\theta$ is less than this angle, the line intersects the next pixel horizontally. Otherwise it intersects the next pixel in the vertical direction (or, if $\\theta = \\text{atan}(\\Delta y / \\Delta x)$, the ray enters the next diagonal diagonally--we'll ignore this scenario for now).\n",
      "\n",
      "Once the next intersection plane is known, we can calculate the intersection length $L$ as $L = \\frac{\\Delta x}{\\cos\\theta}$ or $L = \\frac{\\Delta y}{\\sin\\theta}$ depending on whether it intersects the horizontal or vertical plane.\n",
      "\n",
      "Now we implement this algorithm in code."
     ]
    },
    {
     "cell_type": "code",
     "collapsed": false,
     "input": [
      "def get_cell_overlap(theta, delta_x, delta_y):\n",
      "    '''\n",
      "    Computes the overlap of a line, which goes through the origin, with a 2D cell, \n",
      "    whose bottom left corner is the origin, given the dimensions of the cell and the\n",
      "    angle of the line.\n",
      "    ----------\n",
      "    theta : angle of line\n",
      "    delta_x : cell x dimension\n",
      "    delta_y : cell y dimension\n",
      "    -------\n",
      "    l : length of the overlap\n",
      "    '''\n",
      "    if theta < np.math.atan2(delta_y,delta_x):\n",
      "        l = delta_x / np.cos(theta)\n",
      "    else:\n",
      "        l = delta_y / np.sin(theta)\n",
      "    return l"
     ],
     "language": "python",
     "metadata": {},
     "outputs": [],
     "prompt_number": 126
    },
    {
     "cell_type": "markdown",
     "metadata": {},
     "source": [
      "A a line at angle $45^\\circ$ should have a $\\sqrt 2$ overlap with a 1x2 cell. "
     ]
    },
    {
     "cell_type": "code",
     "collapsed": false,
     "input": [
      "theta = np.pi / 4\n",
      "delta_x, delta_y = 1, 2\n",
      "get_cell_overlap(theta, delta_x, delta_y)"
     ],
     "language": "python",
     "metadata": {},
     "outputs": [
      {
       "metadata": {},
       "output_type": "pyout",
       "prompt_number": 127,
       "text": [
        "1.4142135623730949"
       ]
      }
     ],
     "prompt_number": 127
    },
    {
     "cell_type": "markdown",
     "metadata": {},
     "source": [
      "Working! Now, supposing our line intersects the cells as shown above. How do we obtain the overlap of our line with the next cell--cell 'b'--and, eventually, all the cells for which the line intersects. We can view this problem in the same way we view the first problem by diminshing the horizontal dimension of 'b'. The diagram below illustrates:"
     ]
    },
    {
     "cell_type": "markdown",
     "metadata": {},
     "source": [
      "<img src=\"../img/proj_line2.png\"/>"
     ]
    },
    {
     "cell_type": "markdown",
     "metadata": {},
     "source": [
      "We treat cell 'b' like it has dimensions $\\Delta x - \\frac{\\Delta x}{\\cos\\theta}$ by $\\Delta y$, where $\\frac{\\Delta x}{\\cos\\theta}$ was the distance in the x direction that the line travelled through cell 'a'. With these, parameters, our problem is identical to our first problem, and we can even reuse the function we just wrote. The same technique can be used when the line intersects the next pixel horizontally by diminishing the vertical cell dimension. In this way, we can iteratively trace through the grid cell by cell to determine line-cell overlap.\n",
      "\n",
      "This is an important initial task in many tomographic imaging applications, and is the task we will focus on for the remainder of this notebook.\n",
      "\n",
      "Now, let us write a function that fills in the overlap values for an $M$ by $N$ grid of rectangular cells with cell dimensions $\\Delta x$ and $\\Delta y$, given the angle $\\theta$ to the line that runs through the cells. Again, the line passes through the bottom left corner of the grid, which we will consider the origin."
     ]
    },
    {
     "cell_type": "code",
     "collapsed": false,
     "input": [
      "def get_grid_overlap(theta, M, N, delta_x, delta_y):\n",
      "    '''\n",
      "    Computes the overlap of a line with each cell of a grid. The line passes through\n",
      "    the bottom left corner of the grid, which we consider to be the origin.\n",
      "    ----------\n",
      "    theta : angle of line\n",
      "    M : number of grid rows\n",
      "    N : number of grid columns\n",
      "    delta_x : cell x dimension\n",
      "    delta_y : cell y dimension\n",
      "    -------\n",
      "    G : M by N ndarray with values filled in for line overlap\n",
      "    '''\n",
      "    G = np.zeros((M,N))\n",
      "    i, j = 0, 0\n",
      "    dx, dy = delta_x, delta_y\n",
      "    while j < M and i < N:\n",
      "        if theta < np.math.atan2(dy, dx):\n",
      "            l = dx / np.cos(theta)\n",
      "            G[j,i] = l\n",
      "            i += 1\n",
      "            dx, dy = delta_x, dy - l * np.sin(theta)\n",
      "        else:\n",
      "            G[j,i] = dy / np.sin(theta)\n",
      "            j += 1\n",
      "            dx, dy = dx - t * np.cos(theta), delta_y\n",
      "    return G"
     ],
     "language": "python",
     "metadata": {},
     "outputs": [],
     "prompt_number": 130
    },
    {
     "cell_type": "code",
     "collapsed": false,
     "input": [
      "theta = np.pi / 3\n",
      "M, N = 32, 32\n",
      "delta_x, delta_y = 1., 1.\n",
      "G = get_grid_overlap(theta, M, N, delta_x, delta_y)"
     ],
     "language": "python",
     "metadata": {},
     "outputs": [],
     "prompt_number": 164
    },
    {
     "cell_type": "code",
     "collapsed": false,
     "input": [
      "import matplotlib.pyplot as plt\n",
      "%matplotlib inline"
     ],
     "language": "python",
     "metadata": {},
     "outputs": [],
     "prompt_number": 165
    },
    {
     "cell_type": "code",
     "collapsed": false,
     "input": [
      "plt.imshow(G, origin='lower', interpolation='nearest')"
     ],
     "language": "python",
     "metadata": {},
     "outputs": [
      {
       "metadata": {},
       "output_type": "pyout",
       "prompt_number": 166,
       "text": [
        "<matplotlib.image.AxesImage at 0x1050ffb50>"
       ]
      },
      {
       "metadata": {},
       "output_type": "display_data",
       "png": "[encoded data removed]",
       "text": [
        "<matplotlib.figure.Figure at 0x105063290>"
       ]
      }
     ],
     "prompt_number": 166
    },
    {
     "cell_type": "markdown",
     "metadata": {},
     "source": [
      "After testing this function for multiple values of $M$, $N$, $\\Delta x$, $\\Delta y$, and $\\theta$, it seems to be working quite well for one line. However, it doesn't take an expert Python programmer to know that our implementation might be slow on larget datasets.\n",
      "\n",
      "Later on, when we need to compute this sort of projection many times, we will focus on speed. Right now, we move on to 3D."
     ]
    },
    {
     "cell_type": "markdown",
     "metadata": {},
     "source": [
      "The algorithm in 3 dimensions is analogous to that in 2 dimensions. However, now, instead of just checking two intersection planes we check three and instead of describing our line by one angle we use $\\theta$ and $\\phi$ to describe the line's azimuthal and elevations components respectively.\n",
      "\n",
      "Since the idea is difficult to illustrate, we skip straight to the code. :)"
     ]
    },
    {
     "cell_type": "code",
     "collapsed": false,
     "input": [
      "def get_3D_grid_overlap(theta, phi, L, M, N, delta_x, delta_y, delta_z):\n",
      "    '''\n",
      "    Computes the overlap of a line with each cell of a grid. The line passes through\n",
      "    the bottom left corner of the grid, which we consider to be the origin.\n",
      "    ----------\n",
      "    theta : angle of line\n",
      "    L : number of grid layers\n",
      "    M : number of grid rows\n",
      "    N : number of grid columns\n",
      "    delta_x : cell x dimension\n",
      "    delta_y : cell y dimension\n",
      "    delta_z : cell z dimension\n",
      "    -------\n",
      "    G : L by M by N ndarray with values filled in for line overlap\n",
      "    '''\n",
      "    G = np.zeros((L,M,N))\n",
      "    i, j, k = 0, 0, 0\n",
      "    dx, dy, dz = delta_x, delta_y, delta_z\n",
      "    while k < L and j < M and i < N:\n",
      "        if theta < np.math.atan2(dy, dx):\n",
      "            # will intersect in x direction before y\n",
      "            if \n",
      "            l = dx / np.cos(theta)\n",
      "            G[k,j,i] = l\n",
      "            i += 1\n",
      "            dx, dy = dy - l * np.sin(theta)\n",
      "        else:\n",
      "            G[k,j,i] = dy / np.sin(theta)\n",
      "            j += 1\n",
      "            dx, dy = dx - t * np.cos(theta), delta_y\n",
      "    return G"
     ],
     "language": "python",
     "metadata": {},
     "outputs": [],
     "prompt_number": 167
    },
    {
     "cell_type": "code",
     "collapsed": false,
     "input": [
      "theta = np.pi / 4.5.\n",
      "phi = np.pi / 9\n",
      "L, M, N = 10, 32, 54\n",
      "delta_x, delta_y, delta_z = 1., 1., 1.\n",
      "G = get_3D_grid_overlap(theta, phi, L, M, N, delta_x, delta_y, delta_z)"
     ],
     "language": "python",
     "metadata": {},
     "outputs": []
    },
    {
     "cell_type": "code",
     "collapsed": false,
     "input": [
      "for i in range(L):\n",
      "    plt.subplot(1,L,i+1)\n",
      "    plt.imshow(G[i,:,:], origin='lower', interpolation='nearest')"
     ],
     "language": "python",
     "metadata": {},
     "outputs": []
    }
   ],
   "metadata": {}
  }
 ]
}