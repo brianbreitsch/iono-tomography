{
 "metadata": {
  "css": [
   ""
  ],
  "name": "",
  "signature": "sha256:e163c1dee6e11992273c28c914494f329b3a11e906f527d4402b0a5aab721788"
 },
 "nbformat": 3,
 "nbformat_minor": 0,
 "worksheets": [
  {
   "cells": [
    {
     "cell_type": "markdown",
     "metadata": {},
     "source": [
      "# Transform exploration\n",
      "\n",
      "## exploring the scikit-image transform module\n",
      "\n",
      "In order to make progress in developing ionosphere tomography applications, we need to gain a more thorough understanding of the contents inside the ``scikit-image.transform`` package."
     ]
    },
    {
     "cell_type": "code",
     "collapsed": false,
     "input": [
      "import numpy as np\n",
      "from numpy import pi\n",
      "import scipy as sp\n",
      "import scipy.ndimage as ndimg\n",
      "import matplotlib.pyplot as plt\n",
      "import skimage.transform as tf # import radon, iradon, _warps, _warps_cy\n",
      "%matplotlib inline"
     ],
     "language": "python",
     "metadata": {},
     "outputs": [],
     "prompt_number": 3
    },
    {
     "cell_type": "code",
     "collapsed": false,
     "input": [
      "img = sp.misc.imread('../img/shepp_logan_phantom.png', flatten=True)\n",
      "img = sp.misc.imresize(img, (32,32))\n",
      "plt.imshow(img, interpolation='nearest')"
     ],
     "language": "python",
     "metadata": {},
     "outputs": [
      {
       "metadata": {},
       "output_type": "pyout",
       "prompt_number": 5,
       "text": [
        "<matplotlib.image.AxesImage at 0x10e5c97d0>"
       ]
      },
      {
       "metadata": {},
       "output_type": "display_data",
       "png": "[encoded data removed]",
       "text": [
        "<matplotlib.figure.Figure at 0x10e54cd10>"
       ]
      }
     ],
     "prompt_number": 5
    },
    {
     "cell_type": "code",
     "collapsed": false,
     "input": [
      "scale_tf = tf.AffineTransform(scale=(1,1),rotation=pi/4)"
     ],
     "language": "python",
     "metadata": {},
     "outputs": [],
     "prompt_number": 38
    },
    {
     "cell_type": "code",
     "collapsed": false,
     "input": [
      "dw, dh = img.shape\n",
      "tfmtx = scale_tf.params\n",
      "print(tfmtx.shape)\n",
      "print(tfmtx.ndim)\n",
      "new_img = ndimg.interpolation.affine_transform(img, tfmtx[:2,:2], offset=[dw//2,dw//2])\n",
      "plt.subplot(131)\n",
      "plt.imshow(new_img)\n",
      "new_img = ndimg.interpolation.affine_transform(new_img, tfmtx[:2,:2], offset=[dh//2,dw//2])\n",
      "plt.subplot(132)\n",
      "plt.imshow(new_img)\n",
      "new_img = ndimg.interpolation.affine_transform(new_img, tfmtx[:2,:2], offset=[dh//2,dw//2])\n",
      "plt.subplot(133)\n",
      "plt.imshow(new_img)"
     ],
     "language": "python",
     "metadata": {},
     "outputs": [
      {
       "output_type": "stream",
       "stream": "stdout",
       "text": [
        "(3, 3)\n",
        "2\n"
       ]
      },
      {
       "metadata": {},
       "output_type": "pyout",
       "prompt_number": 42,
       "text": [
        "<matplotlib.image.AxesImage at 0x1168a0410>"
       ]
      },
      {
       "metadata": {},
       "output_type": "display_data",
       "png": "[encoded data removed]",
       "text": [
        "<matplotlib.figure.Figure at 0x1164f9190>"
       ]
      }
     ],
     "prompt_number": 42
    },
    {
     "cell_type": "code",
     "collapsed": false,
     "input": [
      "nw, nh = 64, 64\n",
      "theta = pi / 6\n",
      "offset = -3.14\n",
      "\n",
      "def get_intersect(theta1, offset1, theta2, offset2):\n",
      "    if theta1 == theta2:\n",
      "        raise ValueError('No intersection exists for parallel lines.')\n",
      "    "
     ],
     "language": "python",
     "metadata": {},
     "outputs": []
    },
    {
     "cell_type": "markdown",
     "metadata": {},
     "source": [
      "This is more markdown\n",
      "\n",
      "\n",
      "$$\\sim$$\n",
      "\n",
      "\n",
      "\n",
      "\n",
      "\n",
      "-a\n",
      "\n",
      "asdf\n",
      "\n",
      "asdf\n",
      "\n",
      "asdf\n",
      "\n",
      "asdf\n",
      "\n",
      "asdf\n",
      "\n",
      "asfd"
     ]
    }
   ],
   "metadata": {}
  }
 ]
}