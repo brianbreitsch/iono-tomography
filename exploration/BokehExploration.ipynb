{
 "metadata": {
  "css": [
   ""
  ],
  "name": "",
  "signature": "sha256:6199f3926c441c0468b959516cad3866b57c7cb865ad20319f7228b59d733fe8"
 },
 "nbformat": 3,
 "nbformat_minor": 0,
 "worksheets": [
  {
   "cells": [
    {
     "cell_type": "code",
     "collapsed": false,
     "input": [
      "import numpy as np\n",
      "import pandas as pd\n",
      "from bokeh.plotting import *\n",
      "from bokeh.objects import Range1d\n",
      "from StringIO import StringIO\n",
      "from math import log, sqrt\n",
      "from collections import OrderedDict\n",
      "\n",
      "antibiotics = \"\"\"\n",
      "bacteria,                        penicillin, streptomycin, neomycin, gram\n",
      "Mycobacterium tuberculosis,      800,        5,            2,        negative\n",
      "Salmonella schottmuelleri,       10,         0.8,          0.09,     negative\n",
      "Proteus vulgaris,                3,          0.1,          0.1,      negative\n",
      "Klebsiella pneumoniae,           850,        1.2,          1,        negative\n",
      "Brucella abortus,                1,          2,            0.02,     negative\n",
      "Pseudomonas aeruginosa,          850,        2,            0.4,      negative\n",
      "Escherichia coli,                100,        0.4,          0.1,      negative\n",
      "Salmonella (Eberthella) typhosa, 1,          0.4,          0.008,    negative\n",
      "Aerobacter aerogenes,            870,        1,            1.6,      negative\n",
      "Brucella antracis,               0.001,      0.01,         0.007,    positive\n",
      "Streptococcus fecalis,           1,          1,            0.1,      positive\n",
      "Staphylococcus aureus,           0.03,       0.03,         0.001,    positive\n",
      "Staphylococcus albus,            0.007,      0.1,          0.001,    positive\n",
      "Streptococcus hemolyticus,       0.001,      14,           10,       positive\n",
      "Streptococcus viridans,          0.005,      10,           40,       positive\n",
      "Diplococcus pneumoniae,          0.005,      11,           10,       positive\n",
      "\"\"\"\n",
      "\n",
      "drug_color = OrderedDict([\n",
      "    (\"Penicillin\",   \"#0d3362\"),\n",
      "    (\"Streptomycin\", \"#c64737\"),\n",
      "    (\"Neomycin\",     \"black\"  ),\n",
      "])\n",
      "\n",
      "gram_color = {\n",
      "    \"positive\" : \"#aeaeb8\",\n",
      "    \"negative\" : \"#e69584\",\n",
      "}\n",
      "\n",
      "df = pd.read_csv(StringIO(antibiotics), skiprows=1, skipinitialspace=True)\n",
      "\n",
      "width = 800\n",
      "height = 800\n",
      "inner_radius = 90\n",
      "outer_radius = 300 - 10\n",
      "\n",
      "minr = sqrt(log(.001 * 1E4))\n",
      "maxr = sqrt(log(1000 * 1E4))\n",
      "a = (outer_radius - inner_radius) / (minr - maxr)\n",
      "b = inner_radius - a * maxr\n",
      "\n",
      "def rad(mic):\n",
      "    return a * np.sqrt(np.log(mic * 1E4)) + b\n",
      "\n",
      "big_angle = 2.0 * np.pi / (len(df) + 1)\n",
      "small_angle = big_angle / 7\n",
      "\n",
      "output_file(\"burtin.html\", title=\"burtin.py example\")\n",
      "\n",
      "hold()"
     ],
     "language": "python",
     "metadata": {},
     "outputs": [],
     "prompt_number": 2
    },
    {
     "cell_type": "code",
     "collapsed": false,
     "input": [
      "angles = np.pi/2 - big_angle/2 - df.index*big_angle\n",
      "colors = [gram_color[gram] for gram in df.gram]\n",
      "annular_wedge(\n",
      "    [0], [0], inner_radius, outer_radius, -big_angle+angles, angles, color=colors,\n",
      "    plot_width=width, plot_height=height, title=\"\", tools=\"\", x_axis_type=None, y_axis_type=None\n",
      ")"
     ],
     "language": "python",
     "metadata": {},
     "outputs": [
      {
       "metadata": {},
       "output_type": "pyout",
       "prompt_number": 3,
       "text": [
        "<bokeh.objects.Plot at 0x10d9a0110>"
       ]
      }
     ],
     "prompt_number": 3
    },
    {
     "cell_type": "code",
     "collapsed": false,
     "input": [
      "plot = curplot()\n",
      "plot.x_range = Range1d(start=-420, end=420)\n",
      "plot.y_range = Range1d(start=-420, end=420)\n",
      "plot.min_border = 0\n",
      "plot.background_fill = \"#f0e1d2\"\n",
      "plot.border_fill = \"#f0e1d2\"\n",
      "plot.outline_line_color = None\n",
      "xgrid().grid_line_color = None\n",
      "ygrid().grid_line_color = None"
     ],
     "language": "python",
     "metadata": {},
     "outputs": [],
     "prompt_number": 31
    },
    {
     "cell_type": "code",
     "collapsed": false,
     "input": [
      "annular_wedge(\n",
      "    [0], [0], inner_radius, rad(df.penicillin), -big_angle+angles + 5*small_angle, -big_angle+angles+6*small_angle, color=drug_color['Penicillin'],\n",
      ")\n",
      "annular_wedge(\n",
      "    [0], [0], inner_radius, rad(df.streptomycin), -big_angle+angles + 3*small_angle, -big_angle+angles+4*small_angle, color=drug_color['Streptomycin'],\n",
      ")\n",
      "annular_wedge(\n",
      "    [0], [0], inner_radius, rad(df.neomycin), -big_angle+angles + 1*small_angle, -big_angle+angles+2*small_angle, color=drug_color['Neomycin'],\n",
      ")"
     ],
     "language": "python",
     "metadata": {},
     "outputs": [
      {
       "metadata": {},
       "output_type": "pyout",
       "prompt_number": 33,
       "text": [
        "<bokeh.objects.Plot at 0x112d57310>"
       ]
      }
     ],
     "prompt_number": 33
    },
    {
     "cell_type": "code",
     "collapsed": false,
     "input": [
      "labels = np.power(10.0, np.arange(-3, 4))\n",
      "radii = a * np.sqrt(np.log(labels * 1E4)) + b\n",
      "circle([0], [0], radius=radii, fill_color=None, line_color=\"white\")\n",
      "text([0], radii[:-1], [str(r) for r in labels[:-1]], angle=0, text_font_size=\"8pt\", text_align=\"center\", text_baseline=\"middle\")\n",
      "\n",
      "annular_wedge(\n",
      "    [0], [0], inner_radius-10, outer_radius+10, -big_angle+angles, -big_angle+angles, color=\"black\",\n",
      ")"
     ],
     "language": "python",
     "metadata": {},
     "outputs": [
      {
       "metadata": {},
       "output_type": "pyout",
       "prompt_number": 38,
       "text": [
        "<bokeh.objects.Plot at 0x112d57310>"
       ]
      }
     ],
     "prompt_number": 38
    },
    {
     "cell_type": "code",
     "collapsed": false,
     "input": [
      "xr = radii[0]*np.cos(np.array(-big_angle/2 + angles))\n",
      "yr = radii[0]*np.sin(np.array(-big_angle/2 + angles))\n",
      "label_angle=np.array(-big_angle/2+angles)\n",
      "label_angle[label_angle < -np.pi/2] += np.pi # easier to read labels on the left side\n",
      "text(xr, yr, df.bacteria, angle=label_angle, text_font_size=\"9pt\", text_align=\"center\", text_baseline=\"middle\")"
     ],
     "language": "python",
     "metadata": {},
     "outputs": [
      {
       "metadata": {},
       "output_type": "pyout",
       "prompt_number": 39,
       "text": [
        "<bokeh.objects.Plot at 0x112d57310>"
       ]
      }
     ],
     "prompt_number": 39
    },
    {
     "cell_type": "code",
     "collapsed": false,
     "input": [
      "circle([-40, -40], [-370, -390], color=gram_color.values(), radius=5)\n",
      "text([-30, -30], [-370, -390], text=[\"Gram-\" + x for x in gram_color.keys()], angle=0, text_font_size=\"7pt\", text_align=\"left\", text_baseline=\"middle\")\n",
      "\n",
      "rect([-40, -40, -40], [18, 0, -18], width=30, height=13, color=drug_color.values())\n",
      "text([-15, -15, -15], [18, 0, -18], text=drug_color.keys(), angle=0, text_font_size=\"9pt\", text_align=\"left\", text_baseline=\"middle\")"
     ],
     "language": "python",
     "metadata": {},
     "outputs": [
      {
       "metadata": {},
       "output_type": "pyout",
       "prompt_number": 40,
       "text": [
        "<bokeh.objects.Plot at 0x112d57310>"
       ]
      }
     ],
     "prompt_number": 40
    },
    {
     "cell_type": "code",
     "collapsed": false,
     "input": [
      "show()"
     ],
     "language": "python",
     "metadata": {},
     "outputs": [],
     "prompt_number": 41
    },
    {
     "cell_type": "code",
     "collapsed": false,
     "input": [],
     "language": "python",
     "metadata": {},
     "outputs": []
    }
   ],
   "metadata": {}
  }
 ]
}