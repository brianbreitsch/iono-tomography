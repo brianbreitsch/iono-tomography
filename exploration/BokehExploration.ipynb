{
 "metadata": {
  "css": [
   ""
  ],
  "name": "",
  "signature": "sha256:0cf53895fba04312d7537c7bfa08d208130caf9699e76da9e13d36a9ac993a03"
 },
 "nbformat": 3,
 "nbformat_minor": 0,
 "worksheets": [
  {
   "cells": [
    {
     "cell_type": "markdown",
     "metadata": {},
     "source": [
      "# Exploring Bokeh\n",
      "\n",
      "Bokeh is an open source plotting library for python which allows us to create interactive data visualizations in HTML. We introduce it here, showing how we may use it to create visualizations of our ionosphere model and other profiles.\n",
      "\n"
     ]
    },
    {
     "cell_type": "code",
     "collapsed": false,
     "input": [
      "import numpy as np\n",
      "import pandas as pd\n",
      "import bokeh.plotting as plt"
     ],
     "language": "python",
     "metadata": {},
     "outputs": [
      {
       "output_type": "stream",
       "stream": "stderr",
       "text": [
        "/usr/local/lib/python2.7/site-packages/pandas/io/excel.py:626: UserWarning: Installed openpyxl is not supported at this time. Use >=1.6.1 and <2.0.0.\n",
        "  .format(openpyxl_compat.start_ver, openpyxl_compat.stop_ver))\n"
       ]
      }
     ],
     "prompt_number": 1
    },
    {
     "cell_type": "markdown",
     "metadata": {},
     "source": [
      "The ``bokeh.plotting`` contains all the plotting functions we should need to perform our plotting tasks. We import it in a similar fashion to the way we import ``matplotlib.pyplot`` libraries--simply because it's nice to have code that looks familiar."
     ]
    },
    {
     "cell_type": "code",
     "collapsed": false,
     "input": [
      "plt.output_file('bokeh.html', title='Exploring Bokeh', autosave=False, mode='relative', root_dir='./')\n",
      "#plt.output_notebook(url='http://localhost:8888/tree/exploration/bokeh/', docname='bokeh.html', name='Exploring Bokeh')\n",
      "\n",
      "x = np.linspace(0,2*np.pi,20)\n",
      "y = np.cos(x)\n",
      "plt.line(x, y, color=\"green\")\n",
      "plt.show()"
     ],
     "language": "python",
     "metadata": {},
     "outputs": [
      {
       "output_type": "stream",
       "stream": "stdout",
       "text": [
        "Session output file 'bokeh.html' already exists, will be overwritten.\n"
       ]
      }
     ],
     "prompt_number": 2
    },
    {
     "cell_type": "markdown",
     "metadata": {},
     "source": [
      "The short script above creates a file with the name ``bokeh.html`` which, when rendered, will show us a plot of $y = \\cos(x)$. One thing to note here is, if we rerun the above cell, our page will now have two of the same plot in it. This is peculiar--but it doesn't take too much pondering to figure out why. Since we're executing in the IPython Notebook, the Bokeh plotting environment has persistence. So when we call ``plt.line()`` the second time, the line from the first time we called ``plt.line()`` is still stored in the plotting environment. For our purposes, ideally, when we rerun a cell like this, we want to avoid this persistence behavior. To do so, we can employ the function [TODO]"
     ]
    },
    {
     "cell_type": "markdown",
     "metadata": {},
     "source": [
      ".\n",
      "\n",
      ".\n",
      "\n",
      ".\n",
      "\n",
      ".\n",
      "\n",
      ".\n",
      "\n",
      ".\n",
      "\n",
      ".\n",
      "\n",
      ".\n",
      "\n",
      ".\n",
      "\n",
      ".\n",
      "\n",
      ".\n",
      "\n",
      ".\n",
      "\n",
      ".\n",
      "\n",
      "."
     ]
    }
   ],
   "metadata": {}
  }
 ]
}