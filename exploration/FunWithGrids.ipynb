{
 "metadata": {
  "css": [
   ""
  ],
  "name": "",
  "signature": "sha256:2b306ed046ee66deb7d2661a02b8af4a0018fcd4de2a8b9fd126741ba3c2a90c"
 },
 "nbformat": 3,
 "nbformat_minor": 0,
 "worksheets": [
  {
   "cells": [
    {
     "cell_type": "markdown",
     "metadata": {},
     "source": [
      "<img src=\"../img/jro_logo.png\"/>"
     ]
    },
    {
     "cell_type": "markdown",
     "metadata": {},
     "source": [
      "# fun with grids\n",
      "\n",
      "In this notebook, we will explore tomography model grids, as well as some geommetrical relations that prove useful in coordinate conversion and algorithm implementation for ionosphere tomography. "
     ]
    },
    {
     "cell_type": "markdown",
     "metadata": {},
     "source": [
      "When first starting out in tomographic imaging, we use the Radon transform as a mathematical foundation for the theory and inversion techniques to follow. Let $s(x,y)$ be a 2D function in the Cartesian plane. The Radon transform is:"
     ]
    },
    {
     "cell_type": "markdown",
     "metadata": {},
     "source": [
      "$$\n",
      "\\begin{equation}\n",
      "p(t,\\theta) = \\int_{-\\infty}^\\infty s(t\\cos\\theta-r\\sin\\theta,t\\sin\\theta+r\\cos\\theta)dr\n",
      "\\end{equation}\n",
      "$$"
     ]
    },
    {
     "cell_type": "markdown",
     "metadata": {},
     "source": [
      "$p(t,\\theta)$ is just the integral of 2 dimensional function $s(x,y)$ along the line defined by $\\theta$ and $t$, where $\\theta$ is the angle to the normal of the line and $t$ is the orthogonal displacement of the line from the origin."
     ]
    },
    {
     "cell_type": "markdown",
     "metadata": {},
     "source": [
      "To illustrate, consider $p(t,\\theta)$ with $\\theta$ fixed. We view this as a projection of $s(x,y)$ onto an infinite line through the origin defined by normal angle $\\theta$. $t$ becomes the position/offset along this line, and so we can consider $p(t,\\theta)$ with $\\theta$ fixed as a 1 dimensional function in $t$. We call this the projection of $s(x,y)$ at angle $\\theta$."
     ]
    },
    {
     "cell_type": "markdown",
     "metadata": {},
     "source": [
      "<img src=\"../img/radon_geommetry.png\">"
     ]
    },
    {
     "cell_type": "markdown",
     "metadata": {},
     "source": [
      "When we define lines in this way, which is their most compact definition, we will call them ***line coordinates***. In three dimensions, we can describe line coordinates using 4 parameters, $\\gamma$, $\\phi$, $t$, and $\\theta$.\n",
      "\n",
      "- $\\gamma$ and $\\phi$ define the normal vector to the plane in which the line lies\n",
      "- $t$ describes the orthogonal offset of this plane from the origin\n",
      "- $\\phi$ descibes the angle of the line in its plane"
     ]
    },
    {
     "cell_type": "markdown",
     "metadata": {},
     "source": [
      "### exercise\n",
      "\n",
      "Given the line coordinates $(\\theta,t)$, find the cartesian coordinates of its closest point $u$ to the origin. This point is called the ***impact parameter***.\n",
      "\n",
      "Then, given the cartesian coordinates of arbitrary points $u$ and $v$, find the line coordinates $(\\theta,t)$ for the line that passes through $u$ and $v$.\n",
      "\n",
      "### answer\n",
      "\n",
      "The impact parameter of the line defined by $(\\theta,t)$ is $(t\\cos\\theta,t\\sin\\theta)$.\n",
      "\n",
      "For the second part, we first find $\\theta = \\frac \\pi 2 + \\text{atan2}(\\bf v-u)$.\n",
      "We can get $t$ by taking the magnitude of the impact parameter, which lies along $\\tau \\begin{bmatrix}\\cos\\theta \\\\ \\sin\\theta\\end{bmatrix}$.\n",
      "Then we want to solve $\\tau \\begin{bmatrix}\\cos\\theta \\\\ \\sin\\theta\\end{bmatrix} = \\bf u + \\alpha(v-u)$ for $\\tau$ and $\\alpha$ in order to get the intersection.\n",
      "We can rewrite this as $\\bf A \\begin{bmatrix}\\tau \\\\ \\alpha \\end{bmatrix} = \\bf u$ where $\\bf A = \\begin{bmatrix}\\cos\\theta & u_x - v_x \\\\ \\sin\\theta & u_y - v_y \\end{bmatrix}$.\n",
      "Then $\\begin{bmatrix} \\tau \\\\ \\alpha \\end{bmatrix} = \\bf A^{-1} u$ yields $t$ (as the answer for $\\tau$)."
     ]
    },
    {
     "cell_type": "markdown",
     "metadata": {},
     "source": [
      "\n",
      "<img src=\"../img/proj_coord1.png\">\n",
      "\n",
      "### exercise\n",
      "\n",
      "Find the cartesian coordinates of a point $v$ with offset $d$ along the line with coordinates $(\\theta,t)$.\n",
      "\n",
      "### answer\n",
      "\n",
      "To go from point $u$ to point $v$, we need to add $(d\\sin\\theta,d\\cos\\theta)$. Thus the coordinates of $v$ are $(t\\cos\\theta+d\\sin\\theta,t\\sin\\theta+d\\cos\\theta)$"
     ]
    },
    {
     "cell_type": "markdown",
     "metadata": {},
     "source": [
      "### exercise\n",
      "\n",
      "Given lines defined by $(\\theta_1,t_1)$ and $(\\theta_2,t_2)$, find the cartesian coordinates of their intersection at $v$ (offsets $d$ and $e$ are unknown).\n",
      "\n",
      "<img src=\"../img/proj_coord2.png\">\n",
      "\n",
      "### answer\n",
      "\n",
      "Let $\\boldsymbol{u_1} = (t_1\\cos\\theta_1,t_1\\sin\\theta_1)$ and $\\boldsymbol{u_2} = (t_2\\cos\\theta_2,t_2\\sin\\theta_2)$ be the points closest to the origin for lines 1 and 2. Then the equations of the lines can be written in the form $\\begin{bmatrix} x \\\\ y \\end{bmatrix} = \\boldsymbol{u_i} + \\tau_i \\begin{bmatrix} \\sin\\theta_i \\\\ -\\cos\\theta_i \\end{bmatrix}$.\n",
      "Setting the equations equal yields $\\boldsymbol{A} \\begin{bmatrix} \\tau_1 \\\\ \\tau_2 \\end{bmatrix} = \\bf u_2 - u_1$,\n",
      "where $ \\boldsymbol{A} = \\begin{bmatrix} \\sin\\theta_1 & -\\sin\\theta_2 \\\\ -\\cos\\theta_1 & \\cos\\theta_2 \\end{bmatrix}$. Finally, $\\begin{bmatrix} \\tau_1 \\\\ \\tau_2 \\end{bmatrix} = \\boldsymbol{A}^{-1}(\\bf u_2 - u_1)$, and we obtain the intersection at $v$ via either line equation $\\boldsymbol{v} = \\boldsymbol{u_i} + \\tau_i \\begin{bmatrix} \\sin\\theta_i \\\\ -\\cos\\theta_i \\end{bmatrix}$. (Note, $d$ and $e$ in the diagram will be $\\tau_1$ and $\\tau_2$ respectively.)"
     ]
    },
    {
     "cell_type": "markdown",
     "metadata": {},
     "source": [
      "We now have a foundation for working with lines represented by parameters $(\\theta,t)$. Next, we work out some naiive Python implementations of functions which compute the aforementioned intersections/conversions."
     ]
    },
    {
     "cell_type": "code",
     "collapsed": false,
     "input": [
      "import numpy as np\n",
      "from numpy import pi, cos, sin, arctan2, ones, zeros, sqrt, \\\n",
      "                  matrix, array, asarray, reshape, size\n",
      "from numpy.linalg import inv, norm"
     ],
     "language": "python",
     "metadata": {},
     "outputs": [],
     "prompt_number": 3
    },
    {
     "cell_type": "code",
     "collapsed": false,
     "input": [
      "def impact_paramter(u, v):\n",
      "    '''\n",
      "    Computes the impact parameter, i.e. closest point to the origin, for a given line.\n",
      "    Creates matrix :math: `\\bf A = \\begin{bmatrix}\\cos\\theta & u_x - v_x \\\\ \\sin\\theta & \n",
      "    u_y - v_y \\end{bmatrix}`. Then `\\begin{bmatrix} \\tau \\\\ \\alpha \\end{bmatrix} = \n",
      "    \\bf A^{-1} u`.\n",
      "    ----------\n",
      "    u : 2-tuple of the first point defining the line\n",
      "    v : 2-tuple of the second point defining the line\n",
      "        \n",
      "    Returns\n",
      "    -------\n",
      "    a : the impact parameter of the line\n",
      "    '''\n",
      "    dx, dy = v[0] - u[0], v[1] - u[1]\n",
      "    theta = pi / 2 + arctan2(dy, dx)\n",
      "    A = matrix([[cos(theta), -dx],[sin(theta), -dy]])\n",
      "    t = asarray(A.I * reshape(u, (2,1))).reshape((2,))\n",
      "    return t[0] * cos(theta), t[0] * sin(theta)"
     ],
     "language": "python",
     "metadata": {},
     "outputs": [],
     "prompt_number": 4
    },
    {
     "cell_type": "markdown",
     "metadata": {},
     "source": [
      "The impact parameter between points $(-1,0)$ and $(0,1)$ should be $(-.5,.5)$. It's always a good idea to test our code. <br>\n",
      ":)"
     ]
    },
    {
     "cell_type": "code",
     "collapsed": false,
     "input": [
      "np.allclose((-.5,.5), impact_paramter((-1,0),(0,1)))"
     ],
     "language": "python",
     "metadata": {},
     "outputs": [
      {
       "metadata": {},
       "output_type": "pyout",
       "prompt_number": 5,
       "text": [
        "True"
       ]
      }
     ],
     "prompt_number": 5
    },
    {
     "cell_type": "markdown",
     "metadata": {},
     "source": [
      "Great, it works! Also note that using this function to get impact parameter $a$, it is trivial to find the projection coordinates $(\\theta,t)$ for the line that crosses through $u$ and $v$--that is $\\theta = \\text{atan2}(a)$ and $t = ||a||$."
     ]
    },
    {
     "cell_type": "code",
     "collapsed": false,
     "input": [
      "def proj2cart(theta, t, d):\n",
      "    '''\n",
      "    Computes the cartesian coordinates of a point that lies displacement d along a line\n",
      "    described by theta and t\n",
      "    ----------\n",
      "    theta : angle of the normal vector to line\n",
      "    t : orthogonal displacement of line from origin\n",
      "    d : displacement of point along the line (positive direction is to right of normal)\n",
      "    Returns\n",
      "    -------\n",
      "    (x,y) : tuple containing cartesian coordinates of the point\n",
      "    '''\n",
      "    x = t * cos(theta) + d * sin(theta)\n",
      "    y = t * sin(theta) + d * cos(theta)\n",
      "    return (x,y)"
     ],
     "language": "python",
     "metadata": {},
     "outputs": [],
     "prompt_number": 6
    },
    {
     "cell_type": "markdown",
     "metadata": {},
     "source": [
      "To test, we should get the coordinate $(1,1)$ for input $\\theta=\\frac \\pi 4$, $t = \\frac{\\sqrt 2}{2}$, and $d = \\frac{\\sqrt 2}{2}$."
     ]
    },
    {
     "cell_type": "code",
     "collapsed": false,
     "input": [
      "theta = pi / 4\n",
      "t = d = sqrt(2) / 2\n",
      "ans = proj2cart(theta, t, d)\n",
      "print('({0:.3f}, {1:.3f})'.format(*ans))"
     ],
     "language": "python",
     "metadata": {},
     "outputs": [
      {
       "output_type": "stream",
       "stream": "stdout",
       "text": [
        "(1.000, 1.000)\n"
       ]
      }
     ],
     "prompt_number": 7
    },
    {
     "cell_type": "code",
     "collapsed": false,
     "input": [
      "def get_intersect(line1, line2):\n",
      "    '''\n",
      "    Computes the 2D cartesian coordinates of the point of intersection between two\n",
      "    lines described by line coordinates in the 2-tuples line1 and line2\n",
      "    ----------\n",
      "    line  : 2-tuple containing\n",
      "        theta : angle of the normal vector that describes the first line\n",
      "        t : orthogonal displacement of first line from origin\n",
      "    -------\n",
      "    (x,y) : tuple containing cartesian coordinates of the intersection\n",
      "    '''\n",
      "    theta1, t1 = line1\n",
      "    theta2, t2 = line2\n",
      "    assert(not theta1 == theta2)\n",
      "    u1 = t1 * array([cos(theta1), sin(theta1)])\n",
      "    u2 = t2 * array([cos(theta2), sin(theta2)])\n",
      "    A = matrix([[sin(theta1), -sin(theta2)], [-cos(theta1), cos(theta2)]])\n",
      "    tau = asarray(A.I * reshape((u2 - u1), (2,1))).reshape((2,))\n",
      "    return u1 + tau[0] * array([sin(theta1), -cos(theta1)])"
     ],
     "language": "python",
     "metadata": {},
     "outputs": [],
     "prompt_number": 8
    },
    {
     "cell_type": "markdown",
     "metadata": {},
     "source": [
      "An input of $\\theta_1 = \\frac \\pi 4$, $\\tau_1 = \\sqrt{2}$ and $\\theta_2 = \\frac {3\\pi}{4}$, $\\tau_2 = \\sqrt{2}$ should return the point $(0,2)$."
     ]
    },
    {
     "cell_type": "code",
     "collapsed": false,
     "input": [
      "theta1 = pi / 4\n",
      "theta2 = 3*pi / 4\n",
      "t1 = sqrt(2)\n",
      "t2 = sqrt(2)\n",
      "\n",
      "# theta1 = pi / 4\n",
      "# theta2 = -pi / 4\n",
      "# t1 = 0\n",
      "# t2 = sqrt(2)\n",
      "\n",
      "# theta1 = pi/3.\n",
      "# theta2 = -npi/3.\n",
      "# t1 = sqrt(2)/2.\n",
      "# t2 = sqrt(2)/2.\n",
      "line1 = theta1, t1\n",
      "line2 = theta2, t2\n",
      "ans = get_intersect(line1, line2)\n",
      "print('({0:.3f}, {1:.3f})'.format(*ans))"
     ],
     "language": "python",
     "metadata": {},
     "outputs": [
      {
       "output_type": "stream",
       "stream": "stdout",
       "text": [
        "(0.000, 2.000)\n"
       ]
      }
     ],
     "prompt_number": 9
    },
    {
     "cell_type": "markdown",
     "metadata": {},
     "source": [
      "## reconstruction regions\n",
      "\n",
      "Now that we have explored and coded some fundamental operations for dealing with line coordinates, we can delve deeper into using them."
     ]
    },
    {
     "cell_type": "markdown",
     "metadata": {},
     "source": [
      "When performing tomographic reconstruction of the ionosphere, we work with partitions of **2D or 3D regions of space**. When the partion is 2D, we may use the familiar term **pixel** to describe an element of the partition. When the partition is in 3D, we use the term **voxel** (for *volume pixel*). Typically the partition is either a *rectangular grid* or a *quasi-rectangular grid*. With a quasi-rectangular grid, we're usually refering to a frid partition by **latitude** and/or **longitude** and/or **altitude**, instead of steadfast perfect rectangles. The diagram below illustrates this concept for two dimensions, where one dimension is height."
     ]
    },
    {
     "cell_type": "markdown",
     "metadata": {},
     "source": [
      "\n",
      "\n",
      "$p$ is a set of projections along different lines--i.e. our observables.\n",
      "vector of length 15.\n",
      "\n",
      "$A$ is a matrix which we call the projection matrix--it is the line weights for each ray in the image region\n",
      "15 by N matrix\n",
      "15 rows: one row for each line or ray path\n",
      "N columns: one column for each voxel\n",
      "$x$ is the TEC--or the image we are trying to solve for\n",
      "vector of length N\n",
      "\n",
      "$p = Ax$"
     ]
    },
    {
     "cell_type": "markdown",
     "metadata": {},
     "source": [
      "<img src=\"../img/iono_tomo_geommetry.svg\"/>"
     ]
    },
    {
     "cell_type": "markdown",
     "metadata": {},
     "source": [
      "The latter has advantages from a data input/interpretation perspective since the International Reference Ionosphere (IRI) outputs data in longitude/latitude and since latitudinal/longitudinal coordinates are easier to interpret than cartesian earth-centered earth-fixed (ECEF) coordinates. However, from an algorithmic/computational perspective, a perfectly rectangular partition is easier to work with at first. As such, we will start by looking at a rectangular partition. (Additionally, when the latitudinal/longitudinal grid is small enough, it is reasonble to approximate its pixels/voxels as rectangular.)"
     ]
    },
    {
     "cell_type": "markdown",
     "metadata": {},
     "source": [
      "### exercise\n",
      "\n",
      "If $\\Delta x$ and $\\Delta y$ are the horizontal and vertical grid spacings which begin at the origin, and $\\theta$ is the angle to a line that passes through the origin, find the distance the line travels through the first grid cell (i.e. the one closest to the origin, or cell 'a' in the diagram)."
     ]
    },
    {
     "cell_type": "markdown",
     "metadata": {},
     "source": [
      "<img src=\"../img/proj_line1.png\"/>"
     ]
    },
    {
     "cell_type": "markdown",
     "metadata": {},
     "source": [
      "### answer\n",
      "\n",
      "We must determine which partition--vertical or horizontal--the line will reach first.\n",
      "\n",
      "There is a threshold angle that we obtain via $\\text{atan}(\\Delta y / \\Delta x)$. If $\\theta$ is less than this angle, the line intersects the next pixel horizontally. Otherwise it intersects the next pixel in the vertical direction (or, if $\\theta = \\text{atan}(\\Delta y / \\Delta x)$, the ray enters the next diagonal diagonally--we'll ignore this scenario for now).\n",
      "\n",
      "Once the next intersection plane is known, we can calculate the intersection length $L$ as $L = \\frac{\\Delta x}{\\cos\\theta}$ or $L = \\frac{\\Delta y}{\\sin\\theta}$ depending on whether it intersects the horizontal or vertical plane.\n",
      "\n",
      "Now we implement this algorithm in code."
     ]
    },
    {
     "cell_type": "code",
     "collapsed": false,
     "input": [
      "def get_cell_overlap(theta, delta_x, delta_y):\n",
      "    '''\n",
      "    Computes the overlap of a line, which goes through the origin, with a 2D cell, \n",
      "    whose bottom left corner is the origin, given the dimensions of the cell and the\n",
      "    angle of the line.\n",
      "    ----------\n",
      "    theta : angle of line\n",
      "    delta_x : cell x dimension\n",
      "    delta_y : cell y dimension\n",
      "    -------\n",
      "    l : length of the overlap\n",
      "    '''\n",
      "    if theta < arctan2(delta_y,delta_x):\n",
      "        l = delta_x / cos(theta)\n",
      "    else:\n",
      "        l = delta_y / sin(theta)\n",
      "    return l"
     ],
     "language": "python",
     "metadata": {},
     "outputs": [],
     "prompt_number": 10
    },
    {
     "cell_type": "markdown",
     "metadata": {},
     "source": [
      "A a line at angle $45^\\circ$ should have a $\\sqrt 2$ overlap with a 1x2 cell. "
     ]
    },
    {
     "cell_type": "code",
     "collapsed": false,
     "input": [
      "theta = pi / 4\n",
      "delta_x, delta_y = 1, 2\n",
      "eps = 10e-16\n",
      "print(abs(sqrt(2) - get_cell_overlap(theta, delta_x, delta_y)) < eps)"
     ],
     "language": "python",
     "metadata": {},
     "outputs": [
      {
       "output_type": "stream",
       "stream": "stdout",
       "text": [
        "True\n"
       ]
      }
     ],
     "prompt_number": 11
    },
    {
     "cell_type": "markdown",
     "metadata": {},
     "source": [
      "Working! Now, supposing our line intersects the cells as shown above. How do we obtain the overlap of our line with the next cell--cell 'b'--and, eventually, all the cells for which the line intersects. One way is to view this problem in the same way we view the first problem by diminshing the horizontal dimension of 'b'. Thedashed line in the diagram below illustrates how we would 'constrain' cell 'b':"
     ]
    },
    {
     "cell_type": "markdown",
     "metadata": {},
     "source": [
      "<img src=\"../img/proj_line2.png\"/>"
     ]
    },
    {
     "cell_type": "markdown",
     "metadata": {},
     "source": [
      "We treat cell 'b' like it has dimensions $\\Delta x - \\frac{\\Delta x}{\\cos\\theta}$ by $\\Delta y$, where $\\frac{\\Delta x}{\\cos\\theta}$ was the distance in the x direction that the line travelled through cell 'a'. With these parameters known, we can simply reuse the function we just wrote. The same technique can be used when the line intersects the next pixel horizontally by diminishing the vertical cell dimension. In this way, we can iteratively trace through the grid cell by cell to determine line-cell overlap.\n",
      "\n",
      "Finding grid overlap is an important task in many tomographic imaging applications. The algorithm is not ideal (as we can vectorize the whole process to make is much shorter and arguably simpler), but we use it here to stay elementary in our approach.\n",
      "\n",
      "Now, let us write a function using this algorithm that fills in the overlap values for an $M$ by $N$ grid of rectangular cells with cell dimensions $\\Delta x$ and $\\Delta y$, given the angle $\\theta$ to the line that runs through the cells. Assume the line passes through the bottom left corner of the grid, which we will also consider to be the origin."
     ]
    },
    {
     "cell_type": "code",
     "collapsed": false,
     "input": [
      "def get_grid_overlap(theta, M, N, delta_x, delta_y):\n",
      "    '''\n",
      "    Computes the overlap of a line with each cell of a grid. The line passes through\n",
      "    the bottom left corner of the grid, which we consider to be the origin.\n",
      "    ----------\n",
      "    theta : angle of line\n",
      "    M : number of grid rows\n",
      "    N : number of grid columns\n",
      "    delta_x : cell x dimension\n",
      "    delta_y : cell y dimension\n",
      "    -------\n",
      "    G : M by N ndarray with values filled in for line overlap\n",
      "    '''\n",
      "    G = zeros((M,N))\n",
      "    i, j = 0, 0\n",
      "    dx, dy = delta_x, delta_y\n",
      "    while j < M and i < N:\n",
      "        if theta < arctan2(dy, dx):\n",
      "            l = dx / cos(theta)\n",
      "            G[j,i] = l\n",
      "            i += 1\n",
      "            dx, dy = delta_x, dy - l * sin(theta)\n",
      "        else:\n",
      "            G[j,i] = dy / sin(theta)\n",
      "            j += 1\n",
      "            dx, dy = dx - cos(theta), delta_y\n",
      "    return G"
     ],
     "language": "python",
     "metadata": {},
     "outputs": [],
     "prompt_number": 12
    },
    {
     "cell_type": "code",
     "collapsed": false,
     "input": [
      "theta = pi / 3\n",
      "M, N = 32, 32\n",
      "delta_x, delta_y = 1., 1.\n",
      "G = get_grid_overlap(theta, M, N, delta_x, delta_y)"
     ],
     "language": "python",
     "metadata": {},
     "outputs": [],
     "prompt_number": 13
    },
    {
     "cell_type": "code",
     "collapsed": false,
     "input": [
      "import matplotlib.pyplot as plt\n",
      "%matplotlib inline"
     ],
     "language": "python",
     "metadata": {},
     "outputs": [],
     "prompt_number": 14
    },
    {
     "cell_type": "code",
     "collapsed": false,
     "input": [
      "plt.imshow(G, origin='lower', interpolation='nearest')"
     ],
     "language": "python",
     "metadata": {},
     "outputs": [
      {
       "metadata": {},
       "output_type": "pyout",
       "prompt_number": 15,
       "text": [
        "<matplotlib.image.AxesImage at 0x10d5ca610>"
       ]
      },
      {
       "metadata": {},
       "output_type": "display_data",
       "png": "[encoded data removed]",
       "text": [
        "<matplotlib.figure.Figure at 0x10d5a7250>"
       ]
      }
     ],
     "prompt_number": 15
    },
    {
     "cell_type": "markdown",
     "metadata": {},
     "source": [
      "After testing this function for multiple values of $M$, $N$, $\\Delta x$, $\\Delta y$, and $\\theta$, it seems to be working quite well for one line. However, it doesn't take an expert Python programmer to know that our implementation might be slow on larger datasets. Later on, when we need to compute this sort of projection many times, we will focus on speed. Right now, we move on to 3D."
     ]
    },
    {
     "cell_type": "markdown",
     "metadata": {},
     "source": [
      "The algorithm in 3 dimensions is analogous to that in 2 dimensions. However, now, instead of just checking two intersection planes we check three and instead of describing our line by one angle we use $\\theta$ and $\\phi$ to describe the line's azimuthal and elevations components respectively."
     ]
    },
    {
     "cell_type": "markdown",
     "metadata": {},
     "source": [
      "<img src=\"../img/proj_line3.png\"/>"
     ]
    },
    {
     "cell_type": "code",
     "collapsed": false,
     "input": [
      "def get_3D_grid_overlap(theta, phi, L, M, N, delta_x, delta_y, delta_z):\n",
      "    '''\n",
      "    Computes the overlap of a line with each cell of a grid. The line passes through\n",
      "    the bottom left corner of the grid, which we consider to be the origin.\n",
      "    ----------\n",
      "    theta : angle of line\n",
      "    L : number of grid layers\n",
      "    M : number of grid rows\n",
      "    N : number of grid columns\n",
      "    delta_x : cell x dimension\n",
      "    delta_y : cell y dimension\n",
      "    delta_z : cell z dimension\n",
      "    -------\n",
      "    G : L by M by N ndarray with values filled in for line overlap\n",
      "    '''\n",
      "    G = zeros((L,M,N))\n",
      "    i, j, k = 0, 0, 0\n",
      "    dx, dy, dz = delta_x, delta_y, delta_z\n",
      "    while k < L and j < M and i < N:\n",
      "        if theta < arctan2(dy, dx):\n",
      "            # will intersect in x direction before y\n",
      "            ly = dx / cos(theta) * sin(theta)\n",
      "            lxy = sqrt(dx**2 + ly**2)\n",
      "            if phi < arctan2(dz, lxy):\n",
      "                # will intersect in x direction before z\n",
      "                lz = lxy / cos(phi) * sin(phi)\n",
      "                G[k,j,i] = sqrt(lxy**2 + lz**2)\n",
      "                dx = delta_x\n",
      "                dy = dy - ly\n",
      "                dz = dz - lz\n",
      "                i += 1\n",
      "            else:\n",
      "                # will intersect z direction before x\n",
      "                lxy = delta_z / sin(phi) * cos(phi)\n",
      "                lx = lxy * cos(theta)\n",
      "                ly = lxy * sin(theta)\n",
      "                lz = dz\n",
      "                G[k,j,i] = sqrt(lxy**2 + lz**2)\n",
      "                dx = dx - lx\n",
      "                dy = dy - ly\n",
      "                dz = delta_z\n",
      "                k += 1\n",
      "        else:\n",
      "            # will intersect in y direction before x\n",
      "            lx = dy / sin(theta) * cos(theta)\n",
      "            lxy = sqrt(dy**2 + lx**2)\n",
      "            if phi < arctan2(dz, lxy):\n",
      "                # will intersect in y direction before z\n",
      "                lz = lxy / cos(phi) * sin(phi)\n",
      "                G[k,j,i] = sqrt(lxy**2 + lz**2)\n",
      "                dx = dx - lx\n",
      "                dy = delta_y\n",
      "                dz = dz - lz\n",
      "                j += 1\n",
      "            else:\n",
      "                # will intersect z direction before x\n",
      "                lxy = delta_z / np.sin(phi) * cos(phi)\n",
      "                lx = lxy * cos(theta)\n",
      "                ly = lxy * sin(theta)\n",
      "                lz = dz\n",
      "                G[k,j,i] = sqrt(lxy**2 + lz**2)\n",
      "                dx = dx - lx\n",
      "                dy = dy - ly\n",
      "                dz = delta_z\n",
      "                k += 1\n",
      "    return G"
     ],
     "language": "python",
     "metadata": {},
     "outputs": [],
     "prompt_number": 16
    },
    {
     "cell_type": "code",
     "collapsed": false,
     "input": [
      "%%time\n",
      "theta = pi / 4\n",
      "phi = pi / 4\n",
      "L, M, N = 32,32,32\n",
      "delta_x, delta_y, delta_z = 1., 1., 1.\n",
      "G = get_3D_grid_overlap(theta, phi, L, M, N, delta_x, delta_y, delta_z)"
     ],
     "language": "python",
     "metadata": {},
     "outputs": [
      {
       "output_type": "stream",
       "stream": "stdout",
       "text": [
        "CPU times: user 6.87 ms, sys: 680 \u00b5s, total: 7.55 ms\n",
        "Wall time: 7.27 ms\n"
       ]
      }
     ],
     "prompt_number": 17
    },
    {
     "cell_type": "code",
     "collapsed": false,
     "input": [
      "for i in range(L):\n",
      "    plt.subplot(4,L//4,(i+1))\n",
      "    plt.imshow(G[i,:,:], origin='lower', interpolation='nearest')\n",
      "    #plt.tight_layout(h_pad=1., w_pad=2.)\n",
      "    plt.xticks([]); plt.yticks([])"
     ],
     "language": "python",
     "metadata": {},
     "outputs": [
      {
       "metadata": {},
       "output_type": "display_data",
       "png": "[encoded data removed]",
       "text": [
        "<matplotlib.figure.Figure at 0x10d62ee90>"
       ]
      }
     ],
     "prompt_number": 18
    },
    {
     "cell_type": "markdown",
     "metadata": {},
     "source": [
      "Okay, so we have demonstrated ray overlap calculation for both 2D and 3D scenarios. Towards the end, we will implement better versions of these algorithms. These first round approaches are pretty naiive--we shouldn't actually employ the sequential approach to finding cell boundary intersections, but rather compute all intersections at once and then sort them.\n",
      "\n",
      "Moreover, if we were to rewrite this iterative algorithm, we can use $\\cot$ instead of $\\frac{\\cos\\theta}{\\sin\\theta}$. Additionally, the function $\\text{atan2}$ is a 1-to-1 function on $(-\\pi,\\pi)$, we don't need it to do out comparisons--we can compute $\\tan(\\theta)$ and $\\tan(\\phi)$ during initialization instead.\n",
      "\n",
      "We will eventually make these optimizations, and some others, while writing our code in Cython."
     ]
    },
    {
     "cell_type": "markdown",
     "metadata": {},
     "source": [
      "# geodetic grid\n",
      "\n",
      "Up until this point, we have used a uniform grid, where the $\\Delta$ spacings between separation planes has been unchanging for each grid dimension.\n",
      "\n",
      "We're going to break this trend in grand fashion--not only will we introduce non-uniform grid spacings, but we'll introduce latitude/longitude/altitude griding at the same time. How bold...how daring...\n",
      "\n",
      "The diagram below shows our scenario for 2D: we have separation planes in both latitude and altitude.\n",
      "\n",
      "<img src=\"../img/proj_line4.png\"/>\n"
     ]
    },
    {
     "cell_type": "markdown",
     "metadata": {},
     "source": [
      "We want to traverse cells starting at the center of the green circle, determining the overlap with each grid. Note that the latitudinal planes do not all cross through the origin. Instead, we will describe these planes, as well as our projection line, using our line coordinates $(\\theta,t)$. We will enumerate the planes starting at our line path origin: $(\\theta_0,t_0)$, $(\\theta_1,t_1)$, $(\\theta_2,t_2)$, ...\n",
      "\n",
      "We've indicated the enumeration of latitudinal and altitude planes, as well as the order of cell traversal, to the diagram below."
     ]
    },
    {
     "cell_type": "markdown",
     "metadata": {},
     "source": [
      "<img src=\"../img/proj_line5.png\"/>"
     ]
    },
    {
     "cell_type": "markdown",
     "metadata": {},
     "source": [
      "For now, we will assume that the altitude separation shells are spherical. In WGS84 specification they're ellipsoids, which would make things prohibitively difficult at this moment."
     ]
    },
    {
     "cell_type": "markdown",
     "metadata": {},
     "source": [
      "### exercise\n",
      "\n",
      "Compute grid overlap with projection line and cell 'a'.\n",
      "\n",
      "### answer\n",
      "\n",
      "Let $u$ be the point that we start at on the projection line. First, we compute the intersection of projection line and 1st latitudinal plane $lat_1$. We'll call this point $v$.\n",
      "\n",
      "If $||v|| < alt_1$, the next highest altitude after $u$, then we intersect a latitudinally adjacent cell from which we repeat the process. Otherwise, we intersect with a vertically adjacent cell. In this case, we solve the equation:\n",
      "\n",
      "$$||\\boldsymbol{u} + \\tau\\begin{bmatrix}\\sin\\theta\\\\-\\cos\\theta\\end{bmatrix}|| = h_1 \\\\\n",
      "\\Rightarrow (u_x+\\tau\\sin\\theta)^2 + (u_y-\\tau\\cos\\theta)^2 = h_1^2 \\\\\n",
      "\\Rightarrow \\tau^2 + 2\\tau(u_x\\sin\\theta-u_y\\cos\\theta) + u_x^2 + u_y^2 - h_1^2 = 0$$\n",
      "\n",
      "for $\\tau$ to get the cell overlap. We get:\n",
      "\n",
      "$$ \\tau = \\frac{-2(u_x\\sin\\theta-u_y\\cos\\theta) \\pm \\sqrt{4(u_x\\sin\\theta-u_y\\cos\\theta)^2 - 4(u_x^2 + u_y^2 - h_1^2)} }{2} \\\\\n",
      "\\Rightarrow \\tau = -(u_x\\sin\\theta+u_y\\cos\\theta) \\pm \\sqrt{(u_x^2(\\sin^2\\theta-1)+u_y^2(\\cos^2\\theta-1) - 2u_xu_y\\sin\\theta\\cos\\theta + h_1^2} \\\\\n",
      "\\Rightarrow \\tau = u_y\\cos\\theta - u_x\\sin\\theta \\pm \\sqrt{(u_x^2(-\\cos^2\\theta)+u_y^2(-\\sin^2\\theta) - 2u_xu_y\\sin\\theta\\cos\\theta + h_1^2}  $$"
     ]
    },
    {
     "cell_type": "markdown",
     "metadata": {},
     "source": [
      "If we chose our projection line coordinates $(\\theta,t)$ such that positive $t$ is in the direction of $\\tau$, then we choose $\\tau$ that is positive, otherwise we choose $\\tau$ that is negative (and if $\\tau$ is imaginary, then we have no intersection and should test with the next altitude).\n",
      "\n",
      "Now we implement this algorithm in code."
     ]
    },
    {
     "cell_type": "code",
     "collapsed": false,
     "input": [
      "def get_polar_grid_overlap(line, lats, alts):\n",
      "    '''\n",
      "    Computes the overlap of a line with each cell of a polar grid. \n",
      "    Grid elements are latitude (expressed in line coordinates) and\n",
      "    altitude (expressed as distance from origin). A projection\n",
      "    ----------\n",
      "    line : 2-tuple containing line coordinates for projection line\n",
      "    lats : a list of 2-tuples containing the line coordinates for \n",
      "        the latitudinal lines\n",
      "    alts : a list of altitudes for the grid\n",
      "    -------\n",
      "    G : len(alts) by len(lats) ndarray containing values of \n",
      "        projection line overlap\n",
      "    pnts : cartesian coordinates of the intersection points\n",
      "    '''\n",
      "    pnts = []\n",
      "    \n",
      "    M, N = len(alts), len(lats)\n",
      "    G = zeros((M,N))\n",
      "    i, j = 0, 0\n",
      "    theta, t = line\n",
      "    # first we need to find `u`, the starting point on the projection line\n",
      "    u = array([t*cos(theta), t*sin(theta)])\n",
      "    while j < M and i < N:\n",
      "        #print('{0:.3f} {1:.3f} {2} {3}'.format(u[0],u[1],i,j))\n",
      "        pnts.append(u)\n",
      "        v = get_intersect(line, lats[i])\n",
      "        if norm(v) < alts[j]:\n",
      "            # then we intersect latitudinally\n",
      "            G[j,i] = norm(v - u)\n",
      "            i += 1\n",
      "            u = v\n",
      "        else:\n",
      "            # then we intersect vertically\n",
      "            front = u[1] * cos(theta) - u[0] * sin(theta)\n",
      "            xcos, ysin = u[0] * cos(theta), u[1] * sin(theta)\n",
      "            rad = -xcos**2 - ysin**2 - 2 * xcos * ysin + alts[j]**2\n",
      "            if rad < 0: j += 1; continue\n",
      "            tau1, tau2 = front + sqrt(rad), front - sqrt(rad)\n",
      "            tau = tau1 if tau1 > 0 else tau2\n",
      "            v = u + tau * array([sin(theta), -cos(theta)])\n",
      "            G[j,i] = norm(v - u)\n",
      "            j += 1\n",
      "            u = v\n",
      "    pnts.append(u)\n",
      "    return G, pnts"
     ],
     "language": "python",
     "metadata": {},
     "outputs": [],
     "prompt_number": 19
    },
    {
     "cell_type": "markdown",
     "metadata": {},
     "source": [
      "Testing this function will take a bit of leg work. We need to construct a set of latitudinal lines and altitudes which define a reasonable grid. Then we will run our algorithm and fill in cells with colors."
     ]
    },
    {
     "cell_type": "code",
     "collapsed": false,
     "input": [
      "n_lats = 20\n",
      "start_theta, end_theta = 7*pi/6, 2*pi/3\n",
      "angles = np.linspace(start_theta, end_theta, n_lats)\n",
      "ts = zeros((n_lats,))\n",
      "lats = [(theta, t) for theta, t in zip(angles, ts)]\n",
      "\n",
      "n_alts = 6\n",
      "min_alt, max_alt = 10., 100.\n",
      "alts = np.linspace(min_alt, max_alt, n_alts)\n",
      "\n",
      "fig = plt.figure()\n",
      "ax = fig.add_subplot(1,1,1)\n",
      "\n",
      "def plot_proj_line(line, tau, color, linewidth=1.):\n",
      "    theta, t = line\n",
      "    tau = np.repeat(array([tau]), 2, axis=0).T\n",
      "    u = array([t * cos(theta), t * sin(theta)])\n",
      "    e = array([sin(theta), -cos(theta)])\n",
      "    pnts = u + tau * e\n",
      "    ax.plot(pnts[:,0], pnts[:,1], c=color, lw=linewidth)\n",
      "\n",
      "tau = [min_alt, max_alt]\n",
      "\n",
      "# plot the latitudinal lines\n",
      "for i, lat in enumerate(lats):\n",
      "    plot_proj_line(lat, tau, color=(.2,.6,.9/(0.04*i+1)))\n",
      "    \n",
      "# plot the altitudes\n",
      "rads = np.linspace(start_theta-pi/2, end_theta-pi/2, 40)\n",
      "x = cos(rads); y = sin(rads)\n",
      "for i, alt in enumerate(alts):\n",
      "    ax.plot(alt*x, alt*y, c=(.6,.2,.9/(0.04*i+1)))\n",
      "\n",
      "# make projection lines\n",
      "lines = [(2.7*pi/3, 20.),\n",
      "         (2.4*pi/3, 20.),\n",
      "         (2.1*pi/3, 20.)\n",
      "         ]\n",
      "\n",
      "# get grid, plot projection lines and intersection points\n",
      "grid = zeros((len(alts), len(lats)))\n",
      "for line in lines:\n",
      "    plot_proj_line(line, tau, color=(.8, .9, .6), linewidth=3.)\n",
      "    G, pnts = get_polar_grid_overlap(line, lats, alts)\n",
      "    grid += G\n",
      "    x = [pnt[0] for pnt in pnts]; y = [pnt[1] for pnt in pnts]\n",
      "    ax.plot(x,y, 'r+')\n",
      "    \n",
      "fig = plt.figure(); ax = fig.add_subplot(1,1,1)\n",
      "ax.imshow(grid[:,1:], origin='lower', interpolation='nearest')"
     ],
     "language": "python",
     "metadata": {},
     "outputs": [
      {
       "metadata": {},
       "output_type": "pyout",
       "prompt_number": 174,
       "text": [
        "<matplotlib.image.AxesImage at 0x10ff1df90>"
       ]
      },
      {
       "metadata": {},
       "output_type": "display_data",
       "png": "[encoded data removed]",
       "text": [
        "<matplotlib.figure.Figure at 0x10fe3cbd0>"
       ]
      },
      {
       "metadata": {},
       "output_type": "display_data",
       "png": "[encoded data removed]",
       "text": [
        "<matplotlib.figure.Figure at 0x10fe3c090>"
       ]
      }
     ],
     "prompt_number": 174
    },
    {
     "cell_type": "markdown",
     "metadata": {},
     "source": [
      "TODO: in order to fix beginning problem (i.e. high values in first column due to inclusion of out-of-grid values)--remove first column"
     ]
    },
    {
     "cell_type": "markdown",
     "metadata": {},
     "source": [
      "# STOP\n",
      "## This notebook should end here\n",
      "### You cannot vectorize this problem. The code should be written in Cython.\n",
      "\n",
      "-----------\n",
      "\n",
      "Everything below these lines is a failed attempt at vectorizing this problem. It is kept here because it is demonstrative, but incomplete.\n",
      "\n",
      "-------------\n",
      "\n",
      "-------------\n"
     ]
    },
    {
     "cell_type": "markdown",
     "metadata": {},
     "source": [
      "# a first step in improving our algorithms\n",
      "\n",
      "Now that we've implemented naiive versions of these algorithms, its time to atone and write good code. Specifically, we will focus on vectorizing our matrix calulations. This will not be the end-all--as it turns out, our vectorized code will have some inherent inefficiencies. Ultimately, we may want to consider sequential algorithm using loops in Cython or Julia."
     ]
    },
    {
     "cell_type": "markdown",
     "metadata": {},
     "source": [
      "\n",
      "Remember we solved for the intersection at $v$ as $\\boldsymbol{v} = \\boldsymbol{u_i} + \\tau_i \\begin{bmatrix} \\sin\\theta_i \\\\ -\\cos\\theta_i \\end{bmatrix}$, where $\\begin{bmatrix} \\tau_1 \\\\ \\tau_2 \\end{bmatrix} = \\boldsymbol{A}^{-1}(\\bf u_2 - u_1)$ and $ \\boldsymbol{A} = \\begin{bmatrix} \\sin\\theta_1 & -\\sin\\theta_2 \\\\ -\\cos\\theta_1 & \\cos\\theta_2 \\end{bmatrix}$."
     ]
    },
    {
     "cell_type": "code",
     "collapsed": false,
     "input": [
      "def get_grid_intersection_points(lines, xs, ys):\n",
      "    '''\n",
      "    Computes the overlap of each line in lines with each cell of a grid\n",
      "    defined by vertical grid boundaries in xs and horizontal grid\n",
      "    boundaries in ys\n",
      "    ----------\n",
      "    lines : L by 2 ndarray of (theta,t) line coordinate pairs\n",
      "    xs : N by 2 ndarray of (theta,t) line coordinates for the positions \n",
      "        of a set of adjacent grid boundaries\n",
      "    ys : M by 2 ndarray of (theta,t) line coordinates for the positions\n",
      "        of a set of adjacent grid boundaries--should be approximately\n",
      "        orthogonal to xs\n",
      "    -------\n",
      "    G : M by N ndarray with values filled in for line overlap\n",
      "    '''\n",
      "    L, M, N = lines.shape[0], ys.shape[0], xs.shape[0]\n",
      "    G = zeros((L,M,N))\n",
      "    \n",
      "    u_l = zeros((L,2))\n",
      "    u_l[:,0] = lines[:,1] * cos(lines[:,0])\n",
      "    u_l[:,1] = lines[:,1] * sin(lines[:,0])\n",
      "    \n",
      "    u_y = zeros((M,2))\n",
      "    u_y[:,0] = ys[:,1] * cos(ys[:,0])\n",
      "    u_y[:,1] = ys[:,1] * sin(ys[:,0])\n",
      "    \n",
      "    u_x = zeros((N,2))\n",
      "    u_x[:,0] = xs[:,1] * cos(xs[:,0])\n",
      "    u_x[:,1] = xs[:,1] * sin(xs[:,0])\n",
      "    \n",
      "    du_ly = u_y[None,:] - u_l[:,None]\n",
      "    \n",
      "    du_lx = u_x[None,:] - u_l[:,None]\n",
      "    \n",
      "    print('u_l: {0}; u_x: {1}: u_y: {2}'.format(u_l.shape, u_x.shape, u_y.shape))\n",
      "    print('u_y - u_l: {0}; u_x - u_l: {1}'.format(du_ly.shape, du_lx.shape))\n",
      "\n",
      "    du_ly = du_ly.reshape((L*M,2))\n",
      "    du_lx = du_lx.reshape((L*N,2))\n",
      "    \n",
      "    print('after reshape')\n",
      "    print('u_y - u_l: {0}; u_x - u_l: {1}'.format(du_ly.shape, du_lx.shape))\n",
      "    \n",
      "    # compute all horizontal intersections\n",
      "    A_x = array([[sin(lines[:,0]), zeros((L,))],\n",
      "                [-cos(lines[:,0]), ones((L,))]])\n",
      "    \n",
      "    A_y = array([[sin(lines[:,0]), -ones((L,))],\n",
      "                [-cos(lines[:,0]), zeros((L,))]])\n",
      "    \n",
      "    A_x = A_x.swapaxes(0,1).swapaxes(0,2)\n",
      "    A_y = A_y.swapaxes(0,1).swapaxes(0,2)\n",
      "    \n",
      "    print('A_y: {0}; A_x: {1}'.format(A_y.shape, A_x.shape))\n",
      "    \n",
      "    inv_A_y = inv(A_y).repeat(M, axis=0)\n",
      "    inv_A_x = inv(A_x).repeat(N, axis=0)\n",
      "    \n",
      "    print('inv_A_y: {0}; inv_A_x: {1}'.format(inv_A_y.shape, inv_A_x.shape))\n",
      "    \n",
      "    tau_y = np.einsum('ijk,ik->ij', inv_A_y, du_ly).reshape((L,M,2))[:,:,0]\n",
      "    tau_x = np.einsum('ijk,ik->ij', inv_A_x, du_lx).reshape((L,N,2))[:,:,0]\n",
      "    \n",
      "    print('tau_y: {0}; tau_x: {1}'.format(tau_y.shape, tau_x.shape))\n",
      "    \n",
      "    dir_l = np.array([sin(lines[:,0]), -cos(lines[:,0])]).swapaxes(0,1)\n",
      "    \n",
      "    print('dir_l: {0}'.format(dir_l.shape))\n",
      "\n",
      "    pnts_y = u_l[:,None,:] + tau_y[:,:,None] * dir_l[:,None,:]\n",
      "    pnts_x = u_l[:,None,:] + tau_x[:,:,None] * dir_l[:,None,:]\n",
      "    \n",
      "    print('pnts_y: {0}; pnts_x: {1}'.format(pnts_y.shape, pnts_x.shape))\n",
      "    \n",
      "    pnts = np.append(pnts_y, pnts_x, axis=1).swapaxes(0,1)\n",
      "    \n",
      "    print('pnts: {0}'.format(pnts.shape))\n",
      "    \n",
      "    # assume theta in [0,pi)\n",
      "    ind = np.argsort(pnts[:,:,1], axis=0)\n",
      "    \n",
      "    print('ind: {0}'.format(ind.shape))\n",
      "    \n",
      "    pnts = pnts[np.arange(pnts.shape[0])[:,None,None], ind[:,:,None], np.arange(2)[None,None:]]\n",
      "    \n",
      "    print('pnts: {0}'.format(pnts.shape))\n",
      "    \n",
      "    return pnts"
     ],
     "language": "python",
     "metadata": {},
     "outputs": [],
     "prompt_number": 169
    },
    {
     "cell_type": "code",
     "collapsed": false,
     "input": [
      "# make projection lines\n",
      "L = 30\n",
      "lines = zeros((L,2))\n",
      "lines[:,0] = np.linspace(2*pi/3, pi/12, L)\n",
      "lines[:,1] = .1 * (np.linspace(25., -25., L))**2\n",
      "\n",
      "# make xs\n",
      "min_x, max_x= 0., 100.\n",
      "N = 10\n",
      "xs = zeros((N,2))\n",
      "xs[:,1] = np.linspace(min_x, max_x, N)\n",
      "# make altitudes\n",
      "min_y, max_y = 0., 100.\n",
      "M = 20\n",
      "ys = pi / 2. * ones((M,2))\n",
      "ys[:,1] = np.linspace(min_y, max_y, M)\n",
      "\n",
      "fig = plt.figure()\n",
      "ax = fig.add_subplot(1,1,1)\n",
      "\n",
      "tau_x = [-min_x, -max_x]\n",
      "tau_y = [min_y, max_y]\n",
      "\n",
      "# plot the xs\n",
      "for i, x_line in enumerate(xs):\n",
      "    plot_proj_line(x_line, tau_x, color=(.2,.6,.9/(0.09*i+1)))\n",
      "# plot the ys\n",
      "for i, y_line in enumerate(ys):\n",
      "    plot_proj_line(y_line, tau_y, color=(.2,.6,.9/(0.09*i+1)))\n",
      "\n",
      "pnts = get_grid_intersection_points(lines, xs, ys)\n",
      "\n",
      "pnts = pnts.reshape((pnts.shape[0]*pnts.shape[1],2))\n",
      "ax.plot(pnts[:,0],pnts[:,1],'b+')\n",
      "ax.set_xlim(left=min_x,right=max_x); ax.set_ylim(bottom=min_y,top=max_y)"
     ],
     "language": "python",
     "metadata": {},
     "outputs": [
      {
       "output_type": "stream",
       "stream": "stdout",
       "text": [
        "u_l: (30, 2); u_x: (10, 2): u_y: (20, 2)\n",
        "u_y - u_l: (30, 20, 2); u_x - u_l: (30, 10, 2)\n",
        "after reshape\n",
        "u_y - u_l: (600, 2); u_x - u_l: (300, 2)\n",
        "A_y: (30, 2, 2); A_x: (30, 2, 2)\n",
        "inv_A_y: (600, 2, 2); inv_A_x: (300, 2, 2)\n",
        "tau_y: (30, 20); tau_x: (30, 10)\n",
        "dir_l: (30, 2)\n",
        "pnts_y: (30, 20, 2); pnts_x: (30, 10, 2)\n",
        "pnts: (30, 30, 2)\n",
        "ind: (30, 30)\n",
        "pnts: (30, 30, 2)\n"
       ]
      },
      {
       "metadata": {},
       "output_type": "pyout",
       "prompt_number": 172,
       "text": [
        "(0.0, 100.0)"
       ]
      },
      {
       "metadata": {},
       "output_type": "display_data",
       "png": "[encoded data removed]",
       "text": [
        "<matplotlib.figure.Figure at 0x10fb3f190>"
       ]
      }
     ],
     "prompt_number": 172
    },
    {
     "cell_type": "code",
     "collapsed": false,
     "input": [
      "# make latitudes\n",
      "n_lats = 20\n",
      "start_theta, end_theta = 7*pi/6, 2*pi/3\n",
      "angles = np.linspace(start_theta, end_theta, n_lats)\n",
      "ts = zeros((n_lats,))\n",
      "lats = [(theta, t) for theta, t in zip(angles, ts)]\n",
      "# make altitudes\n",
      "n_alts = 6\n",
      "min_alt, max_alt = 10., 100.\n",
      "alts = np.linspace(min_alt, max_alt, n_alts)\n",
      "\n",
      "fig = plt.figure()\n",
      "ax = fig.add_subplot(1,1,1)\n",
      "\n",
      "tau = [min_alt, max_alt]\n",
      "\n",
      "# plot the latitudinal lines\n",
      "for i, lat in enumerate(lats):\n",
      "    plot_proj_line(lat, tau, color=(.2,.6,.9/(0.04*i+1)))\n",
      "    \n",
      "# plot the altitudes\n",
      "rads = np.linspace(start_theta-pi/2, end_theta-pi/2, 40)\n",
      "x = cos(rads); y = sin(rads)\n",
      "for i, alt in enumerate(alts):\n",
      "    ax.plot(alt*x, alt*y, c=(.6,.2,.9/(0.04*i+1)))\n",
      "\n",
      "# get grid, plot projection lines and intersection points\n",
      "grid = zeros((len(alts), len(lats)))\n",
      "for line in lines:\n",
      "    plot_proj_line(line, tau, color=(.8, .9, .6), linewidth=3.)\n",
      "    G, pnts = get_polar_grid_overlap(line, lats, alts)\n",
      "    grid += G\n",
      "    x = [pnt[0] for pnt in pnts]; y = [pnt[1] for pnt in pnts]\n",
      "    ax.plot(x,y, 'r+')\n",
      "    \n",
      "fig = plt.figure(); ax = fig.add_subplot(1,1,1)\n",
      "ax.imshow(grid[:,1:], origin='lower', interpolation='nearest')"
     ],
     "language": "python",
     "metadata": {},
     "outputs": [
      {
       "metadata": {},
       "output_type": "pyout",
       "prompt_number": 173,
       "text": [
        "<matplotlib.image.AxesImage at 0x10fec3fd0>"
       ]
      },
      {
       "metadata": {},
       "output_type": "display_data",
       "png": "[encoded data removed]",
       "text": [
        "<matplotlib.figure.Figure at 0x10fe3f1d0>"
       ]
      },
      {
       "metadata": {},
       "output_type": "display_data",
       "png": "[encoded data removed]",
       "text": [
        "<matplotlib.figure.Figure at 0x10fb2ab90>"
       ]
      }
     ],
     "prompt_number": 173
    },
    {
     "cell_type": "code",
     "collapsed": false,
     "input": [
      "a = np.arange(3*4*2*2).reshape((3,4,2,2))"
     ],
     "language": "python",
     "metadata": {},
     "outputs": [],
     "prompt_number": 175
    },
    {
     "cell_type": "code",
     "collapsed": false,
     "input": [
      "a = a.reshape((12,2,2))"
     ],
     "language": "python",
     "metadata": {},
     "outputs": [],
     "prompt_number": 176
    },
    {
     "cell_type": "code",
     "collapsed": false,
     "input": [
      "b = np.arange(12*2).reshape((12,2))"
     ],
     "language": "python",
     "metadata": {},
     "outputs": [],
     "prompt_number": 177
    },
    {
     "cell_type": "code",
     "collapsed": false,
     "input": [
      "np.einsum('ijk,ik->ij',a,b)"
     ],
     "language": "python",
     "metadata": {},
     "outputs": [
      {
       "metadata": {},
       "output_type": "pyout",
       "prompt_number": 86,
       "text": [
        "array([[   1,    3],\n",
        "       [  23,   33],\n",
        "       [  77,   95],\n",
        "       [ 163,  189],\n",
        "       [ 281,  315],\n",
        "       [ 431,  473],\n",
        "       [ 613,  663],\n",
        "       [ 827,  885],\n",
        "       [1073, 1139],\n",
        "       [1351, 1425],\n",
        "       [1661, 1743],\n",
        "       [2003, 2093]])"
       ]
      }
     ],
     "prompt_number": 86
    }
   ],
   "metadata": {}
  }
 ]
}