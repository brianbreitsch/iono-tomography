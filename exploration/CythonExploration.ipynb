{
 "metadata": {
  "css": [
   ""
  ],
  "name": "",
  "signature": "sha256:88864504da054c0654d3b9a279b95d8018d0dd6c085c880179aed3022d2e60e2"
 },
 "nbformat": 3,
 "nbformat_minor": 0,
 "worksheets": [
  {
   "cells": [
    {
     "cell_type": "markdown",
     "metadata": {
      "slideshow": {
       "slide_type": "slide"
      }
     },
     "source": [
      "# Making our code faster\n",
      "\n",
      "We have written functions *radon* and *projmtx* that have been useful in generating projections for testing inversion methods. However, these functions, so far, perform relatively slowly. We therefore find it necessary to write faster code. To do so, we will start using Cython. What follows is an exposition on Cython (in ipython notebook context)."
     ]
    },
    {
     "cell_type": "code",
     "collapsed": false,
     "input": [
      "%reload_ext cythonmagic"
     ],
     "language": "python",
     "metadata": {
      "slideshow": {
       "slide_type": "skip"
      }
     },
     "outputs": [],
     "prompt_number": 1
    },
    {
     "cell_type": "code",
     "collapsed": false,
     "input": [
      "%%cython\n",
      "cimport cython\n",
      "import numpy as np\n",
      "cimport numpy as np\n",
      "import scipy as sp\n",
      "import scipy.ndimage as ndimage\n",
      "import scipy.signal as signal\n",
      "@cython.boundscheck(False)\n",
      "@cython.wraparound(False)\n",
      "cdef np.ndarray[double, ndim=2] project2d(\n",
      "    np.ndarray[double, ndim=2] img,\n",
      "    np.ndarray[double, ndim=2] lines):\n",
      "    '''\n",
      "    Performs 2-dimensional projections along a set of lines\n",
      "    '''\n",
      "    assert(lines.shape[1] == 2) # lines must be a N-by-2 array; 1st column angle, 2nd column offset\n",
      "    cdef:\n",
      "        int img_h = img.shape[0]\n",
      "        int img_w = img.shape[1]\n",
      "        int n_proj = lines.shape[0]\n",
      "        np.ndarray[double, ndim=2] proj\n",
      "        float angle, offset\n",
      "    proj = np.zeros((n_proj,1))\n",
      "    \n",
      "    for i in range(n_proj):\n",
      "        angle, offset = lines[i,:]\n",
      "        sp.interpolate.interp1d()\n",
      "        ndimage.geometric_transform()\n",
      "        #proj[i,:] = sp.signal.resample(np.sum(ndimage.rotate(img,t,reshape=False),axis=0),n_proj)\n",
      "    return proj\n",
      "    "
     ],
     "language": "python",
     "metadata": {
      "slideshow": {
       "slide_type": "subslide"
      }
     },
     "outputs": [],
     "prompt_number": 2
    },
    {
     "cell_type": "code",
     "collapsed": false,
     "input": [
      "%%bash\n",
      "ls"
     ],
     "language": "python",
     "metadata": {
      "slideshow": {
       "slide_type": "slide"
      }
     },
     "outputs": [
      {
       "output_type": "stream",
       "stream": "stdout",
       "text": [
        "Cythonize.ipynb\n",
        "Cythonize.slides.html\n",
        "DailyNotes.ipynb\n",
        "Homework_1.ipynb\n",
        "IonosphereModel.ipynb\n",
        "RadonExploration.ipynb\n",
        "code\n",
        "data\n",
        "img\n",
        "install-support.ipynb\n"
       ]
      }
     ],
     "prompt_number": 2
    },
    {
     "cell_type": "code",
     "collapsed": false,
     "input": [
      "%%bash\n",
      "ipython nbconvert Cythonize.ipynb --to slides --post serve"
     ],
     "language": "python",
     "metadata": {
      "slideshow": {
       "slide_type": "slide"
      }
     },
     "outputs": [
      {
       "output_type": "stream",
       "stream": "stdout",
       "text": [
        "Process is terminated.\n"
       ]
      }
     ],
     "prompt_number": 1
    }
   ],
   "metadata": {}
  }
 ]
}