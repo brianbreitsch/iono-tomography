{
 "metadata": {
  "css": [
   ""
  ],
  "name": "",
  "signature": "sha256:c7c93b59d30279db337d06e087d7939b19d9bd22c56d14c179be483b229a5040"
 },
 "nbformat": 3,
 "nbformat_minor": 0,
 "worksheets": [
  {
   "cells": [
    {
     "cell_type": "markdown",
     "metadata": {},
     "source": [
      "# fun with WGS84\n",
      "\n",
      "The ***World Geodetic System 1984*** contains a specification for the Earth ellipsoid that is widely used across the whole realm of geodetic and Earth science domains. Our domain, ionospheric imaging, is one of them. We want to partition our 2D and 3D imaging grids based on the latitudinal/longitudinal/altitude planes in the WGS84 specification."
     ]
    },
    {
     "cell_type": "markdown",
     "metadata": {},
     "source": [
      "### websites\n",
      "\n",
      "Understanding coordinate systems/transformations will be important for our purposes.\n",
      "\n",
      "Here are some web links:\n",
      "\n",
      "- The [Geographic Coordinate System Wikipedia page]\n",
      "\n",
      "- The National Geospacial Intelligence Agency (NGA) [Coordinate Systems] page\n",
      "\n",
      "- The [WGS Wikipedia page] provides a nice history of how WGS84 came to be and how its accuracy evolved.\n",
      "\n",
      "Additionally, this paper on [Geodetic Coordinate Systems] will be our reference for the math and derivations below.\n",
      "\n",
      "[Geographic Coordinate System Wikipedia page]:http://en.wikipedia.org/wiki/Geographic_coordinate_system\n",
      "[Coordinate Systems]:http://earth-info.nga.mil/GandG/coordsys/index.html\n",
      "[WGS Wikipedia page]:http://en.wikipedia.org/wiki/World_Geodetic_System\n",
      "[Geodetic Coordinate Systems]:localhost:8888/tree/reference/GPS.G1-X-00006.pdf"
     ]
    },
    {
     "cell_type": "markdown",
     "metadata": {},
     "source": [
      "The Earth is approximately spherical--its major-axis in the equatorial plane is about $0.4\\%$ longer than its minor axis running from pole to pole (CHECK FACT). The EGS58 (CHECK NAME) geoid is a highly detailed, order-360 spherical harmonic construction of the Earth's gravitational field. The surface of this geoid defines mean sea level. The WGS84 ellipsoid deviates from the EGS58 geoid by at most $100$ meters.\n",
      "\n",
      "Symbol defs:"
     ]
    },
    {
     "cell_type": "markdown",
     "metadata": {},
     "source": [
      "\n",
      "WGS84 parameters\n",
      "\n",
      "* semi-major axis: $\\ \\ a = 6378137$\n",
      "\n",
      "\n",
      "* semi-minor axis: $\\ \\ b = a(1-f) = 6356752.31424518$\n",
      "\n",
      "\n",
      "* flattening: $\\ \\ f = \\frac 1 298.257223563$\n",
      "\n",
      "\n",
      "* eccentricity: $\\ \\ e = \\sqrt{\\frac{a^2 - b^2}{a^2}} \\ \\ \\ \\ e' = \\sqrt{\\frac{a^2 - b^2}{b^2}}$\n",
      "\n",
      "geodetic variables:\n",
      "\n",
      "* latitude: $\\ \\ \\phi$\n",
      "\n",
      "* longitude: $\\ \\ \\gamma$\n",
      "\n",
      "* altitude: $\\ \\ h$\n",
      "\n",
      "* $\\Delta = e^2 a \\sin \\phi$"
     ]
    },
    {
     "cell_type": "markdown",
     "metadata": {},
     "source": [
      "-----------\n",
      "\n",
      "Obligatory import cell:"
     ]
    },
    {
     "cell_type": "code",
     "collapsed": false,
     "input": [
      "import numpy as np\n",
      "from numpy import pi, cos, sin, arcsin, arctan2, sqrt\n",
      "from numpy.linalg import inv, norm"
     ],
     "language": "python",
     "metadata": {},
     "outputs": [],
     "prompt_number": 2
    },
    {
     "cell_type": "code",
     "collapsed": false,
     "input": [
      "class WGS84:\n",
      "    \n",
      "    a = 6378137\n",
      "    b = 6356752.31424518\n",
      "    f = 1 / 298.257223563\n",
      "    e = sqrt((a**2 - b**2)/(a**2))\n",
      "    e_p = sqrt((a**2 - b**2)/(b**2))\n",
      "    \n",
      "    assert(np.allclose(b, a*(1-f)))"
     ],
     "language": "python",
     "metadata": {},
     "outputs": [],
     "prompt_number": 3
    },
    {
     "cell_type": "markdown",
     "metadata": {},
     "source": [
      "-------------\n",
      "\n",
      "One of our tasks is to get the *line coordinate* representation of a latitudinal line. When given a latitudinal angle $\\phi$, we can compute its offset $\\Delta = e^2 a \\sin \\phi$ along the polar axis. Using these information, we can figure out the impact parameter $t$ and write the line coordinates $(\\theta,t)$.\n",
      "\n",
      "To find the impact parameter, we really want to find the intersection of two lines: one starting at $(0,0)$ with normal $\\theta$ and one starting at $(0,\\Delta)$ with normal $\\theta + \\frac \\pi 2$. We have solved the intersection of lines before--\n",
      "in the **Fun With Grids** notebook, we got the answer:\n",
      "\n",
      "$\\boldsymbol{A} \\begin{bmatrix} \\tau_1 \\\\ \\tau_2 \\end{bmatrix} = \\bf u_2 - u_1$,\n",
      "where $ \\boldsymbol{A} = \\begin{bmatrix} \\sin\\theta_1 & -\\sin\\theta_2 \\\\ -\\cos\\theta_1 & \\cos\\theta_2 \\end{bmatrix}$"
     ]
    },
    {
     "cell_type": "code",
     "collapsed": false,
     "input": [
      "def line_coordinates_2d(lat):\n",
      "    '''\n",
      "    Calculates the line coordinates for a latitudinal line\n",
      "    given a latitude.\n",
      "    '''\n",
      "    theta1, theta2 = np.deg2rad(lat), np.deg2rad(lat) + pi / 2.\n",
      "    delta = WGS84.e**2 * WGS84.a * sin(theta1)\n",
      "    u1 = np.array([0, 0])\n",
      "    u2 = np.array([0, delta])\n",
      "    A = np.matrix([[sin(theta1), -sin(theta2)],\n",
      "                   [-cos(theta1), cos(theta2)]])\n",
      "    tau = inv(A) * (u2 - u1).reshape((2,1))\n",
      "    return (theta2, tau[0,0])"
     ],
     "language": "python",
     "metadata": {},
     "outputs": [],
     "prompt_number": 31
    },
    {
     "cell_type": "code",
     "collapsed": false,
     "input": [
      "line_coordinates_2d(45)"
     ],
     "language": "python",
     "metadata": {},
     "outputs": [
      {
       "metadata": {},
       "output_type": "pyout",
       "prompt_number": 32,
       "text": [
        "(2.3561944901923448, -21348.836353589373)"
       ]
      }
     ],
     "prompt_number": 32
    },
    {
     "cell_type": "markdown",
     "metadata": {},
     "source": [
      "To demonstrate the function, let's plot some latitudes on the Earth!"
     ]
    },
    {
     "cell_type": "code",
     "collapsed": false,
     "input": [
      "import matplotlib.pyplot as plt\n",
      "from matplotlib.patches import Ellipse\n",
      "%matplotlib inline"
     ],
     "language": "python",
     "metadata": {},
     "outputs": [],
     "prompt_number": 33
    },
    {
     "cell_type": "code",
     "collapsed": false,
     "input": [
      "def plot_earth(axes, margin=(1000000,)):\n",
      "    earth_ellipse = Ellipse(xy=(0,0), width=(2 * WGS84.a), height=(2 * WGS84.b))\n",
      "    earth_ellipse.set_alpha(0.5)\n",
      "    earth_ellipse.set_facecolor((.5,.7,.95))\n",
      "    ax.add_artist(earth_ellipse)\n",
      "    x_m = WGS84.a + margin[0]\n",
      "    y_m = WGS84.b + margin[-1]\n",
      "    ax.set_xlim([-x_m, x_m])\n",
      "    ax.set_ylim([-y_m, y_m])\n",
      "\n",
      "def plot_line(axes, line, tau, color=(0.,0.,0.), linewidth=1.):\n",
      "    theta, t = line\n",
      "    tau = np.repeat(np.array([tau]), 2, axis=0).T\n",
      "    u = np.array([t * cos(theta), t * sin(theta)])\n",
      "    e = np.array([sin(theta), -cos(theta)])\n",
      "    pnts = u + tau * e\n",
      "    ax.plot(pnts[:,0], pnts[:,1], c=color, lw=linewidth)"
     ],
     "language": "python",
     "metadata": {},
     "outputs": [],
     "prompt_number": 34
    },
    {
     "cell_type": "code",
     "collapsed": false,
     "input": [
      "fig = plt.figure()\n",
      "ax = fig.add_subplot(111)\n",
      "plot_earth(ax)\n",
      "pseudo_r = (WGS84.a + WGS84.b) / 2\n",
      "for lat in [0., 15., 45., 75., 90.]:\n",
      "    line = line_coordinates_2d(lat)\n",
      "    plot_line(ax, line, tau=[-pseudo_r/2.,pseudo_r], color=(np.ones(3)*lat/90.))\n",
      "    \n",
      "ax.set_xlim([-50000., 50000.])\n",
      "ax.set_ylim([-50000., 50000.])"
     ],
     "language": "python",
     "metadata": {},
     "outputs": [
      {
       "metadata": {},
       "output_type": "pyout",
       "prompt_number": 35,
       "text": [
        "(-50000.0, 50000.0)"
       ]
      },
      {
       "metadata": {},
       "output_type": "display_data",
       "png": "[encoded data removed]",
       "text": [
        "<matplotlib.figure.Figure at 0x10aadfd50>"
       ]
      }
     ],
     "prompt_number": 35
    },
    {
     "cell_type": "code",
     "collapsed": false,
     "input": [],
     "language": "python",
     "metadata": {},
     "outputs": []
    }
   ],
   "metadata": {}
  }
 ]
}