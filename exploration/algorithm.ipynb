{
 "metadata": {
  "css": [
   ""
  ],
  "name": "",
  "signature": "sha256:1f6e284b9453db29769a47df39cffe485f89ce3c6a530ce7e0a0bece210856cf"
 },
 "nbformat": 3,
 "nbformat_minor": 0,
 "worksheets": [
  {
   "cells": [
    {
     "cell_type": "markdown",
     "metadata": {},
     "source": [
      "As reason would hold, `rectangular_grid_projection_matrix` and `geodetic_grid_projection_matrix` will generate a projection matrices for lines passing through a rectangular and geodetic grids respectively."
     ]
    },
    {
     "cell_type": "code",
     "collapsed": false,
     "input": [
      "def rectangular_grid_projection_matrix():\n",
      "    pass\n",
      "\n",
      "def geodetic_grid_projection_matrix():\n",
      "    pass"
     ],
     "language": "python",
     "metadata": {},
     "outputs": [],
     "prompt_number": 1
    },
    {
     "cell_type": "markdown",
     "metadata": {},
     "source": [
      "In its most general form, we can describe a rectangular grid using 12 paramters:\n",
      "\n",
      "- $(x,y,z)$: the position of grid origin (bottom front left corner) within general reference frame (e.g. ECEF frame)\n",
      "\n",
      "- $\\gamma, \\beta, \\alpha$: the rotation of the grid around its origin along axes $x',y'z'$, which are parallel to axes $x'', y'', z''$ of the general reference frame\n",
      "\n",
      "- $\\Delta x, \\Delta y, \\Delta z$: the deltas grid separation spacing in the $x$, $y$, and $z$ directions\n",
      "\n",
      "- `nx`, `ny`, `nz`: the number of grid cells along the grid's $x$, $y$, and $z$ axes\n",
      "\n",
      "Each of these parameters is necessary to relate the grid to a line specified in a general reference frame. From almost every perspective, the problem we are solving (finding the overlap of a line with each grid cell) becomes easier if we transform our coordinates so that the grid's origin is *the* origin.\n",
      "\n",
      "The figure below illustrates the geommetry in 2 dimensions."
     ]
    },
    {
     "cell_type": "markdown",
     "metadata": {},
     "source": [
      "<img src=\"../img/grid_transformation.png\"/>"
     ]
    },
    {
     "cell_type": "markdown",
     "metadata": {},
     "source": [
      "Let the line coordinates for the projection line be $(\\theta, \\phi, t)$, where $\\theta$ is an 'azimuthal' rotation around $z$ axis and $\\phi$ is an elevation angle of the line's normal vector, and $t$ is its orthogonal distance from the origin.\n",
      "\n",
      "In order to ease the transformation from the general to the grid reference frame, we define the line by a set of two points:"
     ]
    },
    {
     "cell_type": "markdown",
     "metadata": {},
     "source": [
      "$\\boldsymbol{x_1}$ is $t \\begin{bmatrix} \\cos\\theta\\cos\\phi \\\\ \\cos\\theta\\sin\\phi \\\\ \\sin\\phi \\end{bmatrix}$, the coordinates of the line impact parameter\n",
      "\n",
      "$\\boldsymbol{x_2}$ is $t \\begin{bmatrix} \\cos\\theta\\cos\\phi \\\\ \\cos\\theta\\sin\\phi \\\\ \\sin\\phi \\end{bmatrix} + \\tau \\begin{bmatrix} -\\cos\\theta\\cos\\phi \\\\ \\sin\\theta\\cos\\phi \\\\ \\cos\\phi \\end{bmatrix}$, a point along the line with $\\tau chosen to maximize geommetric diversity and minimize calculation error."
     ]
    },
    {
     "cell_type": "markdown",
     "metadata": {},
     "source": [
      "Furthermore, let $\\boldsymbol{x_0}$ denote $(x,y,z)$, the coordinates of the grid origin."
     ]
    },
    {
     "cell_type": "markdown",
     "metadata": {},
     "source": [
      "We compute the line coordinates for the grid reference frame in 2 steps:\n",
      "\n",
      "1. translation of grid origin to general origin\n",
      "1. rotation of $R = R_z(-\\gamma)R_y(-\\beta)R_x(-\\alpha)$ to align grid axes with axes in general reference frame"
     ]
    },
    {
     "cell_type": "markdown",
     "metadata": {},
     "source": [
      "For rotation matrices, we use:\n",
      "\n",
      "$$ R_x(\\theta) = \\begin{bmatrix} 1 & 0 & 0 \\\\ 0 & \\cos\\theta & -\\sin\\theta \\\\ 0 & \\sin\\theta & \\cos\\theta \\end{bmatrix} \\ \\ \\\n",
      "R_y(\\theta) = \\begin{bmatrix} \\cos\\theta & 0 & \\sin\\theta \\\\ 0 & 1 & 0 \\\\ -\\sin\\theta & 0 & \\cos\\theta \\end{bmatrix} \\ \\ \\\n",
      "R_z(\\theta) = \\begin{bmatrix} \\cos\\theta & -\\sin\\theta & 0 \\\\ \\sin\\theta & \\cos\\theta & 0 \\\\ 0 & 0 & 1\\end{bmatrix} \\ \\ \\\n",
      "$$"
     ]
    },
    {
     "cell_type": "markdown",
     "metadata": {},
     "source": [
      "Then we have:\n",
      "\n",
      "$$ \\boldsymbol{x_1}' = R(\\boldsymbol{x_1} - \\boldsymbol{x_0}) $$\n",
      "$$ \\boldsymbol{x_2}' = R(\\boldsymbol{x_2} - \\boldsymbol{x_0}) $$"
     ]
    },
    {
     "cell_type": "markdown",
     "metadata": {},
     "source": [
      "We can calculate new angles $\\theta'$ and $\\phi'$ by:"
     ]
    },
    {
     "cell_type": "markdown",
     "metadata": {},
     "source": [
      "$$ \\phi' = \\text{atan2}(z,\\sqrt{x^2+y^2}) + \\frac \\pi 2$$\n",
      "\n",
      "$$ \\theta' = \\text{atan2}(y,x) + \\pi$$"
     ]
    },
    {
     "cell_type": "markdown",
     "metadata": {},
     "source": [
      "The line's new origin impact paramter $t'$ is given by the formula:"
     ]
    },
    {
     "cell_type": "markdown",
     "metadata": {},
     "source": [
      "$$ t' = \\frac{| \\boldsymbol{x_1}' \\times \\boldsymbol{x_2}' |}{|\\boldsymbol{x_2}' - \\boldsymbol{x_1}'|} $$"
     ]
    },
    {
     "cell_type": "markdown",
     "metadata": {},
     "source": [
      "whose derivation can be found at [Wolfram Alpha].\n",
      "\n",
      "\n",
      "[Wolfram Alpha]:http://mathworld.wolfram.com/Point-LineDistance3-Dimensional.html"
     ]
    },
    {
     "cell_type": "markdown",
     "metadata": {},
     "source": [
      "-----------"
     ]
    },
    {
     "cell_type": "markdown",
     "metadata": {},
     "source": [
      "After this transformation, we find ourselves in the scenario similar to that depicted in the figure below."
     ]
    },
    {
     "cell_type": "markdown",
     "metadata": {},
     "source": [
      "<img src=\"../img/rectangular_cell.png\"/>"
     ]
    },
    {
     "cell_type": "markdown",
     "metadata": {},
     "source": [
      "If the projection line intersects the grid region, we need to determine where (after which our algorithm can commence).\n",
      "\n",
      "To do this, we need to check each of the six grid faces. If our projection line intersects the grid region boundary, it should do so in exactly two places--otherwise we consider the projection line out-of-bounds.\n",
      "\n",
      "For notational ease, let $\\eta = \\theta'- \\pi$ and $\\nu = \\phi' - \\frac \\pi 2$ be the angles along the line's trajectory.\n",
      "\n",
      "We know $\\eta$ (blue) and $\\nu$ (purple)."
     ]
    },
    {
     "cell_type": "markdown",
     "metadata": {},
     "source": [
      "Let $\\boldsymbol{x_0}$, $\\boldsymbol{x_1}$, and $\\boldsymbol{x_2}$ be three points defining a given grid boundary plane. Also, let $\\boldsymbol{x_a}$ and $\\boldsymbol{x_b}$ be two points defining our projection line (we should choose geommetrically diverse points to ensure computational accuracy)."
     ]
    },
    {
     "cell_type": "markdown",
     "metadata": {},
     "source": [
      "Then the following relation holds:\n",
      "\n",
      "$$ \\begin{bmatrix} \\boldsymbol{x_a} - \\boldsymbol{x_0} \\end{bmatrix} = \\begin{bmatrix} \\boldsymbol{x_a} - \\boldsymbol{x_b} & \\boldsymbol{x_0} - \\boldsymbol{x_1} & \\boldsymbol{x_0} - \\boldsymbol{x_2} \\end{bmatrix} \\begin{bmatrix} t \\\\ u \\\\ v \\end{bmatrix} $$\n",
      "\n",
      "which we invert to obtain:\n",
      "\n",
      "$$ \\begin{bmatrix} t \\\\ u \\\\ v \\end{bmatrix} = \\begin{bmatrix} \\boldsymbol{x_a} - \\boldsymbol{x_b} & \\boldsymbol{x_0} - \\boldsymbol{x_1} & \\boldsymbol{x_0} - \\boldsymbol{x_2} \\end{bmatrix}^{-1} \\begin{bmatrix} \\boldsymbol{x_a} - \\boldsymbol{x_0} \\end{bmatrix} $$"
     ]
    },
    {
     "cell_type": "markdown",
     "metadata": {},
     "source": [
      "The point of intersection $\\boldsymbol{x^*}$ is then:\n",
      "\n",
      "$$ \\boldsymbol{x^*} = \\boldsymbol{x_a} + t (\\boldsymbol{x_b} - \\boldsymbol{x_a}) $$"
     ]
    },
    {
     "cell_type": "markdown",
     "metadata": {},
     "source": [
      "We compare $\\boldsymbol{x^*}$ with the grid boundary coordinates to determine whether it is out-of-bounds. The corners of the grid are:\n",
      "\n",
      "- $(0, \\ 0, \\ 0)$\n",
      "- $(\\text{nx}\\Delta x, \\  0, \\ 0)$\n",
      "- $(0, \\  \\text{ny}\\Delta y, \\ 0)$\n",
      "- $(0, \\ 0, \\ \\text{nz}\\Delta z)$\n",
      "- $(\\text{nx}\\Delta x, \\  \\text{ny}\\Delta y, \\ 0)$\n",
      "- $(\\text{nx}\\Delta x, \\  0, \\ \\text{nz}\\Delta z)$\n",
      "- $(0, \\ \\text{ny}\\Delta y, \\ \\text{nz}\\Delta z)$\n",
      "- $(\\text{nx}\\Delta x, \\  \\text{ny}\\Delta y, \\ \\text{nz}\\Delta z)$\n"
     ]
    },
    {
     "cell_type": "markdown",
     "metadata": {},
     "source": [
      "Once we have determined our position of intersection with the grid, we can reframe our problem to simplify our algorithm. We need to mirror our grid in such a way that our ray is travelling back/right/up.\n",
      "\n",
      "Say we wanted to mirror along the x axis about the center of the simulation region. We would do:\n",
      "\n",
      "$$ \\boldsymbol{x^*} = \\begin{bmatrix} 1 & 0 & 0 & \\text{nx} \\Delta x / 2 \\\\\n",
      "                                     0 & 1 & 0 & \\text{ny} \\Delta y / 2 \\\\\n",
      "                                     0 & 0 & 1 & \\text{nz} \\Delta z / 2 \\\\\n",
      "                                     0 & 0 & 0 & 1 \\end{bmatrix}\n",
      "                      \\begin{bmatrix} -1 & 0 & 0 & 0\\\\\n",
      "                                     0 & 1 & 0 & 0 \\\\\n",
      "                                     0 & 0 & 1 & 0 \\\\\n",
      "                                     0 & 0 & 0 & 1 \\end{bmatrix} \n",
      "                      \\begin{bmatrix} 1 & 0 & 0 & -\\text{nx} \\Delta x / 2 \\\\\n",
      "                                     0 & 1 & 0 & -\\text{ny} \\Delta y / 2 \\\\\n",
      "                                     0 & 0 & 1 & -\\text{nz} \\Delta z / 2 \\\\\n",
      "                                     0 & 0 & 0 & 1 \\end{bmatrix} \\boldsymbol{x} $$\n",
      "                             "
     ]
    },
    {
     "cell_type": "markdown",
     "metadata": {},
     "source": [
      "$$ = \\begin{bmatrix} -1 & 0 & 0 & \\text{nx} \\Delta x \\\\\n",
      "                     0 & 1 & 0 & 0 \\\\\n",
      "                     0 & 0 & 1 & 0 \\\\\n",
      "                     0 & 0 & 0 & 1 \\end{bmatrix} \\boldsymbol{x} $$"
     ]
    },
    {
     "cell_type": "markdown",
     "metadata": {},
     "source": [
      "which simply amounts to subtracting the $x$ value from the x axis length to obtain the new x coordinate. $y$ and $z$ axes don't change for mirroring along the x axis. This makes our calculation fairly simple."
     ]
    },
    {
     "cell_type": "markdown",
     "metadata": {},
     "source": [
      "The figure below illustrates the result:"
     ]
    },
    {
     "cell_type": "markdown",
     "metadata": {},
     "source": [
      "<img src=\"../img/proj_line3.png\"/>"
     ]
    },
    {
     "cell_type": "markdown",
     "metadata": {},
     "source": [
      "We need to store this mirroring so we can undo it later. Then, it is time to commence the algorithm. For this cubic grid, our implementation will be modeled off of ***Sidon's algorithm***."
     ]
    },
    {
     "cell_type": "markdown",
     "metadata": {},
     "source": [
      "Here is a first, somewhat inefficient but much simpler way to perform this algorithm."
     ]
    },
    {
     "cell_type": "markdown",
     "metadata": {},
     "source": [
      "    while \"our cell indices indicate we are within the grid region\":\n",
      "        xl, xi, xv = intersection with lateral, inward, and vertical planes\n",
      "        next_intersection = x that satisfies |x| = min(|xl|,|xi|,|xv|) for x in {xl, xi, xv}\n",
      "        grid[i,j,k] = intersection_length = x\n",
      "        update i,j,k based on which plane was intersected"
     ]
    },
    {
     "cell_type": "code",
     "collapsed": false,
     "input": [
      "def translate_points(x, y, z, points):\n",
      "    '''\n",
      "    Given a set of 3 dimensional points in `points`, performs\n",
      "    a translation of (x, y, z)\n",
      "    '''\n",
      "    return points[:,:] + np.array([x,y,z])[None,:]\n",
      "\n",
      "\n",
      "def rotate_points(alpha, beta, gamma, points, inverse=False):\n",
      "    '''\n",
      "    Given a set of 3 dimensional points in `points`, performs\n",
      "    Rx(alpha) * Ry(beta) * Rz(gamma) * points.\n",
      "    '''\n",
      "    Rx = np.matrix([[1., 0., 0.],\n",
      "                    [0., np.cos(alpha), -np.sin(alpha)],\n",
      "                    [0., np.sin(alpha), np.cos(alpha)]\n",
      "                    ])\n",
      "    Ry = np.matrix([[np.cos(beta), 0., -np.sin(beta)],\n",
      "                    [0., 1., 0.],\n",
      "                    [np.sin(beta), 0., np.cos(beta)]\n",
      "                    ])\n",
      "    Rz = np.matrix([[np.cos(gamma), -np.sin(gamma), 0.],\n",
      "                    [np.sin(gamma), np.cos(gamma), 0.],\n",
      "                    [0., 0., 1.]\n",
      "                    ])\n",
      "    R = Rz * Ry * Rx\n",
      "    R = np.asarray(R)\n",
      "    if inverse:\n",
      "        R = R.T\n",
      "    points = np.array([R.dot(pnt) for pnt in points])\n",
      "    return points.squeeze()\n",
      "\n",
      "\n",
      "def scale_points(sx, sy, sz, points):\n",
      "    '''\n",
      "    Applies scaling of sx, sy, sz to the points in `points`.\n",
      "    '''\n",
      "    S = np.array([[sx, 0., 0.],\n",
      "                   [0., sy, 0.],\n",
      "                   [0., 0., sz]])\n",
      "    points = np.array([S.dot(pnt) for pnt in points])\n",
      "    return points.squeeze()\n",
      "\n",
      "\n",
      "def line_intersection_with_rectangular_prism_at_origin(xa, xb, r0):\n",
      "    '''\n",
      "    Calculates the two coordinates of intersection between a line\n",
      "    defined by 3-tuples xa and xb and a rectangular prism defined\n",
      "    by 3-tuple r0, which has bottom left front corner as the\n",
      "    origin and top right back corner as r0, and has edges aligned\n",
      "    with axes of reference frame.\n",
      "    '''\n",
      "    corners = np.array([[0., 0., 0.],\n",
      "                        [r0[0], 0., 0.],\n",
      "                        [0., r0[1], 0.],\n",
      "                        [0., 0., r0[2]],\n",
      "                        [r0[0], r0[1], 0.],\n",
      "                        [r0[0], 0., r0[2]],\n",
      "                        [0., r0[1], r0[2]],\n",
      "                        [r0[0], r0[1], r0[2]]])\n",
      "    \n",
      "    # enumerate planes: front, left, bottom, back, right, top\n",
      "    plane_point_indices = np.array([[0, 1, 3],\n",
      "                                    [0, 2, 3],\n",
      "                                    [0, 1, 2],\n",
      "                                    [2, 4, 7],\n",
      "                                    [1, 5, 7],\n",
      "                                    [3, 5, 7]])\n",
      "    pnts = []\n",
      "    for i in range(6):\n",
      "        # check each of the six planes\n",
      "        ind = plane_point_indices[i,:].squeeze()\n",
      "        x0, x1, x2 = corners[ind[0],:], corners[ind[1],:], corners[ind[2],:]\n",
      "        A = np.array([xa - xb, x0 - x1, x0 - x2])\n",
      "        #print(A)\n",
      "        tuv = np.linalg.inv(A).dot(xb - xa)\n",
      "        t = tuv[0]\n",
      "        x_star = xa - t * (xb - xa) # <- this is the intersection point\n",
      "        eps = 1e-3 * np.ones((3,)) # TODO: adjust?\n",
      "        closest = np.zeros((3,))\n",
      "        farthest = np.array(r0)\n",
      "        in_bounds = (closest - eps < x_star) * (x_star <= farthest + eps)\n",
      "        print(in_bounds)\n",
      "        print(x_star)\n",
      "        if np.alltrue(in_bounds):\n",
      "            # add as intersection point if it lies on grid boundary\n",
      "            pnts.append(x_star)\n",
      "            \n",
      "    assert(len(pnts) == 2 or len(pnts) == 0)\n",
      "    return np.array(pnts)\n",
      "\n",
      "\n",
      "def project_line_through_cubic_grid(nx, ny, nz, xa, xb):\n",
      "    '''\n",
      "    Computes the projection weight matrix for a line defined by\n",
      "    points xa and xb, with nx, ny, and nz cells along each axis.\n",
      "    Each cell is assumed to be a 1x1 cube.\n",
      "    '''\n",
      "    x = xb - xa\n",
      "    theta = np.arctan( abs(x[1] / x[0]) )\n",
      "    phi = np.arctan( abs(x[2] / np.sqrt(x[0]**2 + x[1]**2) ) )\n",
      "\n",
      "\n",
      "def line_projection_through_rectangular_grid(delta_x, delta_y, delta_z, nx, ny, nz, xa, xb):\n",
      "    '''\n",
      "    Given grid parameters of a grid with bottom front left corner\n",
      "    at the origin and with edges aligned along standard axes,\n",
      "    computes the 3D projection for a line defined by 3D\n",
      "    coordinates xa and xb. delta_x, delta_y, delta_z are the grid\n",
      "    cell dimensions, and nx, ny, nz are the number of cells along\n",
      "    each axis.\n",
      "    '''\n",
      "    # xa and xb are two points (x,y,z) that define our line\n",
      "    intersection_pnts = line_intersection_with_rectangular_prism_at_origin(xa, xb, (nx*delta_x, ny*delta_y, nz*delta_z))\n",
      "    if not intersection_pnts:\n",
      "        return None\n",
      "    # now we scale the points so our grid cell dimensions are effectively 1\n",
      "    pnts = scale_points(1./delta_x, 1./delta_y, 1./delta_z, intersection_pnts)\n",
      "    # next we need to mirror our line until it travels right/back/up\n",
      "    dba = xbs - xas\n",
      "    mirror_x = True if dba[0] < 0. else False\n",
      "    mirror_y = True if dba[1] < 0. else False\n",
      "    mirror_z = True if dba[2] < 0. else False\n",
      "    if mirror_x:\n",
      "        xas[0], xbs[0] = nx - xas[0], nx - xbs[0]\n",
      "    if mirror_y:\n",
      "        xas[1], xbs[1] = ny - xas[1], ny - xbs[1]\n",
      "    if mirror_z:\n",
      "        xas[2], xbs[2] = nz - xas[2], nz - xbs[2]\n",
      "    # we pass our simplified information to Siddon's projection algorithm\n",
      "    # notice that nx, ny, nz are the number of cubes along each axis, and\n",
      "    # xas and xbs are the starting and ending intersection points\n",
      "    grid = project_line_through_cubic_grid(nx, ny, nz, xas, xbs)\n",
      "    # now we undo the mirroring\n",
      "    if mirror_x:\n",
      "        grid = grid[-1:0,:,:]\n",
      "    if mirror_y:\n",
      "        grid = grid[:,-1:0,:]\n",
      "    if mirror_z:\n",
      "        grid = grid[:,:,-1:0]\n",
      "    # then we undo the scaling\n",
      "    x = xb - xa\n",
      "    theta = np.arctan(abs(x[1]/x[0]))\n",
      "    phi = np.arctan(abs(x[2]/np.sqrt(x[0]**2+x[1]**2)))\n",
      "    scale_factor = delta_x * np.cos(theta) * np.cos(phi) \\\n",
      "                + delta_y * np.sin(theta) * np.cos(phi) \\\n",
      "                + delta_z * np.sin(phi)\n",
      "    return scale_factor * grid\n",
      "\n",
      "\n",
      "def rectangular_grid_projection_matrix(xg, alpha, beta, gamma, delta_x, delta_y, delta_z, nx, ny, nz, lines):\n",
      "    '''\n",
      "    Given parameters for a rectangular grid and a set of lines in\n",
      "    a general reference frame, computes the projection matrix\n",
      "    describing the weights of each projection for each grid cell.\n",
      "    '''\n",
      "    # transform line coordinates to be in grid reference frame\n",
      "    x, y, z = xg\n",
      "    n_lines = lines.shape[0]\n",
      "    pnts = translate_points(-x, -y, -z, lines.reshape((n_lines * 2,3)))\n",
      "    pnts = rotate_points(alpha, beta, gamma, pnts, inverse=True)\n",
      "    lines = pnts.reshape(lines.shape)\n",
      "    projmtx = np.zeros((n_lines, nx * ny * nz))\n",
      "    # for each line, get projection weights\n",
      "    for i in range(n_lines):\n",
      "        xa = lines[i,0], lines[i,1]\n",
      "        projmtx[i,:] = line_projection_through_rectangular_grid(delta_x, delta_y, delta_z, nx, ny, nz, xa, xb).flatten()\n",
      "    return projmtx"
     ],
     "language": "python",
     "metadata": {
      "code_folding": [
       0,
       8,
       13,
       17,
       21,
       33,
       52,
       62,
       89,
       100,
       147
      ]
     },
     "outputs": [],
     "prompt_number": 144
    },
    {
     "cell_type": "markdown",
     "metadata": {},
     "source": [
      ".\n",
      "\n",
      ".\n",
      "\n",
      "."
     ]
    },
    {
     "cell_type": "code",
     "collapsed": false,
     "input": [
      "import numpy as np\n",
      "import matplotlib.pyplot as plt\n",
      "from mpl_toolkits.mplot3d import Axes3D"
     ],
     "language": "python",
     "metadata": {},
     "outputs": [],
     "prompt_number": 145
    },
    {
     "cell_type": "code",
     "collapsed": false,
     "input": [
      "xa = np.array([-1., -1., -2.])\n",
      "xb = np.array([4., 4.5, 6])\n",
      "r0 = np.array([4., 4., 5.2])\n",
      "intersection_pnts = line_intersection_with_rectangular_prism_at_origin(xa, xb, r0)\n",
      "\n",
      "print(intersection_pnts.shape)\n",
      "\n",
      "fig = plt.figure()\n",
      "ax = fig.add_subplot(1, 1, 1, projection='3d')\n",
      "\n",
      "x, y, z = intersection_pnts[:,0], intersection_pnts[:,1], intersection_pnts[:,2]\n",
      "ax.plot(x, y, z, 'bo')\n",
      "\n",
      "x, y, z = xa\n",
      "ax.plot(x, y, z, 'go')\n",
      "\n",
      "x, y, z = xb\n",
      "ax.plot(x, y, z, 'go')\n",
      "\n",
      "x, y, z = r0\n",
      "ax.plot(0., 0., 0., 'ro')\n",
      "ax.plot(x, y, z, 'ro')"
     ],
     "language": "python",
     "metadata": {},
     "outputs": [
      {
       "output_type": "stream",
       "stream": "stdout",
       "text": [
        "[False False False]\n",
        "[ 5.875   6.5625  9.    ]\n",
        "[False False False]\n",
        "[-15.87019231 -17.35721154 -25.79230769]\n",
        "[False False False]\n",
        "[ 5.875   6.5625  9.    ]\n",
        "[False False False]\n",
        "[ 5.875   6.5625  9.    ]\n",
        "[False False False]\n",
        "[ -7.89903846  -8.58894231 -13.03846154]\n",
        "[False False False]\n",
        "[ 5.875   6.5625  9.    ]\n",
        "(0,)\n"
       ]
      },
      {
       "ename": "IndexError",
       "evalue": "too many indices",
       "output_type": "pyerr",
       "traceback": [
        "\u001b[0;31m---------------------------------------------------------------------------\u001b[0m\n\u001b[0;31mIndexError\u001b[0m                                Traceback (most recent call last)",
        "\u001b[0;32m<ipython-input-146-b337e1a25621>\u001b[0m in \u001b[0;36m<module>\u001b[0;34m()\u001b[0m\n\u001b[1;32m      9\u001b[0m \u001b[0max\u001b[0m \u001b[0;34m=\u001b[0m \u001b[0mfig\u001b[0m\u001b[0;34m.\u001b[0m\u001b[0madd_subplot\u001b[0m\u001b[0;34m(\u001b[0m\u001b[0;36m1\u001b[0m\u001b[0;34m,\u001b[0m \u001b[0;36m1\u001b[0m\u001b[0;34m,\u001b[0m \u001b[0;36m1\u001b[0m\u001b[0;34m,\u001b[0m \u001b[0mprojection\u001b[0m\u001b[0;34m=\u001b[0m\u001b[0;34m'3d'\u001b[0m\u001b[0;34m)\u001b[0m\u001b[0;34m\u001b[0m\u001b[0m\n\u001b[1;32m     10\u001b[0m \u001b[0;34m\u001b[0m\u001b[0m\n\u001b[0;32m---> 11\u001b[0;31m \u001b[0mx\u001b[0m\u001b[0;34m,\u001b[0m \u001b[0my\u001b[0m\u001b[0;34m,\u001b[0m \u001b[0mz\u001b[0m \u001b[0;34m=\u001b[0m \u001b[0mintersection_pnts\u001b[0m\u001b[0;34m[\u001b[0m\u001b[0;34m:\u001b[0m\u001b[0;34m,\u001b[0m\u001b[0;36m0\u001b[0m\u001b[0;34m]\u001b[0m\u001b[0;34m,\u001b[0m \u001b[0mintersection_pnts\u001b[0m\u001b[0;34m[\u001b[0m\u001b[0;34m:\u001b[0m\u001b[0;34m,\u001b[0m\u001b[0;36m1\u001b[0m\u001b[0;34m]\u001b[0m\u001b[0;34m,\u001b[0m \u001b[0mintersection_pnts\u001b[0m\u001b[0;34m[\u001b[0m\u001b[0;34m:\u001b[0m\u001b[0;34m,\u001b[0m\u001b[0;36m2\u001b[0m\u001b[0;34m]\u001b[0m\u001b[0;34m\u001b[0m\u001b[0m\n\u001b[0m\u001b[1;32m     12\u001b[0m \u001b[0max\u001b[0m\u001b[0;34m.\u001b[0m\u001b[0mplot\u001b[0m\u001b[0;34m(\u001b[0m\u001b[0mx\u001b[0m\u001b[0;34m,\u001b[0m \u001b[0my\u001b[0m\u001b[0;34m,\u001b[0m \u001b[0mz\u001b[0m\u001b[0;34m,\u001b[0m \u001b[0;34m'bo'\u001b[0m\u001b[0;34m)\u001b[0m\u001b[0;34m\u001b[0m\u001b[0m\n\u001b[1;32m     13\u001b[0m \u001b[0;34m\u001b[0m\u001b[0m\n",
        "\u001b[0;31mIndexError\u001b[0m: too many indices"
       ]
      }
     ],
     "prompt_number": 146
    },
    {
     "cell_type": "markdown",
     "metadata": {},
     "source": [
      ".\n",
      "\n",
      ".\n",
      "\n",
      ".\n",
      "\n",
      ".\n",
      "\n",
      ".\n",
      "\n",
      ".\n",
      "\n",
      ".\n",
      "\n",
      ".\n",
      "\n",
      ".\n",
      "\n",
      ".\n",
      "\n",
      ".\n",
      "\n",
      ".\n",
      "\n",
      ".\n",
      "\n",
      ".\n",
      "\n",
      ".\n",
      "\n",
      ".\n",
      "\n"
     ]
    },
    {
     "cell_type": "code",
     "collapsed": false,
     "input": [
      "n_pnts = 24\n",
      "nx, ny, nz = 5, 7, 10\n",
      "x, y, z = np.mgrid[0:10:nx*1j, 0:10:ny*1j, 0:10:nz*1j]\n",
      "\n",
      "pnts = np.concatenate((x[:,:,:,None], y[:,:,:,None], z[:,:,:,None]), axis=3)\n",
      "pnts = pnts.reshape(nx * ny * nz, 3)\n",
      "\n",
      "x, y, z = pnts[:,0], pnts[:,1], pnts[:,2]\n",
      "fig = plt.figure()\n",
      "ax = fig.add_subplot(1, 3, 1, projection='3d')\n",
      "ax.plot(x, y, z, 'bo')\n",
      "\n",
      "alpha, beta, gamma = np.pi/4., np.pi/4., np.pi/4.\n",
      "dx, dy, dz = 3., 6., 9.1\n",
      "\n",
      "pnts_rotated = rotate_points(alpha, beta, gamma, pnts)\n",
      "pnts_translated = translate_points(dx, dy, dz, pnts_rotated)\n",
      "\n",
      "x, y, z = pnts_translated[:,0], pnts_translated[:,1], pnts_translated[:,2]\n",
      "ax = fig.add_subplot(1, 3, 2, projection='3d')\n",
      "ax.plot(x, y, z, 'bo')\n",
      "\n",
      "pnts_rotated = translate_points(-dx, -dy, -dz, pnts_translated)\n",
      "pnts = rotate_points(alpha, beta, gamma, pnts_rotated, inverse=True)\n",
      "pnts = scale_points(1., 1.5, .5, pnts)\n",
      "\n",
      "x, y, z = pnts[:,0], pnts[:,1], pnts[:,2]\n",
      "ax = fig.add_subplot(1, 3, 3, projection='3d')\n",
      "ax.plot(x, y, z, 'bo')\n",
      "\n",
      "plt.show()"
     ],
     "language": "python",
     "metadata": {},
     "outputs": [],
     "prompt_number": 96
    },
    {
     "cell_type": "code",
     "collapsed": false,
     "input": [
      "n_pnts = 24\n",
      "pnts = np.zeros((n_pnts, 3))\n",
      "pnts[:,0] = np.arange(6).repeat(4)\n",
      "pnts[:,1] = np.arange(4)[:,None].repeat(6, axis=1).flatten()\n",
      "pnts[:,2] = np.arange(8).repeat(3)\n",
      "\n",
      "pnts_rotated = translate_points(0., 0., 4, pnts)\n",
      "x, y, z = pnts[:,0], pnts[:,1], pnts[:,2]\n",
      "\n",
      "fig = plt.figure()\n",
      "ax = fig.add_subplot(1, 2, 1, projection='3d')\n",
      "ax.plot(x, y, z, 'bo')\n",
      "\n",
      "x, y, z = pnts_rotated[:,0], pnts_rotated[:,1], pnts_rotated[:,2]\n",
      "\n",
      "ax = fig.add_subplot(1, 2, 2, projection='3d')\n",
      "ax.plot(x, y, z, 'bo')\n",
      "\n",
      "plt.show()"
     ],
     "language": "python",
     "metadata": {
      "code_folding": []
     },
     "outputs": [],
     "prompt_number": 91
    },
    {
     "cell_type": "code",
     "collapsed": false,
     "input": [
      "def translate_and_rotate_points(x, y, z, alpha, beta, gamma, points):\n",
      "    '''\n",
      "    Given a set of 3 dimensional points in `points`, first\n",
      "    performs a translation of (-x,-y,-z), then the rotation\n",
      "    Rx(alpha) * Ry(beta) * Rz(gamma) * points.\n",
      "    '''\n",
      "    # first we apply a transformation to every line so that the grid origin becomes *the* origin\n",
      "    # we must construct rotation matrix R, which reverses the gamma, beta, alpha rotations on the z, y, x axes\n",
      "    Rx = np.matrix([[1., 0., 0.],\n",
      "                    [0., np.cos(-alpha), -np.sin(-alpha)],\n",
      "                    [0., np.sin(-alpha), np.cos(-alpha)]\n",
      "                    ])\n",
      "    Ry = np.matrix([[np.cos(-beta), 0., -np.sin(-beta)],\n",
      "                    [0., 1., 0.],\n",
      "                    [np.sin(-beta), 0., np.cos(-beta), 0.]\n",
      "                    ])\n",
      "    Rz = np.matrix([[np.cos(-gamma), -np.sin(-gamma), 0.],\n",
      "                    [np.sin(-gamma), np.cos(-gamma), 0.],\n",
      "                    [0., 0., 1.]])\n",
      "    # grid is rotated xyz by alpha, beta, gamma\n",
      "    # to undo rotation, we rotate zyx by -gamma, -beta, -alpha\n",
      "    R = Rz * Ry * Rx\n",
      "    translated = points[:,:] - np.array([x,y,z])[None,:]\n",
      "    points = np.dot(np.asarray(R)[None,:,:], (translated[:,:,None]))\n",
      "    return points\n",
      "\n",
      "\n",
      "def scale_points(sx, sy, sz, points):\n",
      "    '''\n",
      "    Applies scaling of sx, sy, sz to the points in `points`.\n",
      "    '''\n",
      "    S = np.array([[sx, 0., 0.],\n",
      "                   [0., sy, 0.],\n",
      "                   [0., 0., sz]])\n",
      "    return S.dot(points)\n",
      "\n",
      "\n",
      "def line_intersection_with_rectangular_prism(xa, xb, ra, rb):\n",
      "    '''\n",
      "    Calculates the two coordinates of intersection between a line\n",
      "    defined by 3-tuples xa and xb and a rectangular prism defined\n",
      "    by 3-tuples ra and rb which has edges aligned with axes of\n",
      "    reference frame.\n",
      "    '''\n",
      "    # obtain coordinates of corners of rectangular prism that are closest and farthest from origin\n",
      "    closest = np.minimum(ra, rb)\n",
      "    farthest = np.maximum(ra, rb)\n",
      "    corners = np.array([[0., 0., 0.],\n",
      "                        [nx*delta_x, 0., 0.],\n",
      "                        [0., ny*delta_y, 0.],\n",
      "                        [0., 0., nz*delta_z],\n",
      "                        [nx*delta_x, ny*delta_y, 0.],\n",
      "                        [nx*delta_x, 0., nz*delta_z],\n",
      "                        [0., ny*delta_y, nz*delta_z],\n",
      "                        [nz*delta_z, ny*delta_y, nz*delta_z]])\n",
      "    corners = corners + closest[None,:]\n",
      "    \n",
      "    # enumerate planes: front, left, bottom, back, right, top\n",
      "    plane_point_indices = np.array([[0, 1, 3],\n",
      "                                    [0, 2, 3],\n",
      "                                    [0, 1, 2],\n",
      "                                    [2, 4, 7],\n",
      "                                    [1, 5, 7],\n",
      "                                    [3, 5, 7]])\n",
      "    pnts = []\n",
      "    for i in range(6):\n",
      "        # check each of the six planes\n",
      "        ind = corners[i,:].squeeze()\n",
      "        x0, x1, x2 = corners[ind[0],:], corners[ind[1],:], corners[ind[2],:]\n",
      "        A = np.array([xa - xb, x0 - x1, x0 - x2])\n",
      "        tuv = A.I.dot(xb - xa)\n",
      "        t = tuv[0]\n",
      "        x_star = xa + t * (xb - xa) # <- this is the intersection point\n",
      "        eps = 1e-3 # TODO: adjust?\n",
      "        if np.alltrue(closest - eps < x_star and x_star <= farthest + eps):\n",
      "            # add as intersection point if it lies on grid boundary\n",
      "            pnts.append(x_star)\n",
      "            \n",
      "    assert(len(pnts) == 2))\n",
      "    return pnts[0], pnts[1]\n",
      "    \n",
      "    \n",
      "def rectangular_grid_projection_matrix(delta_x, delta_y, delta_z, nx, ny, nz, xa, xb):\n",
      "    '''\n",
      "    Given grid parameters of a grid with bottom front left corner\n",
      "    at the origin and with edges aligned along standard axes,\n",
      "    computes the 3D projection for a line defined by 3D\n",
      "    coordinates xa and xb. delta_x, delta_y, delta_z are the grid\n",
      "    cell dimensions, and nx, ny, nz are the number of cells along\n",
      "    each axis.\n",
      "    '''\n",
      "    # xa and xb are two points (x,y,z) that define our line\n",
      "    # first we need to mirror our line until it travels right/back/up\n",
      "    intersects = line_intersection_with_rectangular_prism(xa, xb, (0,0,0), (nx*delta_x, ny*delta_y, nz*delta_z))\n",
      "    if not intersects:\n",
      "        return None\n",
      "    xa, xb = intersects\n",
      "    dba = xb - xa\n",
      "    mirror_x = True if dba[0] < 0. else False\n",
      "    mirror_y = True if dba[1] < 0. else False\n",
      "    mirror_z = True if dba[2] < 0. else False\n",
      "    if mirror_x:\n",
      "        xa[0], xb[0] = nx * delta_x - xa[0], nx * delta_x - xb[0]\n",
      "    if mirror_y:\n",
      "        xa[1], xb[1] = ny * delta_y - xa[1], ny * delta_y - xb[1]\n",
      "    if mirror_z:\n",
      "        xa[2], xb[2] = nz * delta_z - xa[2], nz * delta_z - xb[2]\n",
      "    \n",
      "    grid = project_line_through_rectangular_grid(delta_x, delta_y, delta_z, nx, ny, nz, xa, xb)\n",
      "    \n",
      "    return grid"
     ],
     "language": "python",
     "metadata": {},
     "outputs": []
    },
    {
     "cell_type": "markdown",
     "metadata": {},
     "source": [
      "Treat the green prism as a grid cell.\n",
      "\n",
      "    while \"our cell indices indicate we are within the grid region\":\n",
      "        if eta < \"azimuth that passes through bottom back right corner of grid\":\n",
      "            # we intersect next lateral plane before next inward plane\n",
      "            dxy = \"xy component of distance to lateral plane intersection (i.e. the blue line)\"\n",
      "            if nu < \"elevation angle of line with azimuth eta that passes through right upper cell edge\"\n",
      "                # we intersect next lateral plane before next vertical plane\n",
      "            else:\n",
      "                # we intersect next vertical plane before lateral plane"
     ]
    },
    {
     "cell_type": "markdown",
     "metadata": {},
     "source": [
      "\n",
      "\n",
      "\n",
      "- find intersection\n",
      "- transpose to make first intersection one of bottom left front--store transposes\n",
      "- commence algorithm\n",
      "\n",
      "\n",
      "for geodetic grid\n",
      "\n",
      "- make grid a mesh???\n",
      "- don't bother transforming anything--already arbitrary latitude lines\n",
      "- find intersection (one of six larger mesh faces)\n",
      "- each mesh cell is convex cube-like\n",
      "- commence similar algorithm (same??)"
     ]
    },
    {
     "cell_type": "markdown",
     "metadata": {},
     "source": [
      "\n",
      "-----\n",
      "\n",
      ".\n",
      "\n",
      ".\n",
      "\n",
      ".\n",
      "\n",
      ".\n",
      "\n",
      ".\n",
      "\n",
      "\n",
      "where\n",
      "\n",
      "$\\boldsymbol{x_0}$ is $(x,y,z)$, the coordinates of the grid origin,\n",
      "\n",
      "$\\boldsymbol{x_1}$ is $t \\begin{bmatrix} \\cos\\theta\\cos\\phi \\\\ \\cos\\theta\\sin\\phi \\\\ \\sin\\phi \\end{bmatrix}$, the coordinates of the line impact parameter\n",
      "\n",
      "$\\boldsymbol{x_2}$ is a point $t \\begin{bmatrix} \\cos\\theta\\cos\\phi \\\\ \\cos\\theta\\sin\\phi \\\\ \\sin\\phi \\end{bmatrix} + \\tau \\begin{bmatrix} -\\cos\\theta\\cos\\phi \\\\ \\sin\\theta\\cos\\phi \\\\ \\cos\\phi \\end{bmatrix}$, a point along the line with $\\tau chosen to maximize geommetric diversity and minimize calculation error.\n",
      "\n",
      "<!--\n",
      "\n",
      " t \\begin{bmatrix} \\cos\\theta\\cos\\phi \\\\ \\cos\\theta\\sin\\phi \\\\ \\sin\\phi \\end{bmatrix} + \\tau_1 \\begin{bmatrix} -\\cos\\theta\\cos\\phi \\\\ \\sin\\theta\\cos\\phi \\\\ \\cos\\phi \\end{bmatrix} = \\tau_2 \\begin{bmatrix} \\cos\\theta\\cos\\phi \\\\ \\cos\\theta\\sin\\phi \\\\ \\sin\\phi \\end{bmatrix} \n",
      "\n",
      " t' = t - \\sqrt{x^2+y^2}\\cos(\\theta) \n",
      "\n",
      " t' = t - \\sqrt{x^2+y^2+z^2}\\cos(\\theta) \n",
      "\n",
      "-->"
     ]
    },
    {
     "cell_type": "code",
     "collapsed": false,
     "input": [
      "import numpy as np"
     ],
     "language": "python",
     "metadata": {},
     "outputs": [],
     "prompt_number": 6
    },
    {
     "cell_type": "code",
     "collapsed": false,
     "input": [
      "a = np.array([1, 2, 0])"
     ],
     "language": "python",
     "metadata": {},
     "outputs": [],
     "prompt_number": 14
    },
    {
     "cell_type": "code",
     "collapsed": false,
     "input": [
      "b = np.array([1, 1, 2])"
     ],
     "language": "python",
     "metadata": {},
     "outputs": [],
     "prompt_number": 15
    },
    {
     "cell_type": "code",
     "collapsed": false,
     "input": [
      "np.minimum(a,b)"
     ],
     "language": "python",
     "metadata": {},
     "outputs": [
      {
       "metadata": {},
       "output_type": "pyout",
       "prompt_number": 16,
       "text": [
        "array([1, 1, 0])"
       ]
      }
     ],
     "prompt_number": 16
    },
    {
     "cell_type": "code",
     "collapsed": false,
     "input": [
      "np.minimum((1,2,0),(1,1,2))"
     ],
     "language": "python",
     "metadata": {},
     "outputs": [
      {
       "metadata": {},
       "output_type": "pyout",
       "prompt_number": 17,
       "text": [
        "array([1, 1, 0])"
       ]
      }
     ],
     "prompt_number": 17
    },
    {
     "cell_type": "code",
     "collapsed": false,
     "input": [
      "a < b"
     ],
     "language": "python",
     "metadata": {},
     "outputs": [
      {
       "metadata": {},
       "output_type": "pyout",
       "prompt_number": 18,
       "text": [
        "array([False, False,  True], dtype=bool)"
       ]
      }
     ],
     "prompt_number": 18
    },
    {
     "cell_type": "code",
     "collapsed": false,
     "input": [],
     "language": "python",
     "metadata": {},
     "outputs": []
    }
   ],
   "metadata": {}
  }
 ]
}