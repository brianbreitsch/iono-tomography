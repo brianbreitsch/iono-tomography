{
 "metadata": {
  "css": [
   ""
  ],
  "name": "",
  "signature": "sha256:8b01872cd861711010c5491b545a9d63ff4af23fe86e91495ab975e690303a4f"
 },
 "nbformat": 3,
 "nbformat_minor": 0,
 "worksheets": [
  {
   "cells": [
    {
     "cell_type": "markdown",
     "metadata": {},
     "source": [
      "First we import the modules we have developed."
     ]
    },
    {
     "cell_type": "code",
     "collapsed": false,
     "input": [
      "import imp\n",
      "iono_model_utils = imp.load_source('iono_model_utils',\n",
      "                             '../src/iono_model_utils.py')\n",
      "projection_utils = imp.load_source('projection_utils',\n",
      "                             '../src/projection_utils.py')\n",
      "coordinate_utils = imp.load_source('coordinate_utils',\n",
      "                             '../src/coordinate_utils.py')\n",
      "plot_utils = imp.load_source('plot_utils',\n",
      "                             '../src/plot_utils.py')"
     ],
     "language": "python",
     "metadata": {},
     "outputs": [],
     "prompt_number": 77
    },
    {
     "cell_type": "markdown",
     "metadata": {},
     "source": [
      "Then import the rest of the packages we need."
     ]
    },
    {
     "cell_type": "code",
     "collapsed": false,
     "input": [
      "import numpy as np\n",
      "from numpy.linalg import inv, norm"
     ],
     "language": "python",
     "metadata": {},
     "outputs": [],
     "prompt_number": 2
    },
    {
     "cell_type": "code",
     "collapsed": false,
     "input": [
      "import matplotlib.pyplot as plt\n",
      "from mpl_toolkits.mplot3d import Axes3D"
     ],
     "language": "python",
     "metadata": {},
     "outputs": [],
     "prompt_number": 3
    },
    {
     "cell_type": "markdown",
     "metadata": {},
     "source": [
      "We create a set of longitudes and latitudes at which to fetch data from the IRI model."
     ]
    },
    {
     "cell_type": "code",
     "collapsed": false,
     "input": [
      "# Lima, Peru: 12.0433\u00b0 S, 77.0283\u00b0 W\n",
      "lima_lat, lima_lon = 12.0433, 77.0283\n",
      "# minimum delta for altitude in IRI is 40km\n",
      "d_lat, d_lon, d_alt = 0.025, 1., 40\n",
      "lats = np.arange(11.95, 12.05, d_lat)\n",
      "lons = np.arange(77.0283, 78.0283001, d_lon) #np.linspace(76.5,77.5,20)"
     ],
     "language": "python",
     "metadata": {},
     "outputs": [],
     "prompt_number": 43
    },
    {
     "cell_type": "markdown",
     "metadata": {},
     "source": [
      "...and fetch the data..."
     ]
    },
    {
     "cell_type": "code",
     "collapsed": false,
     "input": [
      "fetcher = iono_model_utils.IRIFetcher()\n",
      "fetcher.params['step'] = 200\n",
      "data = fetcher.create_tec_image(lats, lons)"
     ],
     "language": "python",
     "metadata": {},
     "outputs": [],
     "prompt_number": 44
    },
    {
     "cell_type": "markdown",
     "metadata": {},
     "source": [
      "We refine our data to create `iono_grid`, a 2 or 3 dimensional image of the ionosphere."
     ]
    },
    {
     "cell_type": "code",
     "collapsed": false,
     "input": [
      "n_lats, n_lons, n_alts, _ = data.shape\n",
      "alts = data[0,0,:,1]\n",
      "iono_grid = data[:,:,:,0].squeeze().T\n",
      "print(iono_grid.shape)\n",
      "print((n_lats, n_lons, n_alts))\n",
      "iono_grid = iono_grid.swapaxes(0,2)"
     ],
     "language": "python",
     "metadata": {},
     "outputs": [
      {
       "output_type": "stream",
       "stream": "stdout",
       "text": [
        "(7, 2, 5)\n",
        "(5, 2, 7)\n"
       ]
      }
     ],
     "prompt_number": 66
    },
    {
     "cell_type": "markdown",
     "metadata": {},
     "source": [
      "For good measure, we plot our image to see what we're working with."
     ]
    },
    {
     "cell_type": "code",
     "collapsed": false,
     "input": [
      "fig = plt.figure()\n",
      "ax = fig.add_subplot(1,1,1)\n",
      "ax.imshow(iono_grid[:,0,:].T, origin='lower', interpolation='nearest')\n",
      "plt.xlabel('latitude (degrees)'); plt.ylabel('height (km)');\n",
      "plt.xticks(np.arange(0,n_lats,11),lats[::11]); plt.yticks(np.arange(0,n_alts,4),alts[::4]);\n",
      "plt.title('IRI generated\\n'\n",
      "          'electron content\\n'\n",
      "          'for {0:3}$^\\circ$ longitude'.format(lons[0]))\n",
      "plt.show()"
     ],
     "language": "python",
     "metadata": {
      "code_folding": []
     },
     "outputs": [],
     "prompt_number": 70
    },
    {
     "cell_type": "markdown",
     "metadata": {},
     "source": [
      "In order to have something more interesting to reconstruct (as our current ionosphere is stratified and boring), we can add a gaussian blob to the mix.."
     ]
    },
    {
     "cell_type": "code",
     "collapsed": false,
     "input": [
      "blob = iono_model_utils.gaussian_blob(lats, lons, alts, pos=(11.87, 77.0283, 290.), sig=(.3, 1, 250)).squeeze()\n",
      "print(blob.shape)\n",
      "blob = blob.swapaxes(0,1).swapaxes(1,2)\n",
      "\n",
      "fig = plt.figure()\n",
      "ax = fig.add_subplot(1,1,1)\n",
      "ax.imshow(blob[:,0,:].T, origin='lower', interpolation='nearest')\n",
      "plt.show()"
     ],
     "language": "python",
     "metadata": {},
     "outputs": [
      {
       "output_type": "stream",
       "stream": "stdout",
       "text": [
        "(7, 5, 2)\n"
       ]
      }
     ],
     "prompt_number": 69
    },
    {
     "cell_type": "markdown",
     "metadata": {},
     "source": [
      "Combining the blob with our ionosphere image yields.."
     ]
    },
    {
     "cell_type": "code",
     "collapsed": false,
     "input": [
      "modified_grid = iono_grid - 0.5 * iono_grid.max() * blob\n",
      "\n",
      "fig = plt.figure()\n",
      "ax = fig.add_subplot(1,1,1)\n",
      "ax.imshow(modified_grid[:,0,:].T, origin='lower', interpolation='nearest')\n",
      "plt.show()"
     ],
     "language": "python",
     "metadata": {},
     "outputs": [],
     "prompt_number": 72
    },
    {
     "cell_type": "markdown",
     "metadata": {},
     "source": [
      "Now we need to creat a projection matrix cooresponding to our ionosphere image.\n",
      "\n",
      "We start by defining the lines for our projections via receiver and transmitter points which define the lines."
     ]
    },
    {
     "cell_type": "code",
     "collapsed": false,
     "input": [
      "# Lima, Peru: 12.0433\u00b0 S, 77.0283\u00b0 W\n",
      "rx_pos = np.array([12.04, 77.0283, 0.]).reshape((1,3))\n",
      "tx_pos = np.array([12., 78., 10e6]).reshape((1,3))\n",
      "rx_pos = coordinate_utils.geo2ecef(rx_pos)\n",
      "tx_pos = coordinate_utils.geo2ecef(tx_pos)\n",
      "line_pos = rx_pos\n",
      "line_dir = tx_pos - rx_pos\n",
      "line_dir = line_dir / np.linalg.norm(line_dir, axis=1)[:,None]\n",
      "lines = [(pos, dirc) for pos, dirc in zip(line_pos, line_dir)]"
     ],
     "language": "python",
     "metadata": {},
     "outputs": [],
     "prompt_number": 73
    },
    {
     "cell_type": "markdown",
     "metadata": {},
     "source": [
      "Then we get the projection matrix:"
     ]
    },
    {
     "cell_type": "code",
     "collapsed": false,
     "input": [
      "projmtx, intersections = projection_utils.geodetic_grid_projection_matrix(lats, lons, alts, lines)"
     ],
     "language": "python",
     "metadata": {},
     "outputs": [],
     "prompt_number": 74
    },
    {
     "cell_type": "markdown",
     "metadata": {},
     "source": [
      "Then we plot the projection matrix to verify that it looks correct."
     ]
    },
    {
     "cell_type": "code",
     "collapsed": false,
     "input": [
      "fig = plt.figure()\n",
      "ax = fig.add_subplot(1,1,1, projection='3d')\n",
      "plot_utils.plot_projmtx(ax, lats, lons, alts, projmtx, intersections, lines, line_tau=4e3, plot_mesh=True)\n",
      "plt.show()"
     ],
     "language": "python",
     "metadata": {},
     "outputs": [],
     "prompt_number": 84
    },
    {
     "cell_type": "code",
     "collapsed": false,
     "input": [
      "projmtx"
     ],
     "language": "python",
     "metadata": {},
     "outputs": [
      {
       "metadata": {},
       "output_type": "pyout",
       "prompt_number": 79,
       "text": [
        "array([[ 200.06656519,  200.06654318,  200.06655926,  200.06661344,\n",
        "         200.0667057 ,    0.        ,    0.        ,    0.        ,\n",
        "           0.        ,    0.        ,  200.06656519,  200.06654318,\n",
        "         200.06655926,  200.06661344,  200.0667057 ,    0.        ,\n",
        "           0.        ,    0.        ,    0.        ,    0.        ,\n",
        "         200.06656519,  200.06654318,  200.06655927,  200.06661344,\n",
        "         200.0667057 ,    0.        ,    0.        ,    0.        ,\n",
        "           0.        ,    0.        ,  200.06656518,  200.06654318,\n",
        "         200.06655927,  200.06661344,  200.0667057 ,    0.        ,\n",
        "           0.        ,    0.        ,    0.        ,    0.        ,\n",
        "         200.06656519,  200.06654318,  200.06655926,  200.06661344,\n",
        "         200.0667057 ,    0.        ,    0.        ,    0.        ,\n",
        "           0.        ,    0.        ,  200.06656519,  200.06654318,\n",
        "         200.06655926,  200.06661344,  200.0667057 ,    0.        ,\n",
        "           0.        ,    0.        ,    0.        ,    0.        ,\n",
        "         200.06656519,  200.06654318,  200.06655927,  200.06661344,\n",
        "         200.0667057 ,    0.        ,    0.        ,    0.        ,\n",
        "           0.        ,    0.        ]])"
       ]
      }
     ],
     "prompt_number": 79
    },
    {
     "cell_type": "markdown",
     "metadata": {},
     "source": [
      ".\n",
      "\n",
      ".\n",
      "\n",
      ".\n",
      "\n",
      ".\n",
      "\n",
      ".\n",
      "\n",
      ".\n",
      "\n",
      ".\n",
      "\n",
      ".\n",
      "\n",
      ".\n",
      "\n",
      ".\n",
      "\n",
      ".\n",
      "\n",
      ".\n",
      "\n",
      ".\n",
      "\n",
      ".\n",
      "\n",
      ".\n",
      "\n",
      ".\n"
     ]
    },
    {
     "cell_type": "code",
     "collapsed": false,
     "input": [
      "def plot_proj_line(line, tau, ax=plt.gca(), color=(.1,.1,.1), linewidth=1.):\n",
      "    theta, t = line\n",
      "    tau = np.repeat(array([tau]), 2, axis=0).T\n",
      "    u = array([t * cos(theta), t * sin(theta)])\n",
      "    e = array([sin(theta), -cos(theta)])\n",
      "    pnts = u + tau * e\n",
      "    ax.plot(pnts[:,0], pnts[:,1], c=color, lw=linewidth)\n",
      "\n",
      "start_theta, end_theta = 7*pi/6, 2*pi/3\n",
      "angles = np.linspace(start_theta, end_theta, n_lats)\n",
      "ts = zeros((n_lats,))\n",
      "lats = [(theta, t) for theta, t in zip(angles, ts)]\n",
      "n_alts = 6\n",
      "min_alt, max_alt = 10., 100.\n",
      "alts = np.linspace(min_alt, max_alt, n_alts)\n",
      "fig = plt.figure()\n",
      "ax = fig.add_subplot(1,1,1)\n",
      "\n",
      "tau = [min_alt, max_alt]\n",
      "\n",
      "# plot the latitudinal lines\n",
      "for i, lat in enumerate(lats):\n",
      "    plot_proj_line(lat, tau, color=(.2,.6,.9/(0.04*i+1)))\n",
      "    \n",
      "# plot the altitudes\n",
      "rads = np.linspace(start_theta-pi/2, end_theta-pi/2, 40)\n",
      "x = cos(rads); y = sin(rads)\n",
      "for i, alt in enumerate(alts):\n",
      "    ax.plot(alt*x, alt*y, c=(.6,.2,.9/(0.04*i+1)))\n",
      "\n",
      "# make projection lines\n",
      "lines = [(2.7*pi/3, 20.),\n",
      "         (2.4*pi/3, 20.),\n",
      "         (2.1*pi/3, 20.)\n",
      "         ]\n",
      "\n",
      "# get grid, plot projection lines and intersection points\n",
      "grid = zeros((len(alts), len(lats)))\n",
      "for line in lines:\n",
      "    plot_proj_line(line, tau, color=(.8, .9, .6), linewidth=3.)\n",
      "    G, pnts = projection.get_polar_grid_overlap(line, lats, alts)\n",
      "    grid += G\n",
      "    x = [pnt[0] for pnt in pnts]; y = [pnt[1] for pnt in pnts]\n",
      "    ax.plot(x,y, 'r+')\n",
      "    \n",
      "fig = plt.figure(); ax = fig.add_subplot(1,1,1)\n",
      "ax.imshow(grid[:,1:], origin='lower', interpolation='nearest')"
     ],
     "language": "python",
     "metadata": {},
     "outputs": [
      {
       "ename": "AttributeError",
       "evalue": "'module' object has no attribute 'get_polar_grid_overlap'",
       "output_type": "pyerr",
       "traceback": [
        "\u001b[0;31m---------------------------------------------------------------------------\u001b[0m\n\u001b[0;31mAttributeError\u001b[0m                            Traceback (most recent call last)",
        "\u001b[0;32m<ipython-input-26-2e858b0723e4>\u001b[0m in \u001b[0;36m<module>\u001b[0;34m()\u001b[0m\n\u001b[1;32m     39\u001b[0m \u001b[0;32mfor\u001b[0m \u001b[0mline\u001b[0m \u001b[0;32min\u001b[0m \u001b[0mlines\u001b[0m\u001b[0;34m:\u001b[0m\u001b[0;34m\u001b[0m\u001b[0m\n\u001b[1;32m     40\u001b[0m     \u001b[0mplot_proj_line\u001b[0m\u001b[0;34m(\u001b[0m\u001b[0mline\u001b[0m\u001b[0;34m,\u001b[0m \u001b[0mtau\u001b[0m\u001b[0;34m,\u001b[0m \u001b[0mcolor\u001b[0m\u001b[0;34m=\u001b[0m\u001b[0;34m(\u001b[0m\u001b[0;36m.8\u001b[0m\u001b[0;34m,\u001b[0m \u001b[0;36m.9\u001b[0m\u001b[0;34m,\u001b[0m \u001b[0;36m.6\u001b[0m\u001b[0;34m)\u001b[0m\u001b[0;34m,\u001b[0m \u001b[0mlinewidth\u001b[0m\u001b[0;34m=\u001b[0m\u001b[0;36m3.\u001b[0m\u001b[0;34m)\u001b[0m\u001b[0;34m\u001b[0m\u001b[0m\n\u001b[0;32m---> 41\u001b[0;31m     \u001b[0mG\u001b[0m\u001b[0;34m,\u001b[0m \u001b[0mpnts\u001b[0m \u001b[0;34m=\u001b[0m \u001b[0mprojection\u001b[0m\u001b[0;34m.\u001b[0m\u001b[0mget_polar_grid_overlap\u001b[0m\u001b[0;34m(\u001b[0m\u001b[0mline\u001b[0m\u001b[0;34m,\u001b[0m \u001b[0mlats\u001b[0m\u001b[0;34m,\u001b[0m \u001b[0malts\u001b[0m\u001b[0;34m)\u001b[0m\u001b[0;34m\u001b[0m\u001b[0m\n\u001b[0m\u001b[1;32m     42\u001b[0m     \u001b[0mgrid\u001b[0m \u001b[0;34m+=\u001b[0m \u001b[0mG\u001b[0m\u001b[0;34m\u001b[0m\u001b[0m\n\u001b[1;32m     43\u001b[0m     \u001b[0mx\u001b[0m \u001b[0;34m=\u001b[0m \u001b[0;34m[\u001b[0m\u001b[0mpnt\u001b[0m\u001b[0;34m[\u001b[0m\u001b[0;36m0\u001b[0m\u001b[0;34m]\u001b[0m \u001b[0;32mfor\u001b[0m \u001b[0mpnt\u001b[0m \u001b[0;32min\u001b[0m \u001b[0mpnts\u001b[0m\u001b[0;34m]\u001b[0m\u001b[0;34m;\u001b[0m \u001b[0my\u001b[0m \u001b[0;34m=\u001b[0m \u001b[0;34m[\u001b[0m\u001b[0mpnt\u001b[0m\u001b[0;34m[\u001b[0m\u001b[0;36m1\u001b[0m\u001b[0;34m]\u001b[0m \u001b[0;32mfor\u001b[0m \u001b[0mpnt\u001b[0m \u001b[0;32min\u001b[0m \u001b[0mpnts\u001b[0m\u001b[0;34m]\u001b[0m\u001b[0;34m\u001b[0m\u001b[0m\n",
        "\u001b[0;31mAttributeError\u001b[0m: 'module' object has no attribute 'get_polar_grid_overlap'"
       ]
      },
      {
       "metadata": {},
       "output_type": "display_data",
       "png": "[encoded data removed]",
       "text": [
        "<matplotlib.figure.Figure at 0x10fd19950>"
       ]
      },
      {
       "metadata": {},
       "output_type": "display_data",
       "png": "[encoded data removed]",
       "text": [
        "<matplotlib.figure.Figure at 0x10fd81910>"
       ]
      }
     ],
     "prompt_number": 26
    },
    {
     "cell_type": "code",
     "collapsed": false,
     "input": [],
     "language": "python",
     "metadata": {},
     "outputs": []
    }
   ],
   "metadata": {}
  }
 ]
}