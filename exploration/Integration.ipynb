{
 "metadata": {
  "css": [
   ""
  ],
  "name": "",
  "signature": "sha256:c5ac7b5b71bf7da1ba5316398917e6999388dc492bb3da476af7878ab923e529"
 },
 "nbformat": 3,
 "nbformat_minor": 0,
 "worksheets": [
  {
   "cells": [
    {
     "cell_type": "markdown",
     "metadata": {},
     "source": [
      "First we import the modules we have developed."
     ]
    },
    {
     "cell_type": "code",
     "collapsed": false,
     "input": [
      "import imp\n",
      "iono_model_utils = imp.load_source('iono_model_utils',\n",
      "                             '../src/iono_model_utils.py')\n",
      "projection_utils = imp.load_source('projection_utils',\n",
      "                             '../src/projection_utils.py')\n",
      "coordinate_utils = imp.load_source('coordinate_utils',\n",
      "                             '../src/coordinate_utils.py')\n",
      "plot_utils = imp.load_source('plot_utils',\n",
      "                             '../src/plot_utils.py')"
     ],
     "language": "python",
     "metadata": {},
     "outputs": [],
     "prompt_number": 145
    },
    {
     "cell_type": "markdown",
     "metadata": {},
     "source": [
      "Then import the rest of the packages we need."
     ]
    },
    {
     "cell_type": "code",
     "collapsed": false,
     "input": [
      "import numpy as np\n",
      "from numpy.linalg import inv, norm"
     ],
     "language": "python",
     "metadata": {},
     "outputs": [],
     "prompt_number": 2
    },
    {
     "cell_type": "code",
     "collapsed": false,
     "input": [
      "import matplotlib.pyplot as plt\n",
      "from mpl_toolkits.mplot3d import Axes3D"
     ],
     "language": "python",
     "metadata": {},
     "outputs": [],
     "prompt_number": 3
    },
    {
     "cell_type": "markdown",
     "metadata": {},
     "source": [
      "We create a set of longitudes and latitudes at which to fetch data from the IRI model."
     ]
    },
    {
     "cell_type": "code",
     "collapsed": false,
     "input": [
      "# Lima, Peru: 12.0433\u00b0 S, 77.0283\u00b0 W\n",
      "lima_lat, lima_lon = 12.0433, 77.0283\n",
      "# minimum delta for altitude in IRI is 40km\n",
      "start_lat = -8.\n",
      "stop_lat = -16.\n",
      "n_lats = 10\n",
      "start_lon = 77.\n",
      "stop_lon = 87.\n",
      "n_lons = 1\n",
      "d_lat, d_lon, d_alt = (stop_lat - start_lat) / n_lats, (stop_lon - start_lon) / n_lons, 80\n",
      "lats = np.arange(start_lat, stop_lat, d_lat)\n",
      "lons = np.arange(start_lon, stop_lon, d_lon) #np.linspace(76.5,77.5,20)"
     ],
     "language": "python",
     "metadata": {},
     "outputs": [],
     "prompt_number": 305
    },
    {
     "cell_type": "markdown",
     "metadata": {},
     "source": [
      "...and fetch the data..."
     ]
    },
    {
     "cell_type": "code",
     "collapsed": false,
     "input": [
      "fetcher = iono_model_utils.IRIFetcher(params={'year':2014,'month':1,'day':1,'hour':12.0,'start':60,'stop':1500,'step':d_alt})\n",
      "data = fetcher.create_tec_image(lats, lons)"
     ],
     "language": "python",
     "metadata": {},
     "outputs": [],
     "prompt_number": 306
    },
    {
     "cell_type": "markdown",
     "metadata": {},
     "source": [
      "We refine our data to create `iono_grid`, a 2 or 3 dimensional image of the ionosphere."
     ]
    },
    {
     "cell_type": "code",
     "collapsed": false,
     "input": [
      "n_lats, n_lons, n_alts, _ = data.shape\n",
      "alts = data[0,0,:,1] * 1000.\n",
      "iono_grid = np.zeros((n_lats, n_lons, n_alts))\n",
      "iono_grid = data[:,:,:,0]#.squeeze().swapaxes(0,1).reshape((n_lats, n_lons, n_alts))\n",
      "# iono_grid = iono_grid.reshape()\n",
      "print(iono_grid.shape)\n",
      "print((n_lats, n_lons, n_alts))"
     ],
     "language": "python",
     "metadata": {},
     "outputs": [
      {
       "output_type": "stream",
       "stream": "stdout",
       "text": [
        "(10, 1, 18)\n",
        "(10, 1, 18)\n"
       ]
      }
     ],
     "prompt_number": 307
    },
    {
     "cell_type": "markdown",
     "metadata": {},
     "source": [
      "For good measure, we plot our image to see what we're working with."
     ]
    },
    {
     "cell_type": "code",
     "collapsed": false,
     "input": [
      "fig = plt.figure()\n",
      "ax = fig.add_subplot(1,1,1)\n",
      "ax.imshow(iono_grid[:,0,:].T, origin='lower', interpolation='nearest')\n",
      "plt.xlabel('latitude (degrees)'); plt.ylabel('height (km)');\n",
      "plt.xticks(np.arange(0,n_lats,11),lats[::11]); plt.yticks(np.arange(0,n_alts,4),alts[::4]);\n",
      "plt.title('IRI generated\\n'\n",
      "          'electron content\\n'\n",
      "          'for {0:3}$^\\circ$ longitude'.format(lons[0]))\n",
      "plt.show()"
     ],
     "language": "python",
     "metadata": {
      "code_folding": []
     },
     "outputs": [],
     "prompt_number": 308
    },
    {
     "cell_type": "markdown",
     "metadata": {},
     "source": [
      "In order to have something more interesting to reconstruct (as our current ionosphere is stratified and boring), we can add a gaussian blob to the mix.."
     ]
    },
    {
     "cell_type": "code",
     "collapsed": false,
     "input": [
      "mesh = np.array(np.meshgrid(lats, lons, alts))\n",
      "mesh = mesh.swapaxes(0,3).swapaxes(0,2)\n",
      "print(mesh.shape)\n",
      "pos = (-14., 77., 400e3)\n",
      "sig = (3., 1., 200e3)\n",
      "blob = iono_model_utils.gaussian_blob_from_mesh(mesh, pos, sig)\n",
      "print(blob.shape)"
     ],
     "language": "python",
     "metadata": {},
     "outputs": [
      {
       "output_type": "stream",
       "stream": "stdout",
       "text": [
        "(10, 1, 18, 3)\n",
        "(10, 1, 18)\n"
       ]
      }
     ],
     "prompt_number": 311
    },
    {
     "cell_type": "code",
     "collapsed": false,
     "input": [
      "#blob = iono_model_utils.gaussian_blob(lats, lons, alts, pos=(12., 77., 500.), sig=(2, 10., 3))\n",
      "#print(blob.shape)\n",
      "#blob = blob.swapaxes(0,1).swapaxes(1,2)\n",
      "\n",
      "fig = plt.figure()\n",
      "ax = fig.add_subplot(1,1,1)\n",
      "ax.imshow(blob[:,0,:].T, origin='lower', interpolation='nearest')\n",
      "plt.show()"
     ],
     "language": "python",
     "metadata": {},
     "outputs": [],
     "prompt_number": 312
    },
    {
     "cell_type": "markdown",
     "metadata": {},
     "source": [
      "Combining the blob with our ionosphere image yields.."
     ]
    },
    {
     "cell_type": "code",
     "collapsed": false,
     "input": [
      "modified_grid = iono_grid - 0.2 * iono_grid.max() * blob\n",
      "modified_grid = (modified_grid - np.min(modified_grid)) / (np.max(modified_grid) - np.min(modified_grid))\n",
      "\n",
      "fig = plt.figure()\n",
      "ax = fig.add_subplot(1,1,1)\n",
      "ax.imshow(modified_grid[:,0,:].T, origin='lower', interpolation='nearest')\n",
      "plt.show()"
     ],
     "language": "python",
     "metadata": {},
     "outputs": [],
     "prompt_number": 313
    },
    {
     "cell_type": "markdown",
     "metadata": {},
     "source": [
      "Now we need to creat a projection matrix cooresponding to our ionosphere image.\n",
      "\n",
      "We start by defining the lines for our projections via receiver and transmitter points which define the lines."
     ]
    },
    {
     "cell_type": "code",
     "collapsed": false,
     "input": [
      "# Lima, Peru: 12.0433\u00b0 S, 77.0283\u00b0 W\n",
      "rx_pos = np.array([12.049, 77.0283, 0.]).reshape((1,3))\n",
      "tx_pos = np.array([19., 77., 10e6]).reshape((1,3))"
     ],
     "language": "python",
     "metadata": {},
     "outputs": [],
     "prompt_number": 314
    },
    {
     "cell_type": "code",
     "collapsed": false,
     "input": [
      "rx_pos = np.array([[10., 77.0283, 0.],\n",
      "                   [12., 77.0283, 0.],\n",
      "                   [14., 77.0283, 0.]])\n",
      "tx_pos = np.array([[19., 77., 10e6],\n",
      "                   [11., 77., 10e6],\n",
      "                   [4., 77., 10e6]])"
     ],
     "language": "python",
     "metadata": {},
     "outputs": [],
     "prompt_number": 315
    },
    {
     "cell_type": "code",
     "collapsed": false,
     "input": [
      "n_lines = 24\n",
      "\n",
      "# rx_lat = 8. + 8 * np.random.random_sample(n_lines)\n",
      "# rx_lat = np.linspace(8.,16.,n_lines)\n",
      "rx_lat = np.linspace(0.,-24.,n_lines)\n",
      "rx_lon = np.linspace(77.,77.,n_lines)\n",
      "rx_alt = np.linspace(0.,100.,n_lines)\n",
      "\n",
      "# tx_lat = 16. - 8 * np.random.random_sample(n_lines)\n",
      "# tx_lat = np.linspace(16.,8.,n_lines)\n",
      "tx_lat = np.linspace(-24.,0.,n_lines)\n",
      "tx_lon = np.linspace(77.,77.,n_lines)\n",
      "tx_alt = np.linspace(10e6,2e6,n_lines)\n",
      "\n",
      "rx_pos = np.array((rx_lat, rx_lon, rx_alt)).T\n",
      "tx_pos = np.array((tx_lat, tx_lon, tx_alt)).T\n",
      "rx_pos.shape"
     ],
     "language": "python",
     "metadata": {},
     "outputs": [
      {
       "metadata": {},
       "output_type": "pyout",
       "prompt_number": 316,
       "text": [
        "(24, 3)"
       ]
      }
     ],
     "prompt_number": 316
    },
    {
     "cell_type": "code",
     "collapsed": false,
     "input": [
      "rx_pos = coordinate_utils.geo2ecef(rx_pos)\n",
      "tx_pos = coordinate_utils.geo2ecef(tx_pos)\n",
      "line_pos = rx_pos\n",
      "line_dir = tx_pos - rx_pos\n",
      "line_dir = line_dir / np.linalg.norm(line_dir, axis=1)[:,None]\n",
      "lines = [(pos, dirc) for pos, dirc in zip(line_pos, line_dir)]"
     ],
     "language": "python",
     "metadata": {},
     "outputs": [],
     "prompt_number": 317
    },
    {
     "cell_type": "markdown",
     "metadata": {},
     "source": [
      "Then we get the projection matrix:"
     ]
    },
    {
     "cell_type": "code",
     "collapsed": false,
     "input": [
      "projmtx, intersections = projection_utils.geodetic_grid_projection_matrix(lats, lons, alts, lines)"
     ],
     "language": "python",
     "metadata": {},
     "outputs": [],
     "prompt_number": 318
    },
    {
     "cell_type": "markdown",
     "metadata": {},
     "source": [
      "Then we plot the projection matrix to verify that it looks correct."
     ]
    },
    {
     "cell_type": "code",
     "collapsed": false,
     "input": [
      "fig = plt.figure()\n",
      "ax = fig.add_subplot(1,1,1, projection='3d')\n",
      "plt.locator_params(nbins=3)\n",
      "# plot_utils.plot_projmtx(ax, lats, lons, alts, projmtx, intersections, lines, line_tau=2e6, plot_mesh=True)\n",
      "# plot_utils.plot_projmtx(ax, lats, lons, alts, projmtx, intersections, lines, line_tau=2e6, plot_mesh=True)\n",
      "plot_utils.plot_projmtx(ax, lats, lons, alts, projmtx, intersections=None, lines=lines, line_tau=2e6, plot_mesh=False)\n",
      "plt.show()"
     ],
     "language": "python",
     "metadata": {},
     "outputs": [],
     "prompt_number": 319
    },
    {
     "cell_type": "code",
     "collapsed": false,
     "input": [
      "#projmtx.reshape((n_lats, n_lons, n_alts), order='F')"
     ],
     "language": "python",
     "metadata": {},
     "outputs": [],
     "prompt_number": 320
    },
    {
     "cell_type": "code",
     "collapsed": false,
     "input": [
      "len(intersections)"
     ],
     "language": "python",
     "metadata": {},
     "outputs": [
      {
       "metadata": {},
       "output_type": "pyout",
       "prompt_number": 321,
       "text": [
        "800"
       ]
      }
     ],
     "prompt_number": 321
    },
    {
     "cell_type": "markdown",
     "metadata": {},
     "source": [
      "Next, we create our projection observations by right multiplying the projection matrix by our ionosphere grid."
     ]
    },
    {
     "cell_type": "code",
     "collapsed": false,
     "input": [
      "# p = projmtx.dot(modified_grid.reshape((n_lats * n_lons * n_alts, 1)))\n",
      "p = projmtx.dot(modified_grid.flatten(order='F'))\n",
      "p"
     ],
     "language": "python",
     "metadata": {},
     "outputs": [
      {
       "metadata": {},
       "output_type": "pyout",
       "prompt_number": 322,
       "text": [
        "array([   2830.47562848,    4924.09620893,    7818.01486211,\n",
        "         12118.19357588,   19573.51175559,   36426.47420581,\n",
        "        118702.25399522,  309176.08220015,  294565.22411537,\n",
        "        276135.68575567,  255524.82437898,  234792.36347003,\n",
        "        222490.52408669,  208024.91327778,  200570.76189907,\n",
        "        200483.72316486,  133789.91925715,   44258.27851433,\n",
        "         32846.68282789,   32367.91743781,   35019.81086051,\n",
        "         40742.78033997,   51048.97510621,   85895.78217271])"
       ]
      }
     ],
     "prompt_number": 322
    },
    {
     "cell_type": "markdown",
     "metadata": {},
     "source": [
      "Finally, we'll implement an ART reconstruction method and use it to reconstruct the ionosphere from the projections."
     ]
    },
    {
     "cell_type": "code",
     "collapsed": false,
     "input": [
      "def art(p, A, x0, relax=0.1, iters=1):\n",
      "    '''\n",
      "    Performs Algebraic Rconstruction Technique (ART) for finding the image\n",
      "    `x` given projections `p` and their relation to the image defined by\n",
      "    projection matrix `A`.\n",
      "    \n",
      "    see: http://en.wikipedia.org/wiki/Algebraic_Reconstruction_Technique\n",
      "    \n",
      "    parameters\n",
      "    ----------\n",
      "    p : the projections\n",
      "    A : the projection matrix\n",
      "    x0 : the initial guess for the reconstructed image\n",
      "    \n",
      "    returns\n",
      "    -------\n",
      "    x : the reconstructed image\n",
      "    '''\n",
      "    x = x0\n",
      "    n_rows = A.shape[0]\n",
      "    for _ in range(iters):\n",
      "        for i in range(n_rows):\n",
      "            normA = np.linalg.norm(A[i,:])\n",
      "            if normA == 0.:\n",
      "                continue\n",
      "            x = x + relax * ((p[i] - np.sum(A[i,:] * x)) / normA**2) * (A[i,:])\n",
      "    return x"
     ],
     "language": "python",
     "metadata": {
      "code_folding": []
     },
     "outputs": [],
     "prompt_number": 356
    },
    {
     "cell_type": "code",
     "collapsed": false,
     "input": [
      "def art(p, A, x0, relax=0.1, iters=1, only_positive=False):\n",
      "    \"\"\"\n",
      "    Performs algebraic reconstruction (using ART) of image`x` given projection \n",
      "    data `p` and a projection matrix `A` which satisfies\n",
      "    :math:`\\vec{p} = A\\vec{s}`\n",
      "    \n",
      "    Parameters\n",
      "    ----------\n",
      "    p : array_like, dtype=float\n",
      "        Array containing set of projection data.\n",
      "    A : array_like, dtype=float\n",
      "        Projection matrix for p.\n",
      "    x0 :  array_like, dtype=float\n",
      "        Initial guess for image vector.\n",
      "    relax : relaxation parameter\n",
      "    iters : int, optional\n",
      "        The number of iterations to perform during reconstruction.\n",
      "    only_positive : boolean, optional\n",
      "        Constrain reconstruction so that only positive values are allowed in\n",
      "        the image.\n",
      "        \n",
      "    Returns\n",
      "    -------\n",
      "    s : array_like, dtype=float\n",
      "        The reconstructed image.\n",
      "    \"\"\"\n",
      "    x = x0\n",
      "    SA2 = np.sum(np.inner(A,A),1)\n",
      "    ind = np.nonzero(SA2)[0]\n",
      "    for it in range(iters):\n",
      "        for i in range(len(ind)):\n",
      "            # s0 = s0 + lambda * a_i\n",
      "            lamb = (p[ind[i]] - A[ind[i],:].dot(x)) / SA2[ind[i]]\n",
      "            x = x + (lamb[0] * A[ind[i],:]).T\n",
      "            if only_positive:\n",
      "                x = np.maximum(s0,0)\n",
      "    return x"
     ],
     "language": "python",
     "metadata": {},
     "outputs": [],
     "prompt_number": 354
    },
    {
     "cell_type": "code",
     "collapsed": false,
     "input": [
      "p1 = projmtx.dot(modified_grid.flatten(order='c'))\n",
      "reconstructed_grid1 = art(p1, projmtx, iono_grid.flatten(order='c'), relax=0.1, iters=40)\n",
      "reconstructed_grid1 = reconstructed_grid1.reshape((n_lats, n_lons, n_alts))"
     ],
     "language": "python",
     "metadata": {},
     "outputs": [],
     "prompt_number": 357
    },
    {
     "cell_type": "code",
     "collapsed": false,
     "input": [
      "p2 = projmtx.dot(modified_grid.flatten(order='c'))\n",
      "reconstructed_grid2 = art(p2, projmtx, iono_grid.flatten(order='c'), relax=0.1, iters=40)\n",
      "reconstructed_grid2 = reconstructed_grid.reshape((n_lats, n_lons, n_alts))"
     ],
     "language": "python",
     "metadata": {},
     "outputs": [],
     "prompt_number": 358
    },
    {
     "cell_type": "code",
     "collapsed": false,
     "input": [
      "fig = plt.figure()\n",
      "ax = fig.add_subplot(161)\n",
      "ax.imshow(iono_grid[:,0,:].T, origin='lower', interpolation='nearest')\n",
      "ax = fig.add_subplot(162)\n",
      "ax.imshow(modified_grid[:,0,:].T, origin='lower', interpolation='nearest')\n",
      "ax = fig.add_subplot(163)\n",
      "ax.imshow(iono_grid[:,0,:].T - reconstructed_grid1[:,0,:].T, origin='lower', interpolation='nearest')\n",
      "ax = fig.add_subplot(164)\n",
      "ax.imshow(reconstructed_grid1[:,0,:].T, origin='lower', interpolation='nearest')\n",
      "ax = fig.add_subplot(165)\n",
      "ax.imshow(reconstructed_grid2[:,0,:].T, origin='lower', interpolation='nearest')\n",
      "ax = fig.add_subplot(166)\n",
      "ax.imshow(reconstructed_grid2[:,0,:].T - reconstructed_grid1[:,0,:].T, origin='lower', interpolation='nearest')\n",
      "\n",
      "fig = plt.figure()\n",
      "ax = fig.add_subplot(1,1,1, projection='3d')\n",
      "plt.locator_params(nbins=3)\n",
      "plot_utils.plot_projmtx(ax, lats, lons, alts, projmtx, intersections=None, lines=None, line_tau=2e6, plot_mesh=False)\n",
      "\n",
      "plt.show()"
     ],
     "language": "python",
     "metadata": {},
     "outputs": [],
     "prompt_number": 360
    },
    {
     "cell_type": "code",
     "collapsed": false,
     "input": [
      "iterations = [1, 2, 4, 8, 16, 32, 64, 128, 256]\n",
      "fig = plt.figure()\n",
      "for i, iters in enumerate(iterations):\n",
      "    reconstructed_grid = art(p, projmtx, iono_grid.flatten(), relax=0.02, iters=iters)\n",
      "    reconstructed_grid = reconstructed_grid.reshape((n_lats, n_lons, n_alts))\n",
      "    ax = fig.add_subplot(1, len(iterations), i+1)\n",
      "    ax.imshow(reconstructed_grid[:,0,:].T, origin='lower', interpolation='nearest', cmap='jet')\n",
      "plt.show()"
     ],
     "language": "python",
     "metadata": {},
     "outputs": [],
     "prompt_number": 350
    },
    {
     "cell_type": "code",
     "collapsed": false,
     "input": [
      "%pdb"
     ],
     "language": "python",
     "metadata": {},
     "outputs": [
      {
       "output_type": "stream",
       "stream": "stdout",
       "text": [
        "Automatic pdb calling has been turned OFF\n"
       ]
      }
     ],
     "prompt_number": 196
    },
    {
     "cell_type": "markdown",
     "metadata": {},
     "source": [
      ".\n",
      "\n",
      ".\n",
      "\n",
      ".\n",
      "\n",
      ".\n",
      "\n",
      ".\n",
      "\n",
      ".\n",
      "\n",
      ".\n",
      "\n",
      ".\n",
      "\n",
      ".\n",
      "\n",
      ".\n",
      "\n",
      ".\n",
      "\n",
      ".\n",
      "\n",
      ".\n",
      "\n",
      ".\n",
      "\n",
      ".\n",
      "\n",
      ".\n"
     ]
    }
   ],
   "metadata": {}
  }
 ]
}