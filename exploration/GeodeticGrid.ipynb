{
 "metadata": {
  "css": [
   ""
  ],
  "name": "",
  "signature": "sha256:3c09626d8b71c22b8001ffd54ffa8e80daaceb30b9ad8a5d463ade16ade7a0cb"
 },
 "nbformat": 3,
 "nbformat_minor": 0,
 "worksheets": [
  {
   "cells": [
    {
     "cell_type": "markdown",
     "metadata": {},
     "source": [
      "Here we're going to create a function `geodetic_grid_projection_matrix`."
     ]
    },
    {
     "cell_type": "code",
     "collapsed": false,
     "input": [
      "import numpy as np\n",
      "import scipy as sp"
     ],
     "language": "python",
     "metadata": {},
     "outputs": [],
     "prompt_number": 5
    },
    {
     "cell_type": "code",
     "collapsed": false,
     "input": [
      "def geo2ecef( geo ):\n",
      "    '''\n",
      "    Converts geodetic coordinates to ECEF coordinates\n",
      "    \n",
      "    see: \n",
      "    ----------\n",
      "    geo : N-by-3 ndarray : geodetic coordinates to convert\n",
      "    Returns\n",
      "    -------\n",
      "    N-by-3 array : ecef coordinates\n",
      "    '''\n",
      "\n",
      "    a = 6378137. # Earth semi-major axis (m)\n",
      "    rf = 298.257223563 # Reciprocal flattening (1/f)\n",
      "    b = a * (rf - 1) / rf # Earth semi-minor axis derived from f = (a - b) / a\n",
      "    lat = np.deg2rad(geo[:,0]); lon = np.deg2rad(geo[:,1]); h = geo[:,2]\n",
      "\n",
      "    N = a**2 / (np.sqrt(a**2 * np.cos(lat)**2 + b**2 * np.sin(lat)**2))\n",
      "    N1 = N * (b / a)**2\n",
      "\n",
      "    x = (N + h) * np.cos(lat) * np.cos(lon)\n",
      "    y = (N + h) * np.cos(lat) * np.sin(lon)\n",
      "    z = (N1 + h) * np.sin(lat)\n",
      "\n",
      "    x0 = np.column_stack((x, y, z))\n",
      "    return x0"
     ],
     "language": "python",
     "metadata": {},
     "outputs": [],
     "prompt_number": 6
    },
    {
     "cell_type": "code",
     "collapsed": false,
     "input": [
      "def line_plane_intersection(p0, u, v0, n):\n",
      "    '''\n",
      "    Calculates the intersection of a line with a plane in 3\n",
      "    dimensions.\n",
      "    \n",
      "    see: http://geomalgorithms.com/a05-_intersect-1.html\n",
      "    ----------\n",
      "    p0 : N-by-3 ndarray : point through which the line passes\n",
      "    u  : N-by-3 ndarray : unit vector of line direction\n",
      "    v0 : N-by-3 ndarray : point through which the plane passes\n",
      "    n  : N-by-3 ndarray : normal vector of plane\n",
      "    Returns\n",
      "    -------\n",
      "    N-by-3 array : intersection points of lines with planes\n",
      "    '''\n",
      "    w = p0 - v0\n",
      "    s = - np.sum(n * w) / np.sum(n * u)\n",
      "    return p0 + s * u\n",
      "\n",
      "\n",
      "def line_quadroid_intersection(line, corners):\n",
      "    '''\n",
      "    Computes the coordinates and indices of intersection of a line\n",
      "    through with a quadroid defined by corners.\n",
      "    ----------\n",
      "    line : 2-by-3 ndarray : line to project through the grid mesh\n",
      "    corners : 2-by-2-by-2-by-3 ndarray : grid mesh\n",
      "    Returns\n",
      "    -------\n",
      "    pnt1, pnt2 : points where the line intersects the quadroid, None\n",
      "        if no intersection occurs\n",
      "    '''\n",
      "    \n",
      "    ind_x = np.array([0,1,0,1,0,1,0,1])\n",
      "    ind_y = np.array([0,0,1,1,0,0,1,1])\n",
      "    ind_z = np.array([0,0,0,0,1,1,1,1])\n",
      "    \n",
      "    faces = np.array([(0,1,2,3),\n",
      "                      (0,2,4,6),\n",
      "                      (0,1,4,5),\n",
      "                      (1,3,5,7),\n",
      "                      (2,3,6,7),\n",
      "                      (4,5,6,7),\n",
      "                     ])\n",
      "    \n",
      "    p0, u = line\n",
      "    pnts = []\n",
      "    eps = 10e6\n",
      "    \n",
      "    for face in faces:\n",
      "        v = corners[ind_x[face], ind_y[face], ind_z[face], :]\n",
      "        v0, v1, v2, v3 = v[0,:], v[1,:], v[2,:], v[3,:]\n",
      "        n = np.cross(v2 - v0, v1 - v0)\n",
      "        if np.linalg.norm(np.cross(u, n)) > np.linalg.norm(n) - eps:\n",
      "            print('parallel')\n",
      "            continue\n",
      "        pnt = line_plane_intersection(p0, u, v0, n)\n",
      "        # determine if intersection lies within face\n",
      "        if      np.dot(pnt - v0, v1 - v0) > 0 and np.dot(pnt - v0, v2 - v0) > 0 and \\\n",
      "                np.dot(pnt - v1, v2 - v1) > 0 and np.dot(pnt - v1, v3 - v1) > 0 and \\\n",
      "                np.dot(pnt - v2, v3 - v2) > 0 and np.dot(pnt - v2, v0 - v2) > 0 and \\\n",
      "                np.dot(pnt - v3, v0 - v3) > 0 and np.dot(pnt - v3, v1 - v3) > 0:\n",
      "            pnts.append(pnt)\n",
      "    \n",
      "    if len(pnts) == 2:\n",
      "        return pnts[0], pnts[1]\n",
      "    elif len(pnts) == 1: # check, remove later\n",
      "        print('1 pnt')\n",
      "    elif len(pnts) > 2:\n",
      "        print('mas pnts')\n",
      "    return None\n",
      "\n",
      "\n",
      "def grid_mesh_from_centers(xs, ys, zs):\n",
      "    '''\n",
      "    Creates a grid mesh, i.e. points that define the corners of cells\n",
      "    whose centers lie at the intersections of the surfaces contained\n",
      "    in xs, ys, and zs.\n",
      "    ----------\n",
      "    xs : vector of scalars : horizontal grid boundaries\n",
      "    ys : vector of scalars : inward grid boundaries\n",
      "    zs : vector of scalars : vertical grid boundaries\n",
      "    Returns\n",
      "    -------\n",
      "    L-by-M-by-N-by-3 ndarray : the geodetic grid mesh\n",
      "    '''\n",
      "    nx, ny, nz = len(xs), len(ys), len(zs)\n",
      "    mesh = np.zeros((nx + 1, ny + 1, nz + 1, 3))\n",
      "    \n",
      "    mesh[1:-1,:,:,0] = xs[:-1,None,None] + 0.5 * (xs[1:] - xs[:-1])[:,None,None]\n",
      "    mesh[0,:,:,0] = xs[0] - 0.5 * (xs[1] - xs[0])\n",
      "    mesh[-1,:,:,0] = xs[-1] + 0.5 * (xs[-1] - xs[-2])\n",
      "\n",
      "    mesh[:,1:-1,:,1] = ys[None,:-1,None] + 0.5 * (ys[1:] - ys[:-1])[None,:,None]\n",
      "    mesh[:,0,:,1] = ys[0] - 0.5 * (ys[1] - ys[0])\n",
      "    mesh[:,-1,:,1] = ys[-1] + 0.5 * (ys[-1] - ys[-2])\n",
      "\n",
      "    mesh[:,:,1:-1,2] = zs[None,None,:-1] + 0.5 * (zs[1:] - zs[:-1])[None,None,:]\n",
      "    mesh[:,:,0,2] = zs[0] - 0.5 * (zs[1] - zs[0])\n",
      "    mesh[:,:,-1,2] = zs[-1] + 0.5 * (zs[-1] - zs[-2])\n",
      "    \n",
      "    return mesh\n",
      "\n",
      "\n",
      "def geodetic_grid_projection_matrix(lats, lons, alts, lines):\n",
      "    '''\n",
      "    Creates a projection matrix given the latitudes, longitudes, \n",
      "    and altitudes that define a given geodetic grid, and a set of\n",
      "    lines which traverse the grid.\n",
      "    ----------\n",
      "    lats : vector of scalars : latitudinal grid boundaries\n",
      "    lons : vector of scalars : longitudinal grid boundaries\n",
      "    alts : vector of scalars : altitude grid boundaries\n",
      "    lines : P-by-2-by-3 ndarray : lines to project through the grid\n",
      "    Returns\n",
      "    -------\n",
      "    P-by-N ndarray : the projection matrix\n",
      "    '''\n",
      "    n_lats, n_lons, n_alts, n_lines = len(lats), len(lons), len(alts), len(lines)\n",
      "    N = n_lats * n_lons * n_alts\n",
      "    \n",
      "    # get grid mesh--i.e. set of points defining grid regions\n",
      "    mesh = grid_mesh_from_centers(lats, lons, alts)\n",
      "    shape = mesh.shape\n",
      "    mesh = geo2ecef(mesh.reshape((shape[0] * shape[1] * shape[2], 3))).reshape(shape)\n",
      "    \n",
      "    projmtx = np.zeros((n_lines, N)); points = []\n",
      "    \n",
      "    for l, line in enumerate(lines):\n",
      "        for k in range(n_alts):\n",
      "            for j in range(n_lons):\n",
      "                for i in range(n_lats):\n",
      "                    corners = mesh[i:i+2,j:j+2,k:k+2]\n",
      "                    pnts = line_quadroid_intersection(line, corners)\n",
      "                    if not pnts:\n",
      "                        continue\n",
      "                    #print('yay')\n",
      "                    for p in pnts: # TODO get rid of\n",
      "                        points.append(p)\n",
      "                    projmtx[l, i + j * n_lats + k * n_lats * n_lons] = np.linalg.norm(pnts[1] - pnts[0])\n",
      "    return projmtx, points"
     ],
     "language": "python",
     "metadata": {},
     "outputs": [],
     "prompt_number": 113
    },
    {
     "cell_type": "code",
     "collapsed": false,
     "input": [
      "import matplotlib.pyplot as plt\n",
      "from mpl_toolkits.mplot3d import Axes3D"
     ],
     "language": "python",
     "metadata": {},
     "outputs": [],
     "prompt_number": 114
    },
    {
     "cell_type": "code",
     "collapsed": false,
     "input": [
      "def plot_line(ax, p0, u, tau):\n",
      "    tau = np.array([0, tau])\n",
      "    line = p0 + (u[None,:] * tau[:,None]).squeeze()\n",
      "    ax.plot(line[:,0], line[:,1], line[:,2], 'g')"
     ],
     "language": "python",
     "metadata": {},
     "outputs": [],
     "prompt_number": 115
    },
    {
     "cell_type": "code",
     "collapsed": false,
     "input": [
      "lats = np.linspace(5., 15., 3)\n",
      "lons = np.linspace(270., 280., 5)\n",
      "alts = np.linspace(200e3, 800e3, 4)\n",
      "\n",
      "# rx_pos = np.array([[10., 275., 0.],\n",
      "#                    [11., 275., 0.]])\n",
      "# tx_pos = np.array([[10., 275., 100],\n",
      "#                    [16, 276., 20e6]])\n",
      "rx_pos = np.array([11., 273., 0.]).reshape((1,3))\n",
      "tx_pos = np.array([19., 293., 10e6]).reshape((1,3))\n",
      "rx_pos = geo2ecef(rx_pos)\n",
      "tx_pos = geo2ecef(tx_pos)\n",
      "line_pos = rx_pos\n",
      "line_dir = tx_pos - rx_pos\n",
      "line_dir = line_dir / np.linalg.norm(line_dir, axis=1)[:,None]\n",
      "\n",
      "lines = [(pos, dirc) for pos, dirc in zip(line_pos, line_dir)]\n",
      "# lines = [(line_pos[0], line_dir[0]), (line_pos[1], line_dir[1])]\n",
      "\n",
      "n_lats, n_lons, n_alts, n_lines = len(lats), len(lons), len(alts), len(lines)\n",
      "N = n_lats * n_lons * n_alts\n",
      "\n",
      "fig = plt.figure()\n",
      "ax = fig.add_subplot(1,1,1, projection='3d')\n",
      "\n",
      "projmtx, intrsct_pnts = geodetic_grid_projection_matrix(lats, lons, alts, lines)\n",
      "\n",
      "intrsct_pnts = np.array(intrsct_pnts)\n",
      "ax.scatter3D(intrsct_pnts[:,0], intrsct_pnts[:,1], intrsct_pnts[:,2])\n",
      "\n",
      "colors = projmtx[0,:]\n",
      "colors = colors.reshape((N, 1)).repeat(4, axis=1) / np.max(colors)\n",
      "colors[:,0] = 0.\n",
      "colors[:,3] = .75\n",
      "\n",
      "x, y, z = np.meshgrid(lats, lons, alts)\n",
      "pnts = np.concatenate((x[:,:,:,None], y[:,:,:,None], z[:,:,:,None]), axis=3)\n",
      "pnts = pnts.swapaxes(0,1)\n",
      "pnts = pnts.reshape((N, 3), order='f')\n",
      "pnts = geo2ecef(pnts)\n",
      "print(pnts.shape)\n",
      "\n",
      "ax.scatter3D(pnts[:,0], pnts[:,1], pnts[:,2], c=colors, s=70)\n",
      "\n",
      "mesh = grid_mesh_from_centers(lats, lons, alts)\n",
      "shape = mesh.shape\n",
      "mesh = geo2ecef(mesh.reshape((shape[0] * shape[1] * shape[2], 3))).reshape(shape)\n",
      "ax.scatter3D(mesh[:,:,:,0].flatten(), mesh[:,:,:,1].flatten(), mesh[:,:,:,2].flatten(), c=(1,0,1,.2), s=5)\n",
      "\n",
      "for line in lines:\n",
      "    plot_line(ax, line[0], line[1], 2e6)\n",
      "    \n",
      "print(projmtx)\n",
      "plt.show()"
     ],
     "language": "python",
     "metadata": {},
     "outputs": [
      {
       "output_type": "stream",
       "stream": "stdout",
       "text": [
        "mas pnts\n",
        "(60, 3)\n",
        "[[      0.               0.               0.               0.\n",
        "    55498.65656719       0.               0.          181069.57999072\n",
        "        0.               0.               0.               0.               0.\n",
        "        0.               0.               0.               0.               0.\n",
        "        0.               0.               0.               0.\n",
        "   235202.22757284       0.               0.               0.               0.\n",
        "        0.               0.               0.               0.               0.\n",
        "        0.               0.               0.               0.               0.\n",
        "   200877.21212603       0.               0.               0.\n",
        "     8807.37251445       0.               0.               0.               0.\n",
        "        0.               0.               0.               0.               0.\n",
        "        0.               0.               0.               0.\n",
        "   229945.70006665  225418.90216441       0.               0.               0.        ]]"
       ]
      },
      {
       "output_type": "stream",
       "stream": "stdout",
       "text": [
        "\n"
       ]
      }
     ],
     "prompt_number": 127
    },
    {
     "cell_type": "code",
     "collapsed": false,
     "input": [
      "# corners = [[[[10., 270., 1e5], [10., 270., 1e5]],\n",
      "#             [[10., 270., 2e5], [10., 270., 3e5]]],\n",
      "#            [[[10., 270., 4e5], [10., 270., 5e5]],\n",
      "#             [[10., 270., 6e5], [10., 270., 7e5]]]]\n",
      "rx_pos = np.array([20., 275., 0.]).reshape((1,3))\n",
      "tx_pos = np.array([20., 295., 20e6]).reshape((1,3))\n",
      "rx_pos = geo2ecef(rx_pos)\n",
      "tx_pos = geo2ecef(tx_pos)\n",
      "u = (tx_pos - rx_pos) / np.linalg.norm(tx_pos - rx_pos)\n",
      "corners = [[[[10., 270., 1e4], [30., 270., 1e4]],\n",
      "            [[10., 280., 1e4], [30., 280., 1e4]]],\n",
      "           [[[10., 270., 2e5], [30., 270., 2e5]],\n",
      "            [[10., 280., 2e5], [30., 280., 2e5]]]]\n",
      "corners = np.array(corners)\n",
      "print(corners[0,1,:])\n",
      "corners = geo2ecef(corners.reshape((8,3))).reshape((2,2,2,3), order='c')\n",
      "print(np.linalg.norm(corners[0,1,0]))\n",
      "print(np.linalg.norm(corners[0,1,1]))\n",
      "\n",
      "pnts = line_quadroid_intersection((rx_pos, u), corners)\n",
      "\n",
      "fig = plt.figure()\n",
      "ax = fig.add_subplot(1,1,1, projection='3d')\n",
      "\n",
      "print(pnts[0].shape)\n",
      "ax.scatter3D(corners[:,:,:,0], corners[:,:,:,1], corners[:,:,:,2], c=(0,1,0))\n",
      "ax.scatter3D(pnts[0][0,0], pnts[0][0,1], pnts[0][0,2], c=(0,0,0))\n",
      "ax.scatter3D(pnts[1][0,0], pnts[1][0,1], pnts[1][0,2], c=(1,1,1))\n",
      "plot_line(ax, rx_pos, u, 5e6)\n",
      "plt.show()\n",
      "\n",
      "print(np.linalg.norm(pnts[1] - pnts[0]))"
     ],
     "language": "python",
     "metadata": {},
     "outputs": [
      {
       "output_type": "stream",
       "stream": "stdout",
       "text": [
        "[[    10.    280.  10000.]\n",
        " [    30.    280.  10000.]]\n",
        "6387497.39558\n",
        "6382824.37821\n",
        "mas pnts\n"
       ]
      },
      {
       "ename": "TypeError",
       "evalue": "'NoneType' object has no attribute '__getitem__'",
       "output_type": "pyerr",
       "traceback": [
        "\u001b[0;31m---------------------------------------------------------------------------\u001b[0m\n\u001b[0;31mTypeError\u001b[0m                                 Traceback (most recent call last)",
        "\u001b[0;32m<ipython-input-122-d32747d7e6e1>\u001b[0m in \u001b[0;36m<module>\u001b[0;34m()\u001b[0m\n\u001b[1;32m     23\u001b[0m \u001b[0max\u001b[0m \u001b[0;34m=\u001b[0m \u001b[0mfig\u001b[0m\u001b[0;34m.\u001b[0m\u001b[0madd_subplot\u001b[0m\u001b[0;34m(\u001b[0m\u001b[0;36m1\u001b[0m\u001b[0;34m,\u001b[0m\u001b[0;36m1\u001b[0m\u001b[0;34m,\u001b[0m\u001b[0;36m1\u001b[0m\u001b[0;34m,\u001b[0m \u001b[0mprojection\u001b[0m\u001b[0;34m=\u001b[0m\u001b[0;34m'3d'\u001b[0m\u001b[0;34m)\u001b[0m\u001b[0;34m\u001b[0m\u001b[0m\n\u001b[1;32m     24\u001b[0m \u001b[0;34m\u001b[0m\u001b[0m\n\u001b[0;32m---> 25\u001b[0;31m \u001b[0;32mprint\u001b[0m\u001b[0;34m(\u001b[0m\u001b[0mpnts\u001b[0m\u001b[0;34m[\u001b[0m\u001b[0;36m0\u001b[0m\u001b[0;34m]\u001b[0m\u001b[0;34m.\u001b[0m\u001b[0mshape\u001b[0m\u001b[0;34m)\u001b[0m\u001b[0;34m\u001b[0m\u001b[0m\n\u001b[0m\u001b[1;32m     26\u001b[0m \u001b[0max\u001b[0m\u001b[0;34m.\u001b[0m\u001b[0mscatter3D\u001b[0m\u001b[0;34m(\u001b[0m\u001b[0mcorners\u001b[0m\u001b[0;34m[\u001b[0m\u001b[0;34m:\u001b[0m\u001b[0;34m,\u001b[0m\u001b[0;34m:\u001b[0m\u001b[0;34m,\u001b[0m\u001b[0;34m:\u001b[0m\u001b[0;34m,\u001b[0m\u001b[0;36m0\u001b[0m\u001b[0;34m]\u001b[0m\u001b[0;34m,\u001b[0m \u001b[0mcorners\u001b[0m\u001b[0;34m[\u001b[0m\u001b[0;34m:\u001b[0m\u001b[0;34m,\u001b[0m\u001b[0;34m:\u001b[0m\u001b[0;34m,\u001b[0m\u001b[0;34m:\u001b[0m\u001b[0;34m,\u001b[0m\u001b[0;36m1\u001b[0m\u001b[0;34m]\u001b[0m\u001b[0;34m,\u001b[0m \u001b[0mcorners\u001b[0m\u001b[0;34m[\u001b[0m\u001b[0;34m:\u001b[0m\u001b[0;34m,\u001b[0m\u001b[0;34m:\u001b[0m\u001b[0;34m,\u001b[0m\u001b[0;34m:\u001b[0m\u001b[0;34m,\u001b[0m\u001b[0;36m2\u001b[0m\u001b[0;34m]\u001b[0m\u001b[0;34m,\u001b[0m \u001b[0mc\u001b[0m\u001b[0;34m=\u001b[0m\u001b[0;34m(\u001b[0m\u001b[0;36m0\u001b[0m\u001b[0;34m,\u001b[0m\u001b[0;36m1\u001b[0m\u001b[0;34m,\u001b[0m\u001b[0;36m0\u001b[0m\u001b[0;34m)\u001b[0m\u001b[0;34m)\u001b[0m\u001b[0;34m\u001b[0m\u001b[0m\n\u001b[1;32m     27\u001b[0m \u001b[0max\u001b[0m\u001b[0;34m.\u001b[0m\u001b[0mscatter3D\u001b[0m\u001b[0;34m(\u001b[0m\u001b[0mpnts\u001b[0m\u001b[0;34m[\u001b[0m\u001b[0;36m0\u001b[0m\u001b[0;34m]\u001b[0m\u001b[0;34m[\u001b[0m\u001b[0;36m0\u001b[0m\u001b[0;34m,\u001b[0m\u001b[0;36m0\u001b[0m\u001b[0;34m]\u001b[0m\u001b[0;34m,\u001b[0m \u001b[0mpnts\u001b[0m\u001b[0;34m[\u001b[0m\u001b[0;36m0\u001b[0m\u001b[0;34m]\u001b[0m\u001b[0;34m[\u001b[0m\u001b[0;36m0\u001b[0m\u001b[0;34m,\u001b[0m\u001b[0;36m1\u001b[0m\u001b[0;34m]\u001b[0m\u001b[0;34m,\u001b[0m \u001b[0mpnts\u001b[0m\u001b[0;34m[\u001b[0m\u001b[0;36m0\u001b[0m\u001b[0;34m]\u001b[0m\u001b[0;34m[\u001b[0m\u001b[0;36m0\u001b[0m\u001b[0;34m,\u001b[0m\u001b[0;36m2\u001b[0m\u001b[0;34m]\u001b[0m\u001b[0;34m,\u001b[0m \u001b[0mc\u001b[0m\u001b[0;34m=\u001b[0m\u001b[0;34m(\u001b[0m\u001b[0;36m0\u001b[0m\u001b[0;34m,\u001b[0m\u001b[0;36m0\u001b[0m\u001b[0;34m,\u001b[0m\u001b[0;36m0\u001b[0m\u001b[0;34m)\u001b[0m\u001b[0;34m)\u001b[0m\u001b[0;34m\u001b[0m\u001b[0m\n",
        "\u001b[0;31mTypeError\u001b[0m: 'NoneType' object has no attribute '__getitem__'"
       ]
      }
     ],
     "prompt_number": 122
    },
    {
     "cell_type": "code",
     "collapsed": false,
     "input": [
      "lats = np.linspace(5.,15.,3)\n",
      "lons = np.linspace(270., 280., 3)\n",
      "alts = np.linspace(200e3, 500e3, 4)\n",
      "\n",
      "line_pos = np.array([[10., 275., 0.],\n",
      "                    [12., 285., 10.]])\n",
      "line_pos = geo2ecef(line_pos)\n",
      "line_dir = np.array([[-1., -1., -1.,],\n",
      "                     [-15., -9., -10.]])\n",
      "line_dir = line_dir / np.linalg.norm(line_dir, axis=1)[:,None]\n",
      "\n",
      "lines = [(line_pos[0], line_dir[0]), (line_pos[1], line_dir[1])]\n",
      "\n",
      "mesh = grid_mesh_from_centers(lats, lons, alts)\n",
      "shape = mesh.shape\n",
      "mesh = geo2ecef(mesh.reshape((shape[0] * shape[1] * shape[2], 3))).reshape(shape)"
     ],
     "language": "python",
     "metadata": {},
     "outputs": []
    },
    {
     "cell_type": "code",
     "collapsed": false,
     "input": [
      "fig = plt.figure()\n",
      "ax = fig.add_subplot(1,1,1, projection='3d')\n",
      "ax.plot(mesh[:,:,:,0].flatten(), mesh[:,:,:,1].flatten(), mesh[:,:,:,2].flatten(), 'bo')\n",
      "plot_line(ax, lines[0][0], lines[0][1], 2e6)\n",
      "plot_line(ax, lines[1][0], lines[1][1], 2e6)\n",
      "plt.show()"
     ],
     "language": "python",
     "metadata": {},
     "outputs": [],
     "prompt_number": 24
    },
    {
     "cell_type": "code",
     "collapsed": false,
     "input": [
      "xs = ys = zs = np.linspace(0., 4., 5)\n",
      "nx, ny, nz = len(xs), len(ys), len(zs)\n",
      "z, y, x = np.meshgrid(xs, ys, zs)\n",
      "mesh = np.array([x, y, z])"
     ],
     "language": "python",
     "metadata": {},
     "outputs": [],
     "prompt_number": 168
    },
    {
     "cell_type": "code",
     "collapsed": false,
     "input": [
      "mesh.shape"
     ],
     "language": "python",
     "metadata": {},
     "outputs": [
      {
       "metadata": {},
       "output_type": "pyout",
       "prompt_number": 101,
       "text": [
        "(3, 5, 5, 5)"
       ]
      }
     ],
     "prompt_number": 101
    },
    {
     "cell_type": "code",
     "collapsed": false,
     "input": [
      "mesh = mesh.swapaxes(0, 3)\n",
      "mesh.shape"
     ],
     "language": "python",
     "metadata": {},
     "outputs": [
      {
       "metadata": {},
       "output_type": "pyout",
       "prompt_number": 104,
       "text": [
        "(5, 5, 5, 3)"
       ]
      }
     ],
     "prompt_number": 104
    },
    {
     "cell_type": "code",
     "collapsed": false,
     "input": [
      "newmesh = np.zeros((nz+1, ny+1, nx+1, 3))\n",
      "newmesh[1:-1,:,:,0] = xs[:-1,None,None] + 0.5 * (xs[1:] - xs[:-1])[:,None,None]\n",
      "newmesh[0,:,:,0] = xs[0] - 0.5 * (xs[1] - xs[0])\n",
      "newmesh[-1,:,:,0] = xs[-1] + 0.5 * (xs[-1] - xs[-2])\n",
      "\n",
      "newmesh[:,1:-1,:,1] = ys[None,:-1,None] + 0.5 * (ys[1:] - ys[:-1])[None,:,None]\n",
      "newmesh[:,0,:,1] = ys[0] - 0.5 * (xs[1] - xs[0])\n",
      "newmesh[:,-1,:,1] = ys[-1] + 0.5 * (xs[-1] - xs[-2])\n",
      "\n",
      "newmesh[:,:,1:-1,2] = zs[None,None,:-1] + 0.5 * (zs[1:] - zs[:-1])[None,None,:]\n",
      "newmesh[:,:,0,2] = zs[0] - 0.5 * (zs[1] - zs[0])\n",
      "newmesh[:,:,-1,2] = zs[-1] + 0.5 * (zs[-1] - zs[-2])\n",
      "\n",
      "newmesh[:,0,0,:]"
     ],
     "language": "python",
     "metadata": {},
     "outputs": [
      {
       "metadata": {},
       "output_type": "pyout",
       "prompt_number": 78,
       "text": [
        "array([[-0.5, -0.5, -0.5],\n",
        "       [ 0.5, -0.5, -0.5],\n",
        "       [ 1.5, -0.5, -0.5],\n",
        "       [ 2.5, -0.5, -0.5],\n",
        "       [ 3.5, -0.5, -0.5],\n",
        "       [ 4.5, -0.5, -0.5]])"
       ]
      }
     ],
     "prompt_number": 78
    },
    {
     "cell_type": "code",
     "collapsed": false,
     "input": [
      "a = np.arange(15).reshape((5,3))\n",
      "a[(1,3),:]"
     ],
     "language": "python",
     "metadata": {},
     "outputs": [
      {
       "metadata": {},
       "output_type": "pyout",
       "prompt_number": 118,
       "text": [
        "array([[ 3,  4,  5],\n",
        "       [ 9, 10, 11]])"
       ]
      }
     ],
     "prompt_number": 118
    },
    {
     "cell_type": "code",
     "collapsed": false,
     "input": [
      "a = np.array([1,0,0])\n",
      "b = np.array([0,1,0])\n",
      "c = np.cross(a,b)\n",
      "c"
     ],
     "language": "python",
     "metadata": {},
     "outputs": [
      {
       "metadata": {},
       "output_type": "pyout",
       "prompt_number": 135,
       "text": [
        "array([0, 0, 1])"
       ]
      }
     ],
     "prompt_number": 135
    },
    {
     "cell_type": "code",
     "collapsed": false,
     "input": [
      "\n",
      "    \n",
      "    \n",
      "def line_mesh_intersection(line, mesh, intersection_points):\n",
      "    '''\n",
      "    Computes the coordinates and indices of intersection of a line\n",
      "    through a grid defined by a given mesh.\n",
      "    ----------\n",
      "    line : 2-by-3 ndarray : line to project through the grid mesh\n",
      "    mesh : L-by-M-by-N-by-3 ndarray : grid mesh\n",
      "    Returns\n",
      "    -------\n",
      "    bool : whether or not the line intersects\n",
      "    '''\n",
      "    # recursively find the intersection of the line with the grid mesh\n",
      "    # first check macroscopic quadroid defined by mesh corners\n",
      "    # recursively split mesh into 1/4ths to find exact overlap and indices\n",
      "    L, M, N, _ = mesh.shape\n",
      "    grid_corners = [mesh[0,0,0,:]\n",
      "                    mesh[-1,0,0,:]\n",
      "                    mesh[-1,-1,0,:]\n",
      "                    mesh[0,-1,0,:]\n",
      "                    mesh[0,0,-1,:]\n",
      "                    mesh[-1,0,-1,:]\n",
      "                    mesh[-1,-1,-1,:]\n",
      "                    mesh[0,-1,-1,:]]\n",
      "    \n",
      "    \n",
      "    \n",
      "def line_mesh_grid_weights(line, mesh):\n",
      "    '''\n",
      "    Computes the grid weights for the traversal of a line through a\n",
      "    grid defined by a given mesh.\n",
      "    ----------\n",
      "    mesh : 2-by-3 ndarray : grid mesh\n",
      "    line : 2-by-3 ndarray : line to project through the grid mesh\n",
      "    Returns\n",
      "    -------\n",
      "    P-by-N ndarray : the projection matrix\n",
      "    '''\n",
      "    nx, ny, nz, _ = mesh.shape\n",
      "    for k in range(nz):\n",
      "        for j in range(ny):\n",
      "            for i in range(nx):\n",
      "                grid_corners = [ \\\n",
      "                                mesh[i,j,k,:]\n",
      "                                mesh[i+1,j,k,:]\n",
      "                                mesh[i+1,j+1,k,:]\n",
      "                                mesh[i,j+1,k,:]\n",
      "                                mesh[i,j,k+1,:]\n",
      "                                mesh[-1,0,k+1,:]\n",
      "                                mesh[-1,-1,k+1,:]\n",
      "                                mesh[0,-1,k+1,:]\n",
      "                               ]\n",
      "                \n",
      "    "
     ],
     "language": "python",
     "metadata": {},
     "outputs": []
    }
   ],
   "metadata": {}
  }
 ]
}