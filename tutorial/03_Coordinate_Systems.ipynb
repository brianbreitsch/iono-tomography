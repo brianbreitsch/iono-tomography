{
 "metadata": {
  "css": [
   ""
  ],
  "name": "",
  "signature": "sha256:a55611a836e7c8b7f54e53af9a7a59da7ebda348d0ce20156364b56233cd4f2f"
 },
 "nbformat": 3,
 "nbformat_minor": 0,
 "worksheets": [
  {
   "cells": [
    {
     "cell_type": "markdown",
     "metadata": {},
     "source": [
      "http://en.wikipedia.org/wiki/International_Earth_Rotation_and_Reference_Systems_Service"
     ]
    }
   ],
   "metadata": {}
  }
 ]
}