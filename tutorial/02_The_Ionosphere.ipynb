{
 "metadata": {
  "css": [
   ""
  ],
  "name": "",
  "signature": "sha256:6509bf5ad7c7b11a64f0df38e11eaefa042f169d59813cc933f45344481c5fae"
 },
 "nbformat": 3,
 "nbformat_minor": 0,
 "worksheets": [
  {
   "cells": [
    {
     "cell_type": "markdown",
     "metadata": {},
     "source": [
      "<img src=\"../img/jro_logo.png\"/>"
     ]
    },
    {
     "cell_type": "markdown",
     "metadata": {},
     "source": [
      "# The Ionosphere"
     ]
    },
    {
     "cell_type": "markdown",
     "metadata": {},
     "source": [
      "In order to do a good job of reconstructing the ionosphere, we should establish what we already know about it. A plethora of researchers have published on the topic."
     ]
    },
    {
     "cell_type": "markdown",
     "metadata": {},
     "source": [
      "## International Reference Ionosphere (IRI)\n",
      "\n",
      "We want to be able to generate ionosphere profiles in order to test our algorithms. A good model to use for such testing is the International Reference Ionosphere (IRI) model. The NASA page for this model can be found here: http://iri.gsfc.nasa.gov/ \n",
      "\n",
      "The IRI is the de facto ionosphere model used in applications and data assimilation. Some reconstruction methods use base ionospheres generated from IRI simulations as their image bases. Many use the IRI for a base image from which to begin reconstruction."
     ]
    },
    {
     "cell_type": "markdown",
     "metadata": {},
     "source": [
      "## getting IRI model data\n",
      "\n",
      "It is most convenient to ask NASA's VITMO web interface for the data we want, rather than downloading the source and running the model ourselves. There is a web interface here: http://omniweb.gsfc.nasa.gov/vitmo/iri_vitmo.html\n",
      "\n",
      "The web interface is nice, but as soon as we start making many queries, it becomes tiring to use. We would like to automate the process. Fortunately, we can do so by using the low level interface, whose details can be found here: http://omniweb.gsfc.nasa.gov/vitmo/model_command_line_sample.txt\n",
      "\n",
      "*****************\n",
      "For wget command:\n",
      "\n",
      "`>wget --post-data \"model=iri_2012&year=2000&month=01&day=01&time_flag=0&hour=1.5&geo_flag=0.&latitude=50.&longitude=40.&height=100.&profile=1&start=100.&stop=2000.&step=50.&sun_n=&ion_n=&radio_f=&radio_f81=&htec_max=&ne_top=0.&imap=0.&ffof2=0.&ib0=2.&probab=0.&ffoE=0.&dreg=0.&tset=0.&icomp=0.&nmf2=0.&hmf2=0.&user_nme=0.&user_hme=0.&format=0&vars=06&vars=17&vars=18&linestyle=solid&charsize=&symbol=2&symsize=&yscale=Linear&xscale=Linear&imagex=640&imagey=480\" http://omniweb.gsfc.nasa.gov/cgi/vitmo/vitmo_model.cgi -O test_wget.txt`\n",
      "\n",
      "Requested data  will be saved at \"test_wget.txt\" file\n",
      "*****************\n",
      "\n",
      "Let's start by importing all the packages we'll use:"
     ]
    },
    {
     "cell_type": "code",
     "collapsed": false,
     "input": [
      "import requests\n",
      "from BeautifulSoup import BeautifulSoup\n",
      "import numpy as np\n",
      "from numpy import pi\n",
      "import scipy as sp\n",
      "from scipy import interpolate\n",
      "import matplotlib.pyplot as plt\n",
      "%matplotlib inline"
     ],
     "language": "python",
     "metadata": {},
     "outputs": [],
     "prompt_number": 1
    },
    {
     "cell_type": "markdown",
     "metadata": {},
     "source": [
      "Now, to handle the HTTP request, we use the *requests* module.\n",
      "\n",
      "Here is a demonstration:"
     ]
    },
    {
     "cell_type": "code",
     "collapsed": false,
     "input": [
      "url = 'http://omniweb.gsfc.nasa.gov/cgi/vitmo/vitmo_model.cgi'\n",
      "params = {  'model' : 'iri_2012',\n",
      "            'year' : 2000,\n",
      "            'month' : 1,\n",
      "            'day' : 1,\n",
      "            'time_flag' : 0,\n",
      "            'hour' : 12,\n",
      "            'geo_flag' : 0,\n",
      "            'latitude' : -11,\n",
      "            'longitude' : 270,\n",
      "            'height' : 100,\n",
      "            'profile' : 1,\n",
      "            'start' : 60,\n",
      "            'stop' : 1500,\n",
      "            'step' : 40,\n",
      "            'sun_n' : '',\n",
      "            'ion_n' : '',\n",
      "            'radio_f' : '',\n",
      "            'radio_f81' : '',\n",
      "            'htec_max' : '',\n",
      "            'ne_top' : 0,\n",
      "            'imap' : 0,\n",
      "            'ffof2' : 0,\n",
      "            'ib0' : 0,\n",
      "            'probab' : 0,\n",
      "            'ffoE' : 0,\n",
      "            'dreg' : 0,\n",
      "            'tset' : 0,\n",
      "            'icomp' : 0,\n",
      "            'nmf2' : 0,\n",
      "            'hmf2' : 0,\n",
      "            'user_nme' : 0,\n",
      "            'user_hme' : 0,\n",
      "            'format' : 0,\n",
      "            'vars' : 7,\n",
      "            'vars' : 17,\n",
      "            'vars' : 18,\n",
      "            'linestyle' : 'solid',\n",
      "            'charsize' : '',\n",
      "            'symbol' : 2,\n",
      "            'symsize' : '',\n",
      "            'yscale' : 'Linear',\n",
      "            'xscale' : 'Linear',\n",
      "            'imagex' : 640,\n",
      "            'imagey' : 480 }\n",
      "\n",
      "resp = requests.post(url, params)\n",
      "print(resp.text)"
     ],
     "language": "python",
     "metadata": {},
     "outputs": []
    },
    {
     "cell_type": "markdown",
     "metadata": {},
     "source": [
      "We would like to **parse the HTML** to extract the profile data from the **`pre` tag**. To do this, we use the module **`BeautifulSoup`**. In the following cell we create a useful function for obtaining vertical profiles from the IRI model."
     ]
    },
    {
     "cell_type": "code",
     "collapsed": false,
     "input": [
      "def iri_fetch(year,month,day,hour,lat,lon,start=60,stop=1500,step=40,var_nums=[6,17,18]):\n",
      "    url = 'http://omniweb.gsfc.nasa.gov/cgi/vitmo/vitmo_model.cgi'\n",
      "    params = [  ('model', 'iri_2012'),\n",
      "                ('year', year),\n",
      "                ('month', month),\n",
      "                ('day', day),\n",
      "                ('time_flag', 0),\n",
      "                ('hour', hour),\n",
      "                ('geo_flag', 0),\n",
      "                ('latitude', lat),\n",
      "                ('longitude', lon),\n",
      "                ('height', 100),\n",
      "                ('profile', 1),\n",
      "                ('start', start),\n",
      "                ('stop', stop),\n",
      "                ('step', step),\n",
      "                ('format', 0)]\n",
      "    for n in var_nums:\n",
      "        params.append(('vars',n))\n",
      "    resp = requests.post(url, params)\n",
      "    parsed = BeautifulSoup(resp.text)\n",
      "    pre = parsed.find('pre').text\n",
      "    lines = pre.split('\\n')\n",
      "    data = []\n",
      "    for line in lines[6:]:\n",
      "        data.append([float(f) for f in line.split()])\n",
      "    return np.array(data)"
     ],
     "language": "python",
     "metadata": {},
     "outputs": []
    },
    {
     "cell_type": "markdown",
     "metadata": {},
     "source": [
      "To test our function, we plot an electron content profile for January 1, 2014."
     ]
    },
    {
     "cell_type": "code",
     "collapsed": false,
     "input": [
      "lat, lon = -20, 283\n",
      "year, month, day = 2014, 1, 1\n",
      "hour = 12.0\n",
      "profile = iri_fetch(year,month,day,hour,lat,lon,var_nums=[6,17])\n",
      "\n",
      "fig, ax = plt.subplots()\n",
      "ax.plot(profile[:,1],profile[:,0])\n",
      "ax.set_xlabel('electron content'); ax.set_ylabel('height (km)');\n",
      "ax.set_title('IRI generated electron content\\nlat: {0}; lon: {1}\\n'\n",
      "          'for {2}-{3:0>2}-{4:0>2} at {5} local'.format(lat,lon,year,month,day,hour))\n",
      "mpld3.display(fig)"
     ],
     "language": "python",
     "metadata": {},
     "outputs": []
    },
    {
     "cell_type": "markdown",
     "metadata": {},
     "source": [
      "Awesome! The next step is to get vertical profiles for a set of different latitudes so we can construct a 2D region of electron content."
     ]
    },
    {
     "cell_type": "code",
     "collapsed": false,
     "input": [
      "lats = np.linspace(-40.,40.,12)\n",
      "data = []\n",
      "\n",
      "lon = 283\n",
      "year, month, day = 2014, 1, 1\n",
      "hour = 12.0\n",
      "for lat in lats:\n",
      "    data.append( (lat,iri_fetch(year,month,day,hour,lat,lon,var_nums=[6,17])) )\n",
      "    \n",
      "plt.subplot(1,1,1)\n",
      "\n",
      "for lat, profile in data:\n",
      "    plt.plot(profile[:,1],profile[:,0])\n",
      "\n",
      "plt.xlabel('electron content'); plt.ylabel('height (km)');\n",
      "plt.title('IRI generated electron content\\nfor various latitudes\\nlon: {0}\\n'\n",
      "          'for {1}-{2:0>2}-{3:0>2} at {4} local'.format(lon,year,month,day,hour))\n",
      "mpld3.display(plt.gcf())"
     ],
     "language": "python",
     "metadata": {},
     "outputs": []
    },
    {
     "cell_type": "markdown",
     "metadata": {},
     "source": [
      "Ideally, we would view this data in image form."
     ]
    },
    {
     "cell_type": "code",
     "collapsed": false,
     "input": [
      "profiles = [profile[:,1] for lat, profile in data]\n",
      "profiles = np.array(profiles)\n",
      "alts = data[0][1][:,0]\n",
      "\n",
      "profiles = profiles.T\n",
      "H, L = profiles.shape\n",
      "\n",
      "plt.subplot(1,1,1)\n",
      "plt.imshow(profiles, origin='lower', interpolation='nearest')\n",
      "plt.xlabel('latitude (degrees)'); plt.ylabel('height (km)');\n",
      "plt.xticks(np.arange(0,L,11),lats[::11]); plt.yticks(np.arange(0,H,4),alts[::4])\n",
      "plt.title('IRI generated electron content\\nfor various latitudes\\nlon: {0}\\n'\n",
      "          'for {1}-{2:0>2}-{3:0>2} at {4} local'.format(lon,year,month,day,hour))\n",
      "\n",
      "mpld3.display(plt.gcf())"
     ],
     "language": "python",
     "metadata": {},
     "outputs": []
    },
    {
     "cell_type": "markdown",
     "metadata": {},
     "source": [
      "Next, we would like to add a feature to the ionosphere image, like a trough depletion. We will attempt additive and multiplicative application of Gaussian function feature to the image."
     ]
    },
    {
     "cell_type": "code",
     "collapsed": false,
     "input": [
      "l, h = -20., 300.\n",
      "xm, ym, sigma = (l-lats[0])/(lats[-1]-lats[0])*L, (h-alts[0])/(alts[-1]-alts[0])*H, 5\n",
      "i, j = np.arange(L), np.arange(H)\n",
      "ii, jj = np.meshgrid(i,j)\n",
      "feat = np.exp(-((ii-xm)**2 + (jj-ym)**2) / sigma)\n",
      "\n",
      "# create a cubic spline interpolation function to get profile value at arbitrary location\n",
      "f = sp.interpolate.interp2d(i, j, profiles, kind='cubic')\n",
      "# use interp function to obtain electron content in original profiles at center point of gaussian feature, i.e. (xm,ym)\n",
      "orig_val = f(xm,ym)\n",
      "\n",
      "feat = feat * orig_val * 0.5\n",
      "                       \n",
      "plt.subplot(1,3,1)\n",
      "plt.imshow(profiles, origin='lower', interpolation='nearest')\n",
      "plt.xlabel('latitude (degrees)'); plt.ylabel('height (km)');\n",
      "plt.xticks(np.arange(0,L,11),lats[::11]); plt.yticks(np.arange(0,H,4),alts[::4])\n",
      "plt.title('original IRI generated\\nelectron content')\n",
      "\n",
      "plt.subplot(1,3,2)\n",
      "plt.imshow(feat, origin='lower', interpolation='nearest')\n",
      "plt.xlabel('latitude (degrees)'); plt.ylabel('height (km)');\n",
      "plt.xticks(np.arange(0,L,11),lats[::11]); plt.yticks(np.arange(0,H,4),alts[::4])\n",
      "plt.title('electron content\\ndepletion feature')\n",
      "\n",
      "plt.subplot(1,3,3)\n",
      "plt.imshow(profiles - feat, origin='lower', interpolation='nearest')\n",
      "plt.xlabel('latitude (degrees)'); plt.ylabel('height (km)');\n",
      "plt.xticks(np.arange(0,L,11),lats[::11]); plt.yticks(np.arange(0,H,4),alts[::4])\n",
      "plt.title('modified IRI generated\\nelectron content')\n",
      "\n",
      "\n",
      "mpld3.display(plt.gcf())"
     ],
     "language": "python",
     "metadata": {},
     "outputs": []
    },
    {
     "cell_type": "markdown",
     "metadata": {},
     "source": [
      "Okay, so we have developed a procedure for generating interesting ionosphere images. Now we should compile these in way that will make them easy to use in the future."
     ]
    },
    {
     "cell_type": "code",
     "collapsed": false,
     "input": [
      "class IRIFetcher:\n",
      "    \n",
      "    default_params = {\n",
      "                'model' : 'iri_2012',  'year' : 2000,         'month' : 1,\n",
      "                'day' : 1,             'time_flag' : 0,       'hour' : 1,\n",
      "                'geo_flag' : 0,        'latitude' : 0,        'longitude' : 0,\n",
      "                'height' : 100,        'profile' : 1,         'start' : 60,\n",
      "                'stop' : 1500,         'step' : 40,           'format' : 0,\n",
      "                'sun_n' : '',          'ion_n' : '',          'radio_f' : '',\n",
      "                'radio_f81' : '',      'htec_max' : '',       'ne_top' : 0,\n",
      "                'imap' : 0,            'ffof2' : 0,           'ib0' : 0,\n",
      "                'probab' : 0,          'ffoE' : 0,            'dreg' : 0,\n",
      "                'tset' : 0,            'icomp' : 0,           'nmf2' : 0,\n",
      "                'hmf2' : 0,            'user_nme' : 0,        'user_hme' : 0,\n",
      "                'format' : 0,          'linestyle' : 'solid', 'charsize' : '',\n",
      "                'symbol' : 2,          'symsize' : '',        'yscale' : 'Linear',\n",
      "                'xscale' : 'Linear',   'imagex' : 640,        'imagey' : 480,\n",
      "            }\n",
      "    \n",
      "    default_outputs = set([6, 17])\n",
      "    \n",
      "    default_url = 'http://omniweb.gsfc.nasa.gov/cgi/vitmo/vitmo_model.cgi'\n",
      "    \n",
      "    def __init__(self, params={}, outputs=[], url=None):\n",
      "        self.params = IRIFetcher.default_params\n",
      "        self.params.update(params)\n",
      "        self.outputs = IRIFetcher.default_outputs\n",
      "        self.outputs.update(outputs)\n",
      "        self.url = IRIFetcher.default_url if url is None else url\n",
      "        \n",
      "    def fetch(self):\n",
      "        pairs = []\n",
      "        for key, val in self.params.items():\n",
      "            pairs.append((key, val))\n",
      "        for val in self.outputs:\n",
      "            pairs.append(('vars', val))\n",
      "        resp = requests.post(self.url, pairs)\n",
      "        parsed = BeautifulSoup(resp.text)\n",
      "        pre = parsed.find('pre').text\n",
      "        lines = pre.split('\\n')\n",
      "        data = []\n",
      "        for line in lines[6:]:\n",
      "            data.append([float(f) for f in line.split()])\n",
      "        return data\n",
      "\n",
      "    def create_tec_image(self, lats=[], lons=[]):\n",
      "        \n",
      "        if not np.any(lats):\n",
      "            lats = [self.params['latitude']]\n",
      "        if not np.any(lons):\n",
      "            lons = [self.params['longitude']]\n",
      "        assert(-90 <= np.min(lats) <= np.max(lats) <= 90)\n",
      "        assert(0 <= np.min(lons) <= np.max(lons) <= 360)\n",
      "        \n",
      "        data0, data1 = [], []\n",
      "        for lat in lats:\n",
      "            for lon in lons:\n",
      "                self.params['latitude'], self.params['longitude'] = lat, lon\n",
      "                data1.append( self.fetch() )\n",
      "            data0.append(data1)\n",
      "            data1 = []\n",
      "        return np.array(data0)"
     ],
     "language": "python",
     "metadata": {},
     "outputs": []
    },
    {
     "cell_type": "code",
     "collapsed": false,
     "input": [
      "fetcher = IRIFetcher( \\\n",
      "                     params={'year':2014,'month':1,'day':1,'hour':12.0,'start':60,'stop':1500,'step':40},\n",
      "                     outputs=[6, 17]\n",
      "                    )\n",
      "lats, lons = np.linspace(-40,40,12), np.linspace(270,310,4)\n",
      "data = fetcher.create_tec_image(lats, lons)"
     ],
     "language": "python",
     "metadata": {},
     "outputs": []
    },
    {
     "cell_type": "code",
     "collapsed": false,
     "input": [
      "%config InlineBackend.figure_format = 'png'\n",
      "n_lat, n_lon, n_alt, _ = data.shape\n",
      "alts = data[0,0,:,1]\n",
      "profiles = data[:,:,:,0]\n",
      "profiles = np.squeeze(profiles.T)\n",
      "\n",
      "for i, lon in enumerate(lons):\n",
      "    plt.subplot(1,n_lon,i)\n",
      "    plt.imshow(profiles[:,i,:], origin='lower', interpolation='nearest')\n",
      "    plt.xlabel('latitude (degrees)'); plt.ylabel('height (km)');\n",
      "    plt.xticks(np.arange(0,n_lat,11),lats[::11]); plt.yticks(np.arange(0,n_alt,4),alts[::4])\n",
      "    plt.title('IRI generated\\n'\n",
      "              'electron content\\n'\n",
      "              'for {0:3.1}$^\\circ$ longitude'.format(lon))\n",
      "plt.tight_layout()\n",
      "\n",
      "plt.show()"
     ],
     "language": "python",
     "metadata": {},
     "outputs": []
    },
    {
     "cell_type": "markdown",
     "metadata": {},
     "source": [
      "This is the level of functionality we want.\n",
      "\n",
      "One last function that will be helpful is a `gaussian_blob` function. As you might guess, this function generates a gaussian function for a grid mesh defined by our latitude, longitude, and altitude partition. This will be useful for creating ionosphere features on which we can test our reconstruction algorithms."
     ]
    },
    {
     "cell_type": "code",
     "collapsed": false,
     "input": [
      "def gaussian_blob(lat, lon, alt, sig_lat, sig_lon, sig_alt, lats, lons, alts):\n",
      "    n_lats, n_lons, n_alts = len(lats), len(lons), len(alts)\n",
      "    lat2vox, lon2vox, alt2vox = n_lats/(lats[-1]-lats[0]), \\\n",
      "                                n_lons/(lons[-1]-lons[0]), \\\n",
      "                                n_alts/(alts[-1]-alts[0])\n",
      "    lat_m, lon_m, alt_m = (lat-lats[0])*lat2vox, \\\n",
      "                          (lon-lons[0])*lon2vox, \\\n",
      "                          (alt-alts[0])*alt2vox\n",
      "    sig_i, sig_j, sig_k = sig_lat*lat2vox, \\\n",
      "                          sig_lon*lon2vox, \\\n",
      "                          sig_alt*alt2vox\n",
      "    i, j, k = np.arange(n_lats), np.arange(n_lons), np.arange(n_alts)\n",
      "    ii, jj, kk = np.meshgrid(i,j,k)\n",
      "    return np.exp(-((ii-lat_m)**2/sig_i+(jj-lon_m)**2/sig_j+(kk-alt_m)**2/sig_k)).T"
     ],
     "language": "python",
     "metadata": {},
     "outputs": []
    },
    {
     "cell_type": "code",
     "collapsed": false,
     "input": [
      "feat = gaussian_blob(-20, 290, 300, 20, 10, 250, lats, lons, alts)\n",
      "\n",
      "ref = np.zeros(feat.shape)\n",
      "ref[0,0,:] = 1.\n",
      "feat = feat+ref\n",
      "\n",
      "for i, lon in enumerate(lons):\n",
      "    plt.subplot(1,n_lon,i)\n",
      "    plt.imshow(feat[:,:,i], origin='lower', interpolation='nearest')\n",
      "    plt.xlabel('latitude (degrees)'); plt.ylabel('height (km)');\n",
      "    plt.xticks(np.arange(0,n_lat,11),lats[::11]); plt.yticks(np.arange(0,n_alt,4),alts[::4])\n",
      "    plt.title('electron content feat.\\n'\n",
      "              'for {0:3.1}$^\\circ$ longitude'.format(lon))\n",
      "\n",
      "plt.show()"
     ],
     "language": "python",
     "metadata": {},
     "outputs": []
    },
    {
     "cell_type": "markdown",
     "metadata": {},
     "source": [
      "All this functionality we have created seems really useful! For that reason, we package these functions in a module aptly named `iono_model_utils`. You can import this module using the following code:"
     ]
    },
    {
     "cell_type": "code",
     "collapsed": false,
     "input": [
      "import imp\n",
      "iono_model_utils = imp.load_source('iono_model_utils', '../src/iono_model_utils.py')"
     ],
     "language": "python",
     "metadata": {},
     "outputs": []
    },
    {
     "cell_type": "markdown",
     "metadata": {},
     "source": [
      "Now we can fetch ionosphere images to use for testing our reconstruction and, later on, even use as image bases for more sophisticated reconstruction techniques (more on this later!)."
     ]
    }
   ],
   "metadata": {}
  }
 ]
}